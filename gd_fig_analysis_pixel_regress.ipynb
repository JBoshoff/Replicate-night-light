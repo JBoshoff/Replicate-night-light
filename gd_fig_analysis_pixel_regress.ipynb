{
 "cells": [
  {
   "cell_type": "code",
   "execution_count": 1,
   "metadata": {
    "scrolled": true
   },
   "outputs": [],
   "source": [
    "library(magrittr)"
   ]
  },
  {
   "cell_type": "code",
   "execution_count": 2,
   "metadata": {},
   "outputs": [],
   "source": [
    "as_matrix <- function(x) {x %>% as.character() %>% as.numeric() %>% as.matrix()}"
   ]
  },
  {
   "cell_type": "code",
   "execution_count": 3,
   "metadata": {},
   "outputs": [],
   "source": [
    "# credit: Fiona Burlig and Matt Woerman\n",
    "ConleySE <- function(ydata, xdata, latdata, londata, cutoff) {\n",
    "    # usual setup\n",
    "    n <- nrow(xdata)\n",
    "    k <- ncol(xdata)\n",
    "    betahat <- solve(t(xdata) %*% xdata) %*% t(xdata) %*% ydata\n",
    "    e <- ydata - xdata %*% betahat\n",
    "    # loop over all of the spatial units (aka observations)\n",
    "    meatWeight <- lapply(1:n, function(i) {\n",
    "        # turn longitude & latitude into KMs. 1 deg lat = 111 km, 1 deg lon = 111 km * cos(lat)\n",
    "        lonscale <- cos(latdata[i] * pi / 180) * 111\n",
    "        latscale <- 111\n",
    "        # distance --> use pythagorean theorem! who knew that was useful?\n",
    "        dist <- as.numeric(sqrt((latscale * (latdata[i] - latdata)) ^ 2\n",
    "                           + (lonscale*(londata[i] - londata))^2))\n",
    "        # set a window var = 1 iff observation j is within cutoff dist of obs i\n",
    "        window <- as.numeric(dist <= cutoff)\n",
    "        # this next part is where the magic happens. this thing makes:\n",
    "        # sum_j(X_iX_j'e_ie_j K(d_{ij})), and we make n of them - one for each i.\n",
    "        # double transpose here is because R is bad at dealing with 1 x something stuff.\n",
    "        # we want x_i'; this is an easy way to get it. Now for some dimensions\n",
    "        # (we want k x k at the end):\n",
    "        XeeXh <- ((t(t(xdata[i,])) %*% matrix(1, 1, n) * e[i,]) *\n",
    "                  # k x 1 1 x n 1 x 1\n",
    "                  (matrix(1, k, 1) %*% (t(e) * t(window)))) %*% xdata\n",
    "                  # k x 1 1 x n n x k\n",
    "        return(XeeXh)\n",
    "    })\n",
    "    # phew! Now let's make our sandwich. First, the meat = sum_i what we just made\n",
    "    meat <- (Reduce(\"+\", meatWeight)) / n\n",
    "    # and the usual bread\n",
    "    bread <- solve(t(xdata) %*% xdata)\n",
    "    # mmmm, delicious sandwich\n",
    "    sandwich <- n * (t(bread) %*% meat %*% bread)\n",
    "    # se as per usual\n",
    "    se <- sqrt(diag(sandwich))\n",
    "    output <- list(betahat, se)\n",
    "    names(output) <- c(\"betahat\", \"conleySE\")\n",
    "    return(output)\n",
    "}"
   ]
  },
  {
   "cell_type": "code",
   "execution_count": 4,
   "metadata": {},
   "outputs": [],
   "source": [
    "regress <- function(df, col_y) {\n",
    "    df <- df %>%\n",
    "        # cut x into bins\n",
    "        dplyr::mutate(x_bin=cut(df[['treat_eligible']],\n",
    "                                breaks=c(-Inf, 0, 1, 2, Inf),\n",
    "                                labels=c(0, 1, 2, 3)))\n",
    "\n",
    "    # show distribution\n",
    "    # print('Distribution of treat_eligible:')\n",
    "    # print(df %>% dplyr::count(x_bin))\n",
    "\n",
    "    # regression\n",
    "    reg <- lfe::felm(\n",
    "        formula(paste0(col_y, ' ~ factor(x_bin) | factor(eligible) | 0 | lat + lon')),\n",
    "        data=df %>% tidyr::drop_na(!! col_y),\n",
    "        keepCX=TRUE)\n",
    "    # print(summary(reg))\n",
    "\n",
    "    # calculate conley standard errors\n",
    "    # with a uniform kernel\n",
    "    se <- ConleySE(\n",
    "        ydata=as.matrix(reg$cY),\n",
    "        xdata=as.matrix(reg$cX),\n",
    "        latdata=as_matrix(reg$clustervar[['lat']]),\n",
    "        londata=as_matrix(reg$clustervar[['lon']]),\n",
    "        cutoff=3  # km\n",
    "    )\n",
    "\n",
    "    # collate result for plotting\n",
    "    res <- tibble::tibble(\n",
    "        x=c(1, 2, 3), beta=se$betahat, se=se$conleySE)\n",
    "    res <- rbind(c(0, 0, 0), res)\n",
    "    return(res)\n",
    "}"
   ]
  },
  {
   "cell_type": "code",
   "execution_count": 5,
   "metadata": {},
   "outputs": [],
   "source": [
    "working_dir <- 'output/fig-ate/'"
   ]
  },
  {
   "cell_type": "code",
   "execution_count": 6,
   "metadata": {},
   "outputs": [],
   "source": [
    "# set color palette\n",
    "palette <- c('#d7191c', '#fdae61', '#ffffbf', '#abd9e9', '#2c7bb6')"
   ]
  },
  {
   "cell_type": "code",
   "execution_count": 7,
   "metadata": {},
   "outputs": [],
   "source": [
    "for (col_y in c('area_sum', 'RGB_mean')) {\n",
    "    df <- readr::read_csv(\n",
    "        paste0(working_dir, 'main.csv'),\n",
    "        # to suppress warnings\n",
    "        col_type=readr::cols())\n",
    "    main_res <- regress(df=df, col_y=col_y)\n",
    "    placebo_res <- tibble::tibble()\n",
    "    for (i in c(0:9)) {\n",
    "        df <- readr::read_csv(\n",
    "            paste0(working_dir, 'placebo_', sprintf(\"%03d\", i), '.csv'),\n",
    "            # to suppress warnings\n",
    "            col_type=readr::cols())\n",
    "        res <- regress(df=df, col_y=col_y)\n",
    "        placebo_res <- rbind(placebo_res, res %>% dplyr::mutate(iter=i))\n",
    "    }\n",
    "    # plotting\n",
    "    g <- ggplot2::ggplot() +\n",
    "        ggplot2::geom_line(\n",
    "            data=placebo_res, ggplot2::aes(x=x, y=beta, group=iter), size=1, color='#dddddd') +\n",
    "        ggplot2::geom_line(\n",
    "            data=main_res, ggplot2::aes(x=x, y=beta), size=1, color='#d7191c') +\n",
    "        ggplot2::geom_point(\n",
    "            data=main_res, ggplot2::aes(x=x, y=beta), size=3, color='#d7191c') +\n",
    "        ggplot2::geom_errorbar(\n",
    "            data=main_res, ggplot2::aes(x=x, y=beta, ymin=beta - 1.96 * se, ymax=beta + 1.96 * se),\n",
    "            color='#d7191c', width=.3) +\n",
    "        ggplot2::theme_bw()\n",
    "    ggplot2::ggsave(paste0(working_dir, col_y, '_ate.pdf'), g, width=4, height=3)\n",
    "}"
   ]
  }
 ],
 "metadata": {
  "kernelspec": {
   "display_name": "R [conda env:r-env]",
   "language": "R",
   "name": "conda-env-r-env-r"
  },
  "language_info": {
   "codemirror_mode": "r",
   "file_extension": ".r",
   "mimetype": "text/x-r-source",
   "name": "R",
   "pygments_lexer": "r",
   "version": "3.6.1"
  }
 },
 "nbformat": 4,
 "nbformat_minor": 2
}
