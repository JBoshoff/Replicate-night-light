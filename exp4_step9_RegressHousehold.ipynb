{
 "cells": [
  {
   "cell_type": "code",
   "execution_count": 1,
   "metadata": {},
   "outputs": [],
   "source": [
    "%matplotlib inline"
   ]
  },
  {
   "cell_type": "code",
   "execution_count": 2,
   "metadata": {},
   "outputs": [],
   "source": [
    "import os\n",
    "import numpy as np\n",
    "import pandas as pd\n",
    "import geopandas as gpd\n",
    "import tqdm\n",
    "import statsmodels.api as sm\n",
    "import statsmodels.formula.api as smf\n",
    "import matplotlib.pyplot as plt\n",
    "import seaborn as sns\n",
    "import scipy.spatial\n",
    "from sklearn import svm\n",
    "from sklearn.model_selection import cross_val_score"
   ]
  },
  {
   "cell_type": "code",
   "execution_count": 3,
   "metadata": {},
   "outputs": [],
   "source": [
    "def winsorize(s, lower, upper):\n",
    "    \"\"\"Winsorizes a pandas series.\n",
    "    \n",
    "    Args:\n",
    "        s (pandas.Series): the series to be winsorized\n",
    "        lower, upper (int): number between 0 to 100\n",
    "    \"\"\"\n",
    "    return s.clip(np.nanpercentile(s.values, lower),\n",
    "                  np.nanpercentile(s.values, upper))"
   ]
  },
  {
   "cell_type": "code",
   "execution_count": 4,
   "metadata": {},
   "outputs": [],
   "source": [
    "def demean(df, column, by):\n",
    "    \"\"\"Demean a column in a pandas DataFrame.\n",
    "    \n",
    "    Args:\n",
    "        df (pandas.DataFrame): data\n",
    "        column (str): the column to be demeaned\n",
    "        by (list of str): the column names\n",
    "    \"\"\"\n",
    "    return (\n",
    "        df[column].values -\n",
    "        df.loc[:, by + [column]].groupby(by).transform(np.nanmean).values.squeeze())"
   ]
  },
  {
   "cell_type": "code",
   "execution_count": 14,
   "metadata": {},
   "outputs": [],
   "source": [
    "def plot(df, y, x,\n",
    "         treat='treat',\n",
    "         cmap={0: 'b', 1: 'r'},\n",
    "         frac=0.66, it=3):\n",
    "    # regression\n",
    "    results = smf.ols(y + ' ~ ' + treat, data=df.dropna(subset=[x, y])).fit()\n",
    "    y_coef = results.params[treat]\n",
    "    results = smf.ols(x + ' ~ ' + treat, data=df.dropna(subset=[x, y])).fit()\n",
    "    x_coef = results.params[treat]\n",
    "    results = smf.ols(x + ' ~ ' + y, data=df.dropna(subset=[x, y])).fit()\n",
    "    scale = results.params[y]\n",
    "    # make figure\n",
    "    fig, ax = plt.subplots()\n",
    "    lowess = sm.nonparametric.lowess(\n",
    "        df[y].values, df[x].values, frac=frac, it=it)\n",
    "    ax.plot(lowess[:, 0], lowess[:, 1], color='dimgray', linewidth=2)\n",
    "    for cmap_value, cmap_color in cmap.items():\n",
    "        y_col = df.loc[df[treat] == cmap_value, y]\n",
    "        x_col = df.loc[df[treat] == cmap_value, x]\n",
    "        lowess = sm.nonparametric.lowess(y_col, x_col, frac=frac, it=it)\n",
    "        ax.plot(lowess[:, 0], lowess[:, 1],\n",
    "                marker='x', color=cmap_color, alpha=0.5)\n",
    "    ax.set_title(\n",
    "        f'Observed effects on x: {x_coef:.4f}\\n' +\n",
    "        f'Estimated effects: {y_coef:.4f} * {scale:.4f} = {(y_coef * scale):.4f}')\n",
    "    ax.set_xlabel(x)\n",
    "    ax.set_ylabel(y)\n",
    "    return fig, ax"
   ]
  },
  {
   "cell_type": "code",
   "execution_count": 6,
   "metadata": {},
   "outputs": [],
   "source": [
    "np.random.seed(0)"
   ]
  },
  {
   "cell_type": "code",
   "execution_count": 7,
   "metadata": {},
   "outputs": [],
   "source": [
    "pd.set_option('display.max_rows', 300)"
   ]
  },
  {
   "cell_type": "code",
   "execution_count": 8,
   "metadata": {},
   "outputs": [],
   "source": [
    "CENSUS_GPS_IN_DIR = 'data/GiveDirectly/Survey/GE_HH_Census_2017-07-17_cleanGPS.csv'\n",
    "CENSUS_MASTER_IN_DIR = 'data/GiveDirectly/Survey/GE_HH-Census_Analysis_RA_2017-07-17.dta'\n",
    "SURVEY_HHSIZE_IN_DIR = 'data/GiveDirectly/Survey/GE_HH-Survey_S1_S4_2016-08-16.dta'\n",
    "SURVEY_IN_DIR = 'data/GiveDirectly/Survey/GE_Luna_Extract_2018-09-19.dta'\n",
    "SAT_IN_GEOM_DIR = 'data/Experiment4/sat.geojson'\n",
    "\n",
    "OUT_DIR = 'data/Experiment4/output/'"
   ]
  },
  {
   "cell_type": "markdown",
   "metadata": {},
   "source": [
    "## GE Survey\n",
    "\n",
    "Potential reasons for low correlation coefficients:\n",
    "\n",
    "- Homogenous unrepresentative sample on eligible households (highly likely)\n",
    "- Misspecified outcome variable (highly likely)\n",
    "- Substitution between roof materials and consumption in treated sample (somewhat likely)\n",
    "- crappy ML prediction of building polygon, missing thatched roof buildings (somewhat likely)\n",
    "- Imperfect geocoding, matched to neighbors or non-residential structures (somewhat likely)\n",
    "- Time mismatch between satellite and survey (unlikely)"
   ]
  },
  {
   "cell_type": "code",
   "execution_count": 9,
   "metadata": {},
   "outputs": [],
   "source": [
    "df_svy = pd.read_stata(SURVEY_IN_DIR)\n",
    "df_svy = df_svy.dropna(\n",
    "    subset=['s19_gps_latitude', 's19_gps_longitude',\n",
    "            'p1_assets_wins', 'p2_consumption_wins']).reset_index(drop=True)\n",
    "df_svy.loc[:, 'village_code'] = df_svy['s1_hhid_key'].str.split('-', expand=True).loc[:, 0]\n",
    "df_svy.loc[:, 's1_hhid_key'] = df_svy['s1_hhid_key'].str.replace('-', '')\n",
    "\n",
    "df_svy = df_svy.loc[:, [\n",
    "    's19_gps_latitude', 's19_gps_longitude',\n",
    "    's1_hhid_key', 's6_q1_haselectricity', 'p1_6_nonthatchedroof',\n",
    "    'p2_consumption_wins', 'treat', 'p1_assets_wins', 'village_code',\n",
    "    'satcluster',\n",
    "]]"
   ]
  },
  {
   "cell_type": "markdown",
   "metadata": {},
   "source": [
    "Note to self: this part needs more work. Several issues:\n",
    "\n",
    "1. Is this version of survey the final one? Hard to tell from what I can see in Dropbox. Maybe I should ask Michael to send another version.\n",
    "2. There are duplicates in survey_id. I checked and the duplicates all have this structure: two observations with the same survey_id, one with the correct respondent id and one with a different respondent id. It doesn't look like one is incomplete while the other is, or one is the target respondent while the other is not. I don't really understand what that means. The hhsize variable can be different (and often is) across different observations. I'm dropping all but the last observation at the moment.\n",
    "3. When merging, about 800 households are not matched to hhsize. This includes households with N or U prefixes."
   ]
  },
  {
   "cell_type": "code",
   "execution_count": 10,
   "metadata": {},
   "outputs": [],
   "source": [
    "# merge in household size\n",
    "df_hhsize = pd.read_stata(SURVEY_HHSIZE_IN_DIR)\n",
    "df_hhsize = df_hhsize.drop_duplicates(subset=['survey_id'], keep='last')\n",
    "df_hhsize = df_hhsize.loc[:, ['survey_id', 's4_q1_hhmembers']].copy()\n",
    "df_hhsize.loc[:, 's4_q1_hhmembers'] = df_hhsize['s4_q1_hhmembers'] + 1\n",
    "df_svy = pd.merge(\n",
    "    df_svy, df_hhsize,\n",
    "    how='left', left_on='s1_hhid_key', right_on='survey_id')"
   ]
  },
  {
   "cell_type": "code",
   "execution_count": 11,
   "metadata": {},
   "outputs": [],
   "source": [
    "# calculate per capita consumption / assets\n",
    "df_svy.loc[:, 'p2_consumption_pc_wins'] = df_svy['p2_consumption_wins'].values / df_svy['s4_q1_hhmembers'].values\n",
    "df_svy.loc[:, 'p1_assets_pc_wins'] = df_svy['p1_assets_wins'].values / df_svy['s4_q1_hhmembers'].values"
   ]
  },
  {
   "cell_type": "code",
   "execution_count": 15,
   "metadata": {},
   "outputs": [
    {
     "data": {
      "image/png": "[encoded data removed]",
      "text/plain": [
       "<Figure size 432x288 with 1 Axes>"
      ]
     },
     "metadata": {
      "needs_background": "light"
     },
     "output_type": "display_data"
    }
   ],
   "source": [
    "fig, ax = plot(\n",
    "    df=df_svy,\n",
    "    y='p1_6_nonthatchedroof',\n",
    "    x='p1_assets_pc_wins')\n",
    "plt.show()"
   ]
  },
  {
   "cell_type": "code",
   "execution_count": 16,
   "metadata": {},
   "outputs": [
    {
     "data": {
      "image/png": "[encoded data removed]",
      "text/plain": [
       "<Figure size 432x288 with 1 Axes>"
      ]
     },
     "metadata": {
      "needs_background": "light"
     },
     "output_type": "display_data"
    }
   ],
   "source": [
    "fig, ax = plot(\n",
    "    df=df_svy,\n",
    "    y='p1_6_nonthatchedroof',\n",
    "    x='p2_consumption_pc_wins')\n",
    "plt.show()"
   ]
  },
  {
   "cell_type": "markdown",
   "metadata": {},
   "source": [
    "## Satellite"
   ]
  },
  {
   "cell_type": "code",
   "execution_count": null,
   "metadata": {},
   "outputs": [],
   "source": [
    "df = gpd.read_file(SAT_IN_GEOM_DIR)\n",
    "# score threshold\n",
    "df = df.loc[df['score'] > 0.9, :].copy()\n",
    "# extract centroid\n",
    "df.loc[:, 'centroid_lon'] = df.geometry.centroid.x.values\n",
    "df.loc[:, 'centroid_lat'] = df.geometry.centroid.y.values"
   ]
  },
  {
   "cell_type": "code",
   "execution_count": null,
   "metadata": {},
   "outputs": [],
   "source": [
    "# roof color, view histogram and scatter\n",
    "# df['R_mean'].plot(kind='hist', bins=50)\n",
    "# pd.DataFrame(df).plot.scatter(x='R_mean', y='B_mean', alpha=0.1)\n",
    "svm_coef = np.array([[-0.06021201, 0.0905571, 0.00755191]])\n",
    "luma_coef = np.array([[0.3, 0.59, 0.11]])\n",
    "svm_intercept = -6.17484352\n",
    "\n",
    "df.loc[:, 'RGB_mean'] = np.mean(df.loc[:, ['R_mean', 'G_mean', 'B_mean']].values, axis=1)\n",
    "df.loc[:, 'RGB_max'] = np.max(df.loc[:, ['R_mean', 'G_mean', 'B_mean']].values, axis=1)\n",
    "df.loc[:, 'RGB_min'] = np.min(df.loc[:, ['R_mean', 'G_mean', 'B_mean']].values, axis=1)\n",
    "df.loc[:, 'RGB_svm'] = df.loc[:, ['R_mean', 'G_mean', 'B_mean']].values.dot(svm_coef.T) + svm_intercept\n",
    "df.loc[:, 'RGB_svm_metal'] = df.loc[:, 'RGB_svm'].values > 0\n",
    "df.loc[:, 'RGB_maxminhalf'] = (df.loc[:, 'RGB_max'].values + df.loc[:, 'RGB_min'].values) / 2\n",
    "df.loc[:, 'RGB_luma'] = df.loc[:, ['R_mean', 'G_mean', 'B_mean']].values.dot(luma_coef.T)"
   ]
  },
  {
   "cell_type": "code",
   "execution_count": null,
   "metadata": {},
   "outputs": [],
   "source": [
    "# convert unit\n",
    "df.loc[:, 'area'] *= ((0.001716 * 111000 / 800) ** 2)  # in sq meters"
   ]
  },
  {
   "cell_type": "code",
   "execution_count": null,
   "metadata": {},
   "outputs": [],
   "source": [
    "df_sat = df.reset_index(drop=True)"
   ]
  },
  {
   "cell_type": "code",
   "execution_count": null,
   "metadata": {},
   "outputs": [],
   "source": [
    "df_sat.loc[:, 'RGB_svm_metal'] = df_sat['RGB_svm_metal'].astype(np.float)"
   ]
  },
  {
   "cell_type": "markdown",
   "metadata": {},
   "source": [
    "## Matching"
   ]
  },
  {
   "cell_type": "code",
   "execution_count": null,
   "metadata": {},
   "outputs": [],
   "source": [
    "radius = 0.00045  # =50m\n",
    "k = 10  # no. of nearest neighbors examined"
   ]
  },
  {
   "cell_type": "code",
   "execution_count": null,
   "metadata": {},
   "outputs": [],
   "source": [
    "# match structures to households\n",
    "# one structure is matched to one household at most\n",
    "tree = scipy.spatial.cKDTree(\n",
    "    df_svy.loc[:, ['s19_gps_longitude', 's19_gps_latitude']].values)\n",
    "dists, svy_idxes = tree.query(\n",
    "    df_sat.loc[:, ['centroid_lon', 'centroid_lat']].values, k=k)\n",
    "rank, sat_idxes = np.meshgrid(range(k), range(df_sat.shape[0]))\n",
    "assert (dists[:, -1] > radius).all(), 'increase k value'\n",
    "svy_idxes = svy_idxes[dists < radius]\n",
    "sat_idxes = sat_idxes[dists < radius]\n",
    "df = pd.concat([\n",
    "    df_svy.loc[svy_idxes, :].reset_index(drop=True),\n",
    "    df_sat.loc[sat_idxes, :].reset_index(drop=True),\n",
    "    pd.DataFrame({'rank': rank[dists < radius],\n",
    "                  'distance': dists[dists < radius]}),\n",
    "], axis=1)\n",
    "df = df.sort_values(by=['s1_hhid_key', 'distance'])"
   ]
  },
  {
   "cell_type": "code",
   "execution_count": null,
   "metadata": {},
   "outputs": [],
   "source": [
    "df_hh_closest = df.drop_duplicates(subset=['s1_hhid_key'], keep='first')\n",
    "\n",
    "df_hh_closest = pd.merge(df_svy, df_hh_closest, how='left', on=df_svy.columns.tolist())\n",
    "\n",
    "# df_hh_closest.loc[:, 'area'] = df_hh_closest['area'].fillna(0)\n",
    "# df_hh_closest.loc[:, 'RGB_mean'] = df_hh_closest['RGB_mean'].fillna(\n",
    "#     np.nanpercentile(df_hh_closest['RGB_mean'].values, 10)\n",
    "# )"
   ]
  },
  {
   "cell_type": "code",
   "execution_count": null,
   "metadata": {},
   "outputs": [],
   "source": [
    "df_hh = df.groupby(df_svy.columns.tolist()).agg(\n",
    "    house_count=pd.NamedAgg(column='area', aggfunc='count'),\n",
    "    area_sum=pd.NamedAgg(column='area', aggfunc='sum'),\n",
    "    RGB_mean=pd.NamedAgg(column='RGB_mean', aggfunc='mean'),\n",
    "    RGB_max=pd.NamedAgg(column='RGB_mean', aggfunc='max'),\n",
    ").reset_index()\n",
    "df_hh = pd.merge(df_svy, df_hh, how='left', on=df_svy.columns.tolist())\n",
    "\n",
    "# df_hh.loc[:, 'house_count'] = df_hh['house_count'].fillna(0)\n",
    "# df_hh.loc[:, 'area_sum'] = df_hh['area_sum'].fillna(0)"
   ]
  },
  {
   "cell_type": "markdown",
   "metadata": {},
   "source": [
    "## Figures"
   ]
  },
  {
   "cell_type": "code",
   "execution_count": null,
   "metadata": {},
   "outputs": [],
   "source": [
    "fig, ax = plt.subplots()\n",
    "y = df_hh_closest.loc[df_hh_closest['treat'] == 1, 'RGB_mean']\n",
    "x = df_hh_closest.loc[df_hh_closest['treat'] == 1, 'p1_assets_wins']\n",
    "lowess = sm.nonparametric.lowess(y, x, frac=.5)\n",
    "# plt.plot(x, y, 'g+')\n",
    "plt.plot(lowess[:, 0], lowess[:, 1], 'r+')\n",
    "y = df_hh_closest.loc[df_hh_closest['treat'] == 0, 'RGB_mean']\n",
    "x = df_hh_closest.loc[df_hh_closest['treat'] == 0, 'p1_assets_wins']\n",
    "lowess = sm.nonparametric.lowess(y, x, frac=.5)\n",
    "# plt.plot(x, y, 'g+')\n",
    "plt.plot(lowess[:, 0], lowess[:, 1], 'b+')\n",
    "plt.show()"
   ]
  },
  {
   "cell_type": "code",
   "execution_count": null,
   "metadata": {},
   "outputs": [],
   "source": [
    "fig, ax = plt.subplots()\n",
    "y = df_hh_closest.loc[df_hh_closest['treat'] == 1, 'RGB_mean']\n",
    "x = df_hh_closest.loc[df_hh_closest['treat'] == 1, 'p2_consumption_wins']\n",
    "lowess = sm.nonparametric.lowess(y, x, frac=.5)\n",
    "# plt.plot(x, y, 'g+')\n",
    "plt.plot(lowess[:, 0], lowess[:, 1], 'r+')\n",
    "y = df_hh_closest.loc[df_hh_closest['treat'] == 0, 'RGB_mean']\n",
    "x = df_hh_closest.loc[df_hh_closest['treat'] == 0, 'p2_consumption_wins']\n",
    "lowess = sm.nonparametric.lowess(y, x, frac=.5)\n",
    "# plt.plot(x, y, 'g+')\n",
    "plt.plot(lowess[:, 0], lowess[:, 1], 'b+')\n",
    "plt.show()"
   ]
  },
  {
   "cell_type": "code",
   "execution_count": null,
   "metadata": {},
   "outputs": [],
   "source": [
    "fig, ax = plt.subplots()\n",
    "y = df_hh_closest.loc[df_hh_closest['treat'] == 1, 'RGB_svm_metal']\n",
    "x = df_hh_closest.loc[df_hh_closest['treat'] == 1, 'p1_assets_wins']\n",
    "lowess = sm.nonparametric.lowess(y, x, frac=.5)\n",
    "# plt.plot(x, y, 'g+')\n",
    "plt.plot(lowess[:, 0], lowess[:, 1], 'r+')\n",
    "y = df_hh_closest.loc[df_hh_closest['treat'] == 0, 'RGB_svm_metal']\n",
    "x = df_hh_closest.loc[df_hh_closest['treat'] == 0, 'p1_assets_wins']\n",
    "lowess = sm.nonparametric.lowess(y, x, frac=.5)\n",
    "# plt.plot(x, y, 'g+')\n",
    "plt.plot(lowess[:, 0], lowess[:, 1], 'b+')\n",
    "plt.show()"
   ]
  },
  {
   "cell_type": "code",
   "execution_count": null,
   "metadata": {},
   "outputs": [],
   "source": [
    "fig, ax = plt.subplots()\n",
    "y = df_hh_closest.loc[df_hh_closest['treat'] == 1, 'RGB_svm_metal']\n",
    "x = df_hh_closest.loc[df_hh_closest['treat'] == 1, 'p2_consumption_wins']\n",
    "lowess = sm.nonparametric.lowess(y, x, frac=.5)\n",
    "# plt.plot(x, y, 'g+')\n",
    "plt.plot(lowess[:, 0], lowess[:, 1], 'r+')\n",
    "y = df_hh_closest.loc[df_hh_closest['treat'] == 0, 'RGB_svm_metal']\n",
    "x = df_hh_closest.loc[df_hh_closest['treat'] == 0, 'p2_consumption_wins']\n",
    "lowess = sm.nonparametric.lowess(y, x, frac=.5)\n",
    "# plt.plot(x, y, 'g+')\n",
    "plt.plot(lowess[:, 0], lowess[:, 1], 'b+')\n",
    "plt.show()"
   ]
  },
  {
   "cell_type": "code",
   "execution_count": null,
   "metadata": {
    "scrolled": false
   },
   "outputs": [],
   "source": [
    "# smf.ols('area ~ treat', data=df_hh_closest).fit().summary()\n",
    "\n",
    "# smf.ols('RGB_mean ~ treat', data=df_hh_closest).fit().summary()"
   ]
  },
  {
   "cell_type": "code",
   "execution_count": null,
   "metadata": {},
   "outputs": [],
   "source": [
    "fig, ax = plt.subplots()\n",
    "y = df_hh_closest.loc[df_hh_closest['treat'] == 1, 'area']\n",
    "x = df_hh_closest.loc[df_hh_closest['treat'] == 1, 'p1_assets_wins']\n",
    "lowess = sm.nonparametric.lowess(y, x, frac=.5)\n",
    "# plt.plot(x, y, 'g+')\n",
    "plt.plot(lowess[:, 0], lowess[:, 1], 'r+')\n",
    "y = df_hh_closest.loc[df_hh_closest['treat'] == 0, 'area']\n",
    "x = df_hh_closest.loc[df_hh_closest['treat'] == 0, 'p1_assets_wins']\n",
    "lowess = sm.nonparametric.lowess(y, x, frac=.5)\n",
    "# plt.plot(x, y, 'g+')\n",
    "plt.plot(lowess[:, 0], lowess[:, 1], 'b+')\n",
    "plt.show()"
   ]
  },
  {
   "cell_type": "code",
   "execution_count": null,
   "metadata": {},
   "outputs": [],
   "source": [
    "fig, ax = plt.subplots()\n",
    "y = df_hh_closest.loc[df_hh_closest['treat'] == 1, 'area']\n",
    "x = df_hh_closest.loc[df_hh_closest['treat'] == 1, 'p2_consumption_wins']\n",
    "lowess = sm.nonparametric.lowess(y, x, frac=.5)\n",
    "# plt.plot(x, y, 'g+')\n",
    "plt.plot(lowess[:, 0], lowess[:, 1], 'r+')\n",
    "y = df_hh_closest.loc[df_hh_closest['treat'] == 0, 'area']\n",
    "x = df_hh_closest.loc[df_hh_closest['treat'] == 0, 'p2_consumption_wins']\n",
    "lowess = sm.nonparametric.lowess(y, x, frac=.5)\n",
    "# plt.plot(x, y, 'g+')\n",
    "plt.plot(lowess[:, 0], lowess[:, 1], 'b+')\n",
    "plt.show()"
   ]
  },
  {
   "cell_type": "code",
   "execution_count": null,
   "metadata": {
    "scrolled": false
   },
   "outputs": [],
   "source": [
    "# smf.ols('house_count ~ treat', data=df_hh).fit().summary()"
   ]
  },
  {
   "cell_type": "code",
   "execution_count": null,
   "metadata": {},
   "outputs": [],
   "source": [
    "# fig, ax = plt.subplots()\n",
    "# y = df_hh.loc[df_hh['treat'] == 1, 'area_sum']\n",
    "# x = df_hh.loc[df_hh['treat'] == 1, 'p1_assets_wins']\n",
    "# lowess = sm.nonparametric.lowess(y, x, frac=.5)\n",
    "# # plt.plot(x, y, 'g+')\n",
    "# plt.plot(lowess[:, 0], lowess[:, 1], 'r+')\n",
    "# y = df_hh.loc[df_hh['treat'] == 0, 'area_sum']\n",
    "# x = df_hh.loc[df_hh['treat'] == 0, 'p1_assets_wins']\n",
    "# lowess = sm.nonparametric.lowess(y, x, frac=.5)\n",
    "# # plt.plot(x, y, 'g+')\n",
    "# plt.plot(lowess[:, 0], lowess[:, 1], 'b+')\n",
    "# plt.show()"
   ]
  },
  {
   "cell_type": "code",
   "execution_count": null,
   "metadata": {},
   "outputs": [],
   "source": [
    "# fig, ax = plt.subplots()\n",
    "# y = df_hh.loc[df_hh['treat'] == 1, 'area_sum']\n",
    "# x = df_hh.loc[df_hh['treat'] == 1, 'p2_consumption_wins']\n",
    "# lowess = sm.nonparametric.lowess(y, x, frac=.5)\n",
    "# # plt.plot(x, y, 'g+')\n",
    "# plt.plot(lowess[:, 0], lowess[:, 1], 'r+')\n",
    "# y = df_hh.loc[df_hh['treat'] == 0, 'area_sum']\n",
    "# x = df_hh.loc[df_hh['treat'] == 0, 'p2_consumption_wins']\n",
    "# lowess = sm.nonparametric.lowess(y, x, frac=.5)\n",
    "# # plt.plot(x, y, 'g+')\n",
    "# plt.plot(lowess[:, 0], lowess[:, 1], 'b+')\n",
    "# plt.show()"
   ]
  },
  {
   "cell_type": "code",
   "execution_count": null,
   "metadata": {},
   "outputs": [],
   "source": [
    "# df_village = df_hh.groupby('village_code').agg(\n",
    "#     treat=pd.NamedAgg(column='treat', aggfunc='mean'),\n",
    "#     house_count=pd.NamedAgg(column='house_count', aggfunc='sum'),\n",
    "#     area_sum=pd.NamedAgg(column='area_sum', aggfunc='sum'),\n",
    "#     RGB_mean=pd.NamedAgg(column='RGB_mean', aggfunc='mean'),\n",
    "#     p2_consumption_wins=pd.NamedAgg(column='p2_consumption_wins', aggfunc='mean'),\n",
    "#     p1_assets_wins=pd.NamedAgg(column='p1_assets_wins', aggfunc='mean'),\n",
    "# ).reset_index()"
   ]
  },
  {
   "cell_type": "code",
   "execution_count": null,
   "metadata": {},
   "outputs": [],
   "source": [
    "# fig, ax = plt.subplots()\n",
    "# y = df_village.loc[df_village['treat'] == 1, 'area_sum']\n",
    "# x = df_village.loc[df_village['treat'] == 1, 'p1_assets_wins']\n",
    "# lowess = sm.nonparametric.lowess(y, x, frac=.3)\n",
    "# plt.plot(x, y, 'k+', alpha=0.2)\n",
    "# plt.plot(lowess[:, 0], lowess[:, 1], 'r+')\n",
    "# y = df_village.loc[df_village['treat'] == 0, 'area_sum']\n",
    "# x = df_village.loc[df_village['treat'] == 0, 'p1_assets_wins']\n",
    "# lowess = sm.nonparametric.lowess(y, x, frac=.3)\n",
    "# plt.plot(x, y, 'k+', alpha=0.2)\n",
    "# plt.plot(lowess[:, 0], lowess[:, 1], 'b+')\n",
    "# plt.show()"
   ]
  },
  {
   "cell_type": "code",
   "execution_count": null,
   "metadata": {},
   "outputs": [],
   "source": [
    "# fig, ax = plt.subplots()\n",
    "# y = df_village.loc[df_village['treat'] == 1, 'area_sum']\n",
    "# x = df_village.loc[df_village['treat'] == 1, 'p2_consumption_wins']\n",
    "# lowess = sm.nonparametric.lowess(y, x, frac=.3)\n",
    "# plt.plot(x, y, 'k+', alpha=0.2)\n",
    "# plt.plot(lowess[:, 0], lowess[:, 1], 'r+')\n",
    "# y = df_village.loc[df_village['treat'] == 0, 'area_sum']\n",
    "# x = df_village.loc[df_village['treat'] == 0, 'p2_consumption_wins']\n",
    "# lowess = sm.nonparametric.lowess(y, x, frac=.3)\n",
    "# plt.plot(x, y, 'k+', alpha=0.2)\n",
    "# plt.plot(lowess[:, 0], lowess[:, 1], 'b+')\n",
    "# plt.show()"
   ]
  },
  {
   "cell_type": "code",
   "execution_count": null,
   "metadata": {},
   "outputs": [],
   "source": [
    "# fig, ax = plt.subplots()\n",
    "# y = df_village.loc[df_village['treat'] == 1, 'RGB_mean']\n",
    "# x = df_village.loc[df_village['treat'] == 1, 'p1_assets_wins']\n",
    "# lowess = sm.nonparametric.lowess(y, x, frac=.3)\n",
    "# plt.plot(x, y, 'k+', alpha=0.2)\n",
    "# plt.plot(lowess[:, 0], lowess[:, 1], 'r+')\n",
    "# y = df_village.loc[df_village['treat'] == 0, 'RGB_mean']\n",
    "# x = df_village.loc[df_village['treat'] == 0, 'p1_assets_wins']\n",
    "# lowess = sm.nonparametric.lowess(y, x, frac=.3)\n",
    "# plt.plot(x, y, 'k+', alpha=0.2)\n",
    "# plt.plot(lowess[:, 0], lowess[:, 1], 'b+')\n",
    "# plt.show()"
   ]
  },
  {
   "cell_type": "code",
   "execution_count": null,
   "metadata": {},
   "outputs": [],
   "source": [
    "# fig, ax = plt.subplots()\n",
    "# y = df_village.loc[df_village['treat'] == 1, 'RGB_mean']\n",
    "# x = df_village.loc[df_village['treat'] == 1, 'p2_consumption_wins']\n",
    "# lowess = sm.nonparametric.lowess(y, x, frac=.3)\n",
    "# plt.plot(x, y, 'k+', alpha=0.2)\n",
    "# plt.plot(lowess[:, 0], lowess[:, 1], 'r+')\n",
    "# y = df_village.loc[df_village['treat'] == 0, 'RGB_mean']\n",
    "# x = df_village.loc[df_village['treat'] == 0, 'p2_consumption_wins']\n",
    "# lowess = sm.nonparametric.lowess(y, x, frac=.3)\n",
    "# plt.plot(x, y, 'k+', alpha=0.2)\n",
    "# plt.plot(lowess[:, 0], lowess[:, 1], 'b+')\n",
    "# plt.show()"
   ]
  },
  {
   "cell_type": "markdown",
   "metadata": {},
   "source": [
    "## More specifications"
   ]
  },
  {
   "cell_type": "markdown",
   "metadata": {},
   "source": [
    "* log + winsorize"
   ]
  },
  {
   "cell_type": "code",
   "execution_count": null,
   "metadata": {},
   "outputs": [],
   "source": [
    "# take logs\n",
    "# note to self: this also needs a bit more work\n",
    "# I'm dropping <=0 values here\n",
    "df_hh_closest.loc[:, 'log_p2_consumption_wins'] = winsorize(\n",
    "    df_hh_closest['p2_consumption_wins'], 2.5, 97.5\n",
    ").apply(\n",
    "    lambda x: np.log(x) if x > 0 else np.nan\n",
    ")\n",
    "df_hh_closest.loc[:, 'log_p1_assets_wins'] = winsorize(\n",
    "    df_hh_closest['p1_assets_wins'], 2.5, 97.5\n",
    ").apply(\n",
    "    lambda x: np.log(x) if x > 0 else np.nan\n",
    ")"
   ]
  },
  {
   "cell_type": "code",
   "execution_count": null,
   "metadata": {},
   "outputs": [],
   "source": [
    "fig, ax = plt.subplots()\n",
    "y = df_hh_closest.loc[df_hh_closest['treat'] == 1, 'area']\n",
    "x = df_hh_closest.loc[df_hh_closest['treat'] == 1, 'log_p1_assets_wins']\n",
    "lowess = sm.nonparametric.lowess(y, x, frac=.5)\n",
    "# plt.plot(x, y, 'g+')\n",
    "plt.plot(lowess[:, 0], lowess[:, 1], 'r+')\n",
    "y = df_hh_closest.loc[df_hh_closest['treat'] == 0, 'area']\n",
    "x = df_hh_closest.loc[df_hh_closest['treat'] == 0, 'log_p1_assets_wins']\n",
    "lowess = sm.nonparametric.lowess(y, x, frac=.5)\n",
    "# plt.plot(x, y, 'g+')\n",
    "plt.plot(lowess[:, 0], lowess[:, 1], 'b+')\n",
    "plt.show()"
   ]
  },
  {
   "cell_type": "code",
   "execution_count": null,
   "metadata": {
    "scrolled": true
   },
   "outputs": [],
   "source": [
    "fig, ax = plt.subplots()\n",
    "y = df_hh_closest.loc[df_hh_closest['treat'] == 1, 'area']\n",
    "x = df_hh_closest.loc[df_hh_closest['treat'] == 1, 'log_p2_consumption_wins']\n",
    "lowess = sm.nonparametric.lowess(y, x, frac=.5)\n",
    "# plt.plot(x, y, 'g+')\n",
    "plt.plot(lowess[:, 0], lowess[:, 1], 'r+')\n",
    "y = df_hh_closest.loc[df_hh_closest['treat'] == 0, 'area']\n",
    "x = df_hh_closest.loc[df_hh_closest['treat'] == 0, 'log_p2_consumption_wins']\n",
    "lowess = sm.nonparametric.lowess(y, x, frac=.5)\n",
    "# plt.plot(x, y, 'g+')\n",
    "plt.plot(lowess[:, 0], lowess[:, 1], 'b+')\n",
    "plt.show()"
   ]
  },
  {
   "cell_type": "code",
   "execution_count": null,
   "metadata": {},
   "outputs": [],
   "source": [
    "fig, ax = plt.subplots()\n",
    "y = df_hh_closest.loc[df_hh_closest['treat'] == 1, 'RGB_mean']\n",
    "x = df_hh_closest.loc[df_hh_closest['treat'] == 1, 'log_p1_assets_wins']\n",
    "lowess = sm.nonparametric.lowess(y, x, frac=.5)\n",
    "# plt.plot(x, y, 'g+')\n",
    "plt.plot(lowess[:, 0], lowess[:, 1], 'r+')\n",
    "y = df_hh_closest.loc[df_hh_closest['treat'] == 0, 'RGB_mean']\n",
    "x = df_hh_closest.loc[df_hh_closest['treat'] == 0, 'log_p1_assets_wins']\n",
    "lowess = sm.nonparametric.lowess(y, x, frac=.5)\n",
    "# plt.plot(x, y, 'g+')\n",
    "plt.plot(lowess[:, 0], lowess[:, 1], 'b+')\n",
    "plt.show()"
   ]
  },
  {
   "cell_type": "code",
   "execution_count": null,
   "metadata": {
    "scrolled": true
   },
   "outputs": [],
   "source": [
    "fig, ax = plt.subplots()\n",
    "y = df_hh_closest.loc[df_hh_closest['treat'] == 1, 'RGB_mean']\n",
    "x = df_hh_closest.loc[df_hh_closest['treat'] == 1, 'log_p2_consumption_wins']\n",
    "lowess = sm.nonparametric.lowess(y, x, frac=.5)\n",
    "# plt.plot(x, y, 'g+')\n",
    "plt.plot(lowess[:, 0], lowess[:, 1], 'r+')\n",
    "y = df_hh_closest.loc[df_hh_closest['treat'] == 0, 'RGB_mean']\n",
    "x = df_hh_closest.loc[df_hh_closest['treat'] == 0, 'log_p2_consumption_wins']\n",
    "lowess = sm.nonparametric.lowess(y, x, frac=.5)\n",
    "# plt.plot(x, y, 'g+')\n",
    "plt.plot(lowess[:, 0], lowess[:, 1], 'b+')\n",
    "plt.show()"
   ]
  },
  {
   "cell_type": "markdown",
   "metadata": {},
   "source": [
    "### Matched to multiple structures"
   ]
  },
  {
   "cell_type": "code",
   "execution_count": null,
   "metadata": {},
   "outputs": [],
   "source": [
    "# take logs\n",
    "# note to self: this also needs a bit more work\n",
    "# I'm dropping <=0 values here\n",
    "df_hh.loc[:, 'log_p2_consumption_wins'] = winsorize(\n",
    "    df_hh['p2_consumption_wins'], 5, 95\n",
    ").apply(\n",
    "    lambda x: np.log(x) if x > 0 else np.nan\n",
    ")\n",
    "df_hh.loc[:, 'log_p1_assets_wins'] = winsorize(\n",
    "    df_hh['p1_assets_wins'], 5, 95\n",
    ").apply(\n",
    "    lambda x: np.log(x) if x > 0 else np.nan\n",
    ")"
   ]
  },
  {
   "cell_type": "code",
   "execution_count": null,
   "metadata": {},
   "outputs": [],
   "source": [
    "fig, ax = plt.subplots()\n",
    "y = df_hh.loc[df_hh['treat'] == 1, 'area_sum']\n",
    "x = df_hh.loc[df_hh['treat'] == 1, 'log_p1_assets_wins']\n",
    "lowess = sm.nonparametric.lowess(y, x, frac=.5)\n",
    "# plt.plot(x, y, 'g+')\n",
    "plt.plot(lowess[:, 0], lowess[:, 1], 'r+')\n",
    "y = df_hh.loc[df_hh['treat'] == 0, 'area_sum']\n",
    "x = df_hh.loc[df_hh['treat'] == 0, 'log_p1_assets_wins']\n",
    "lowess = sm.nonparametric.lowess(y, x, frac=.5)\n",
    "# plt.plot(x, y, 'g+')\n",
    "plt.plot(lowess[:, 0], lowess[:, 1], 'b+')\n",
    "plt.show()"
   ]
  },
  {
   "cell_type": "code",
   "execution_count": null,
   "metadata": {
    "scrolled": true
   },
   "outputs": [],
   "source": [
    "fig, ax = plt.subplots()\n",
    "y = df_hh.loc[df_hh['treat'] == 1, 'area_sum']\n",
    "x = df_hh.loc[df_hh['treat'] == 1, 'log_p2_consumption_wins']\n",
    "lowess = sm.nonparametric.lowess(y, x, frac=.5)\n",
    "# plt.plot(x, y, 'g+')\n",
    "plt.plot(lowess[:, 0], lowess[:, 1], 'r+')\n",
    "y = df_hh.loc[df_hh['treat'] == 0, 'area_sum']\n",
    "x = df_hh.loc[df_hh['treat'] == 0, 'log_p2_consumption_wins']\n",
    "lowess = sm.nonparametric.lowess(y, x, frac=.5)\n",
    "# plt.plot(x, y, 'g+')\n",
    "plt.plot(lowess[:, 0], lowess[:, 1], 'b+')\n",
    "plt.show()"
   ]
  },
  {
   "cell_type": "markdown",
   "metadata": {},
   "source": [
    "* per capita"
   ]
  },
  {
   "cell_type": "code",
   "execution_count": null,
   "metadata": {},
   "outputs": [],
   "source": [
    "df_hh_closest.loc[:, 'area_pc'] = df_hh_closest['area'].values / df_hh_closest['s4_q1_hhmembers'].values\n",
    "df_hh_closest.loc[:, 'log_p2_consumption_pc_wins'] = winsorize(\n",
    "    df_svy['p2_consumption_pc_wins'], 2.5, 97.5\n",
    ").apply(\n",
    "    lambda x: np.log(x) if x > 0 else np.nan\n",
    ")\n",
    "df_hh_closest.loc[:, 'log_p1_assets_pc_wins'] = winsorize(\n",
    "    df_svy['p1_assets_pc_wins'], 2.5, 97.5\n",
    ").apply(\n",
    "    lambda x: np.log(x) if x > 0 else np.nan\n",
    ")"
   ]
  },
  {
   "cell_type": "code",
   "execution_count": null,
   "metadata": {},
   "outputs": [],
   "source": [
    "fig, ax = plt.subplots()\n",
    "y = df_hh_closest.loc[df_hh_closest['treat'] == 1, 'area_pc']\n",
    "x = df_hh_closest.loc[df_hh_closest['treat'] == 1, 'log_p1_assets_pc_wins']\n",
    "lowess = sm.nonparametric.lowess(y, x, frac=.5)\n",
    "# plt.plot(x, y, 'g+')\n",
    "plt.plot(lowess[:, 0], lowess[:, 1], 'r+')\n",
    "y = df_hh_closest.loc[df_hh_closest['treat'] == 0, 'area_pc']\n",
    "x = df_hh_closest.loc[df_hh_closest['treat'] == 0, 'log_p1_assets_pc_wins']\n",
    "lowess = sm.nonparametric.lowess(y, x, frac=.5)\n",
    "# plt.plot(x, y, 'g+')\n",
    "plt.plot(lowess[:, 0], lowess[:, 1], 'b+')\n",
    "plt.show()"
   ]
  },
  {
   "cell_type": "code",
   "execution_count": null,
   "metadata": {},
   "outputs": [],
   "source": [
    "fig, ax = plt.subplots()\n",
    "y = df_hh_closest.loc[df_hh_closest['treat'] == 1, 'area_pc']\n",
    "x = df_hh_closest.loc[df_hh_closest['treat'] == 1, 'log_p2_consumption_pc_wins']\n",
    "lowess = sm.nonparametric.lowess(y, x, frac=.5)\n",
    "# plt.plot(x, y, 'g+')\n",
    "plt.plot(lowess[:, 0], lowess[:, 1], 'r+')\n",
    "y = df_hh_closest.loc[df_hh_closest['treat'] == 0, 'area_pc']\n",
    "x = df_hh_closest.loc[df_hh_closest['treat'] == 0, 'log_p2_consumption_pc_wins']\n",
    "lowess = sm.nonparametric.lowess(y, x, frac=.5)\n",
    "# plt.plot(x, y, 'g+')\n",
    "plt.plot(lowess[:, 0], lowess[:, 1], 'b+')\n",
    "plt.show()"
   ]
  },
  {
   "cell_type": "code",
   "execution_count": null,
   "metadata": {},
   "outputs": [],
   "source": [
    "fig, ax = plt.subplots()\n",
    "y = df_hh_closest.loc[df_hh_closest['treat'] == 1, 'RGB_mean']\n",
    "x = df_hh_closest.loc[df_hh_closest['treat'] == 1, 'log_p1_assets_pc_wins']\n",
    "lowess = sm.nonparametric.lowess(y, x, frac=.5)\n",
    "# plt.plot(x, y, 'g+')\n",
    "plt.plot(lowess[:, 0], lowess[:, 1], 'r+')\n",
    "y = df_hh_closest.loc[df_hh_closest['treat'] == 0, 'RGB_mean']\n",
    "x = df_hh_closest.loc[df_hh_closest['treat'] == 0, 'log_p1_assets_pc_wins']\n",
    "lowess = sm.nonparametric.lowess(y, x, frac=.5)\n",
    "# plt.plot(x, y, 'g+')\n",
    "plt.plot(lowess[:, 0], lowess[:, 1], 'b+')\n",
    "plt.show()"
   ]
  },
  {
   "cell_type": "code",
   "execution_count": null,
   "metadata": {
    "scrolled": false
   },
   "outputs": [],
   "source": [
    "fig, ax = plt.subplots()\n",
    "y = df_hh_closest.loc[df_hh_closest['treat'] == 1, 'RGB_mean']\n",
    "x = df_hh_closest.loc[df_hh_closest['treat'] == 1, 'log_p2_consumption_pc_wins']\n",
    "lowess = sm.nonparametric.lowess(y, x, frac=.5)\n",
    "# plt.plot(x, y, 'g+')\n",
    "plt.plot(lowess[:, 0], lowess[:, 1], 'r+')\n",
    "y = df_hh_closest.loc[df_hh_closest['treat'] == 0, 'RGB_mean']\n",
    "x = df_hh_closest.loc[df_hh_closest['treat'] == 0, 'log_p2_consumption_pc_wins']\n",
    "lowess = sm.nonparametric.lowess(y, x, frac=.5)\n",
    "# plt.plot(x, y, 'g+')\n",
    "plt.plot(lowess[:, 0], lowess[:, 1], 'b+')\n",
    "plt.show()"
   ]
  },
  {
   "cell_type": "markdown",
   "metadata": {},
   "source": [
    "* sublocation fixed effects"
   ]
  },
  {
   "cell_type": "code",
   "execution_count": null,
   "metadata": {},
   "outputs": [],
   "source": [
    "# demean by satcluster\n",
    "df_hh_closest.loc[:, 'p2_consumption_pc_wins'] = winsorize(\n",
    "    df_hh_closest['p2_consumption_pc_wins'], 5, 95)\n",
    "df_hh_closest.loc[:, 'demean_p2_consumption_pc_wins'] = demean(\n",
    "    df=df_hh_closest, column='p2_consumption_pc_wins', by=['satcluster'])\n",
    "df_hh_closest.loc[:, 'p1_assets_pc_wins'] = winsorize(\n",
    "    df_hh_closest['p1_assets_pc_wins'], 5, 95)\n",
    "df_hh_closest.loc[:, 'demean_p1_assets_pc_wins'] = demean(\n",
    "    df=df_hh_closest, column='p1_assets_pc_wins', by=['satcluster'])\n",
    "df_hh_closest.loc[:, 'demean_RGB_mean'] = demean(\n",
    "    df=df_hh_closest, column='RGB_mean', by=['satcluster'])\n",
    "df_hh_closest.loc[:, 'demean_area_pc'] = demean(\n",
    "    df=df_hh_closest, column='area_pc', by=['satcluster'])"
   ]
  },
  {
   "cell_type": "code",
   "execution_count": null,
   "metadata": {
    "scrolled": false
   },
   "outputs": [],
   "source": [
    "fig, ax = plt.subplots()\n",
    "y = df_hh_closest.loc[df_hh_closest['treat'] == 1, 'demean_RGB_mean']\n",
    "x = df_hh_closest.loc[df_hh_closest['treat'] == 1, 'demean_p1_assets_pc_wins']\n",
    "lowess = sm.nonparametric.lowess(y, x, frac=.5)\n",
    "# plt.plot(x, y, 'g+')\n",
    "plt.plot(lowess[:, 0], lowess[:, 1], 'r+')\n",
    "y = df_hh_closest.loc[df_hh_closest['treat'] == 0, 'demean_RGB_mean']\n",
    "x = df_hh_closest.loc[df_hh_closest['treat'] == 0, 'demean_p1_assets_pc_wins']\n",
    "lowess = sm.nonparametric.lowess(y, x, frac=.5)\n",
    "# plt.plot(x, y, 'g+')\n",
    "plt.plot(lowess[:, 0], lowess[:, 1], 'b+')\n",
    "plt.show()"
   ]
  },
  {
   "cell_type": "code",
   "execution_count": null,
   "metadata": {
    "scrolled": false
   },
   "outputs": [],
   "source": [
    "fig, ax = plt.subplots()\n",
    "y = df_hh_closest.loc[df_hh_closest['treat'] == 1, 'demean_RGB_mean']\n",
    "x = df_hh_closest.loc[df_hh_closest['treat'] == 1, 'demean_p2_consumption_pc_wins']\n",
    "lowess = sm.nonparametric.lowess(y, x, frac=.5)\n",
    "# plt.plot(x, y, 'g+')\n",
    "plt.plot(lowess[:, 0], lowess[:, 1], 'r+')\n",
    "y = df_hh_closest.loc[df_hh_closest['treat'] == 0, 'demean_RGB_mean']\n",
    "x = df_hh_closest.loc[df_hh_closest['treat'] == 0, 'demean_p2_consumption_pc_wins']\n",
    "lowess = sm.nonparametric.lowess(y, x, frac=.5)\n",
    "# plt.plot(x, y, 'g+')\n",
    "plt.plot(lowess[:, 0], lowess[:, 1], 'b+')\n",
    "plt.show()"
   ]
  },
  {
   "cell_type": "code",
   "execution_count": null,
   "metadata": {
    "scrolled": false
   },
   "outputs": [],
   "source": [
    "fig, ax = plt.subplots()\n",
    "y = df_hh_closest.loc[df_hh_closest['treat'] == 1, 'demean_area_pc']\n",
    "x = df_hh_closest.loc[df_hh_closest['treat'] == 1, 'demean_p1_assets_pc_wins']\n",
    "lowess = sm.nonparametric.lowess(y, x, frac=.3)\n",
    "# plt.plot(x, y, 'g+')\n",
    "plt.plot(lowess[:, 0], lowess[:, 1], 'r+')\n",
    "y = df_hh_closest.loc[df_hh_closest['treat'] == 0, 'demean_area_pc']\n",
    "x = df_hh_closest.loc[df_hh_closest['treat'] == 0, 'demean_p1_assets_pc_wins']\n",
    "lowess = sm.nonparametric.lowess(y, x, frac=.3)\n",
    "# plt.plot(x, y, 'g+')\n",
    "plt.plot(lowess[:, 0], lowess[:, 1], 'b+')\n",
    "plt.show()"
   ]
  },
  {
   "cell_type": "code",
   "execution_count": null,
   "metadata": {
    "scrolled": false
   },
   "outputs": [],
   "source": [
    "fig, ax = plt.subplots()\n",
    "y = df_hh_closest.loc[df_hh_closest['treat'] == 1, 'demean_area_pc']\n",
    "x = df_hh_closest.loc[df_hh_closest['treat'] == 1, 'demean_p2_consumption_pc_wins']\n",
    "lowess = sm.nonparametric.lowess(y, x, frac=.3)\n",
    "# plt.plot(x, y, 'g+')\n",
    "plt.plot(lowess[:, 0], lowess[:, 1], 'r+')\n",
    "y = df_hh_closest.loc[df_hh_closest['treat'] == 0, 'demean_area_pc']\n",
    "x = df_hh_closest.loc[df_hh_closest['treat'] == 0, 'demean_p2_consumption_pc_wins']\n",
    "lowess = sm.nonparametric.lowess(y, x, frac=.3)\n",
    "# plt.plot(x, y, 'g+')\n",
    "plt.plot(lowess[:, 0], lowess[:, 1], 'b+')\n",
    "plt.show()"
   ]
  },
  {
   "cell_type": "code",
   "execution_count": null,
   "metadata": {},
   "outputs": [],
   "source": [
    "fig, ax = plot(\n",
    "    df=df_hh_closest,\n",
    "    y='area_pc',\n",
    "    x='log_p2_consumption_pc_wins')\n",
    "plt.show()"
   ]
  },
  {
   "cell_type": "markdown",
   "metadata": {},
   "source": [
    "## GE Census\n",
    "\n",
    "## Problem\n",
    "\n",
    "I match GE census data (at baseline) to building polygons by finding the nearest neighbor to the geocode recorded in the census. The expectation is to compare roof materials and satellite based observables and validate the satellite based measurements. The output figure/table is the correlation between satellite based observables (eg color vector, building size) and census variables (roof materials, no. of rooms). This is not an Engel curve exercise, but merely validation.\n",
    "\n",
    "## Diagnostics\n",
    "\n",
    "Potential reasons for low correlation coefficients:\n",
    "\n",
    "- Model is misspecified (possible, but not causing this)\n",
    "- For luminosity, lack of satellite image fixed effects (nah)\n",
    "- Imperfect geocoding, matched to neighbors or non-residential structures (nah)\n",
    "- crappy ML prediction of building polygon (possible, but not causing this)\n",
    "- Time mismatch between satellite and survey (possible)\n",
    "\n",
    "I input the geocodes to google static maps, and randomly picked two village, and literally every building has an iron roof, no kidding. Maybe we just cannot see any thatched roof houses from google static map??? so they are being missed instead of scoring a low reflection score. However, I find that hard to believe, the geocodes clearly seem to be pointing to existing metal roof buildings.\n",
    "\n",
    "I'm going to attribute the mismatch to time mismatch from now on, which we don't really know is what is going on, but I can't possibly find another explanation for this, looking at the images. Did rural Kenya really grow that much over the past five years? Maybe.\n",
    "\n",
    "I'm going to abandon the census validation exercise, because roof material I think is the only thing that matters in the census, they don't have any consumption stuff, or anything detailed, and roof materials cannot be matched."
   ]
  },
  {
   "cell_type": "code",
   "execution_count": null,
   "metadata": {},
   "outputs": [],
   "source": [
    "# # build KD tree\n",
    "# tree = scipy.spatial.cKDTree(df.loc[:, ['centroid_lon', 'centroid_lat']].values)"
   ]
  },
  {
   "cell_type": "code",
   "execution_count": null,
   "metadata": {},
   "outputs": [],
   "source": [
    "# # read census master\n",
    "# df = pd.read_stata(CENSUS_MASTER_IN_DIR)\n",
    "\n",
    "# # df.columns.tolist()\n",
    "\n",
    "# df = df.loc[:, [\n",
    "#     'roof', 'roof_other', 'latitude', 'longitude', 'eligible',\n",
    "#     'village_code', 'sat_grp', 'treat', 'hi_sat', 'roof_elig',\n",
    "# ]]"
   ]
  },
  {
   "cell_type": "code",
   "execution_count": null,
   "metadata": {},
   "outputs": [],
   "source": [
    "# # clean up roof category\n",
    "# df.loc[:, 'roof'] = df['roof'].replace('', np.nan)\n",
    "# df.loc[:, 'roof_other'] = df['roof_other'].replace('', np.nan).replace('.', np.nan)\n",
    "# df.loc[df['roof_other'].notna(), 'roof'] = df.loc[df['roof_other'].notna(), 'roof_other']\n",
    "\n",
    "# df.loc[:, 'roof'] = df['roof'].replace(\n",
    "#     {'Unfinished (grass and polythene)': 'polythene',\n",
    "#      'Polythene and grass': 'polythene',\n",
    "#      'Reeds and grass': 'grass',\n",
    "#      'Canvas Tent': 'canvas',\n",
    "#      'Canvas tent': 'canvas',\n",
    "#      'Polythine  bags': 'polythene',\n",
    "#      'Partly grass,partly cement': 'cement',\n",
    "#      'Canvas': 'canvas',\n",
    "#      'leaves': 'grass'})\n",
    "\n",
    "# df = df.loc[df['roof'].isin(['iron', 'grass']), :]"
   ]
  },
  {
   "cell_type": "code",
   "execution_count": null,
   "metadata": {},
   "outputs": [],
   "source": [
    "# df = df.dropna(subset=['longitude', 'latitude'])\n",
    "# df = df.reset_index(drop=True)"
   ]
  },
  {
   "cell_type": "code",
   "execution_count": null,
   "metadata": {},
   "outputs": [],
   "source": [
    "# dists, idxes = tree.query(df.loc[:, ['longitude', 'latitude']].values, k=1)\n",
    "# df = pd.concat([df, df_sat.loc[idxes, :].reset_index(drop=True)], axis=1)\n",
    "# df.loc[:, 'dist'] = dists"
   ]
  },
  {
   "cell_type": "code",
   "execution_count": null,
   "metadata": {},
   "outputs": [],
   "source": [
    "# is distance correlated with thatched roof?\n",
    "# that would indicate that thatched roof buildings\n",
    "# are not being recognized as buildings\n",
    "# df = df.loc[df['dist'] < 0.001, :].reset_index(drop=True)\n",
    "# smf.ols('eligible ~ I(dist > 0.0001)', data=df).fit().summary()\n",
    "# some evidence that this is true\n",
    "# but this shouldn't affect the correlation after\n",
    "# distant matches are dropped"
   ]
  },
  {
   "cell_type": "code",
   "execution_count": null,
   "metadata": {},
   "outputs": [],
   "source": [
    "# df = df.loc[df['dist'] < 0.0001, :].reset_index(drop=True)\n",
    "# df['dist'].hist(bins=100)"
   ]
  },
  {
   "cell_type": "code",
   "execution_count": null,
   "metadata": {},
   "outputs": [],
   "source": [
    "# df['R_mean'].hist(by=df['roof'], bins=50)\n",
    "# df['G_mean'].hist(by=df['roof'], bins=50)\n",
    "# df['B_mean'].hist(by=df['roof'], bins=50)"
   ]
  },
  {
   "cell_type": "code",
   "execution_count": null,
   "metadata": {},
   "outputs": [],
   "source": [
    "# sample = np.random.random(df.shape[0]) > 0\n",
    "# sample = df.loc[:, 'treat'].values == 0"
   ]
  },
  {
   "cell_type": "code",
   "execution_count": null,
   "metadata": {},
   "outputs": [],
   "source": [
    "# smf.ols('eligible ~ RGB_mean', data=df).fit().summary()\n",
    "# df.loc[:, ['eligible', 'RGB_mean']].corr()"
   ]
  },
  {
   "cell_type": "code",
   "execution_count": null,
   "metadata": {},
   "outputs": [],
   "source": [
    "# smf.ols('eligible ~ RGB_mean + C(village_code)', data=df).fit().summary()\n",
    "# the sign on RGB_mean is stable with or without village fixed effects"
   ]
  },
  {
   "cell_type": "code",
   "execution_count": null,
   "metadata": {},
   "outputs": [],
   "source": [
    "# df.loc[:, 'roof_iron'] = (df['roof'] == 'iron').astype(int)"
   ]
  },
  {
   "cell_type": "code",
   "execution_count": null,
   "metadata": {},
   "outputs": [],
   "source": [
    "# # ok, i need to just literally look at my data\n",
    "# village_code = df['village_code'].unique().tolist()[35]\n",
    "# fig, (ax0, ax1) = plt.subplots(ncols=2, figsize=(12, 4))\n",
    "# df.loc[df['village_code'] == village_code, :].plot(\n",
    "#     x='longitude', y='latitude', c='RGB_mean',\n",
    "#     kind='scatter', cmap='coolwarm', ax=ax0)\n",
    "# df.loc[df['village_code'] == village_code, :].plot(\n",
    "#     x='longitude', y='latitude', c='roof_iron',\n",
    "#     kind='scatter', cmap='coolwarm', ax=ax1)"
   ]
  },
  {
   "cell_type": "code",
   "execution_count": null,
   "metadata": {},
   "outputs": [],
   "source": [
    "# df.loc[df['village_code'] == village_code, ['latitude', 'longitude', 'roof_iron', 'treat']]"
   ]
  },
  {
   "cell_type": "code",
   "execution_count": null,
   "metadata": {},
   "outputs": [],
   "source": [
    "# X = df.loc[sample, ['R_mean', 'G_mean', 'B_mean']].values\n",
    "# y = df.loc[sample, 'roof'].replace({'grass': 0, 'iron': 1}).values\n",
    "# y.mean()\n",
    "# clf = svm.SVC(kernel='linear')\n",
    "# cross_val_score(clf, X, y, cv=5)"
   ]
  }
 ],
 "metadata": {
  "kernelspec": {
   "display_name": "Python 3",
   "language": "python",
   "name": "python3"
  },
  "language_info": {
   "codemirror_mode": {
    "name": "ipython",
    "version": 3
   },
   "file_extension": ".py",
   "mimetype": "text/x-python",
   "name": "python",
   "nbconvert_exporter": "python",
   "pygments_lexer": "ipython3",
   "version": "3.7.4"
  }
 },
 "nbformat": 4,
 "nbformat_minor": 2
}
