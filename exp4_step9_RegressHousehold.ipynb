{
 "cells": [
  {
   "cell_type": "code",
   "execution_count": 1,
   "metadata": {},
   "outputs": [],
   "source": [
    "%matplotlib inline"
   ]
  },
  {
   "cell_type": "code",
   "execution_count": 2,
   "metadata": {},
   "outputs": [],
   "source": [
    "import os\n",
    "import numpy as np\n",
    "import pandas as pd\n",
    "import geopandas as gpd\n",
    "import tqdm\n",
    "import statsmodels.api as sm\n",
    "import statsmodels.formula.api as smf\n",
    "import matplotlib.pyplot as plt\n",
    "import seaborn as sns\n",
    "import scipy.spatial\n",
    "from sklearn import svm\n",
    "from sklearn.model_selection import cross_val_score"
   ]
  },
  {
   "cell_type": "code",
   "execution_count": 3,
   "metadata": {},
   "outputs": [],
   "source": [
    "def winsorize(s, lower, upper):\n",
    "    \"\"\"Winsorizes a pandas series.\n",
    "    \n",
    "    Args:\n",
    "        s (pandas.Series): the series to be winsorized\n",
    "        lower, upper (int): number between 0 to 100\n",
    "    \"\"\"\n",
    "    return s.clip(np.nanpercentile(s.values, lower),\n",
    "                  np.nanpercentile(s.values, upper))"
   ]
  },
  {
   "cell_type": "code",
   "execution_count": 4,
   "metadata": {},
   "outputs": [],
   "source": [
    "def demean(df, column, by):\n",
    "    \"\"\"Demean a column in a pandas DataFrame.\n",
    "    \n",
    "    Args:\n",
    "        df (pandas.DataFrame): data\n",
    "        column (str): the column to be demeaned\n",
    "        by (list of str): the column names\n",
    "    \"\"\"\n",
    "    return (\n",
    "        df[column].values -\n",
    "        df.loc[:, by + [column]].groupby(by).transform(np.nanmean).values.squeeze())"
   ]
  },
  {
   "cell_type": "code",
   "execution_count": 5,
   "metadata": {},
   "outputs": [],
   "source": [
    "def plot(df, y, x,\n",
    "         treat='treat',\n",
    "         cmap={0: 'b', 1: 'r'},\n",
    "         frac=0.66, it=3):\n",
    "    # regression\n",
    "    results = smf.ols(y + ' ~ ' + treat, data=df.dropna(subset=[x, y])).fit()\n",
    "    y_coef = results.params[treat]\n",
    "    y_pvalue = results.pvalues[treat]\n",
    "    results = smf.ols(x + ' ~ ' + treat, data=df.dropna(subset=[x, y])).fit()\n",
    "    x_coef = results.params[treat]\n",
    "    x_pvalue = results.pvalues[treat]\n",
    "    results = smf.ols(y + ' ~ ' + x, data=df.dropna(subset=[x, y])).fit()\n",
    "    scale = results.params[x]\n",
    "    # make figure\n",
    "    fig, ax = plt.subplots()\n",
    "    lowess = sm.nonparametric.lowess(\n",
    "        df[y].values, df[x].values, frac=frac, it=it)\n",
    "    ax.plot(lowess[:, 0], lowess[:, 1], color='dimgray', linewidth=2)\n",
    "    for cmap_value, cmap_color in cmap.items():\n",
    "        y_col = df.loc[df[treat] == cmap_value, y]\n",
    "        x_col = df.loc[df[treat] == cmap_value, x]\n",
    "        lowess = sm.nonparametric.lowess(y_col, x_col, frac=frac, it=it)\n",
    "        ax.plot(lowess[:, 0], lowess[:, 1],\n",
    "                marker='x', color=cmap_color, alpha=0.5)\n",
    "    ax.set_title(\n",
    "        f'Observed effects: {x_coef:.4f}\\n' +\n",
    "        f'p-value: {x_pvalue:.4f}\\n' +\n",
    "        f'Estimated effects: {y_coef:.4f} / {scale:.4f} = {(y_coef / scale):.4f}\\n' +\n",
    "        f'p-value: {y_pvalue:.4f}\\n')\n",
    "    ax.set_xlabel(x)\n",
    "    ax.set_ylabel(y)\n",
    "    return fig, ax"
   ]
  },
  {
   "cell_type": "code",
   "execution_count": 6,
   "metadata": {},
   "outputs": [],
   "source": [
    "np.random.seed(0)"
   ]
  },
  {
   "cell_type": "code",
   "execution_count": 7,
   "metadata": {},
   "outputs": [],
   "source": [
    "pd.set_option('display.max_rows', 300)"
   ]
  },
  {
   "cell_type": "code",
   "execution_count": 8,
   "metadata": {},
   "outputs": [],
   "source": [
    "CENSUS_GPS_IN_DIR = 'data/GiveDirectly/Survey/GE_HH_Census_2017-07-17_cleanGPS.csv'\n",
    "CENSUS_MASTER_IN_DIR = 'data/GiveDirectly/Survey/GE_HH-Census_Analysis_RA_2017-07-17.dta'\n",
    "SURVEY_HHSIZE_IN_DIR = 'data/GiveDirectly/Survey/GE_HH-Survey_S1_S4_2016-08-16.dta'\n",
    "SURVEY_IN_DIR = 'data/GiveDirectly/Survey/GE_Luna_Extract_2018-09-19.dta'\n",
    "SAT_IN_GEOM_DIR = 'data/Experiment4/sat.geojson'\n",
    "\n",
    "OUT_DIR = 'data/Experiment4/output/'"
   ]
  },
  {
   "cell_type": "markdown",
   "metadata": {},
   "source": [
    "## GE Survey\n",
    "\n",
    "Note to self: this part needs more work. Several issues:\n",
    "\n",
    "1. Is this version of survey the final one? Hard to tell from what I can see in Dropbox. Maybe I should ask Michael to send another version.\n",
    "2. There are duplicates in survey_id. I checked and the duplicates all have this structure: two observations with the same survey_id, one with the correct respondent id and one with a different respondent id. It doesn't look like one is incomplete while the other is, or one is the target respondent while the other is not. I don't really understand what that means. The hhsize variable can be different (and often is) across different observations. I'm dropping all but the last observation at the moment.\n",
    "3. When merging, about 800 households are not matched to hhsize. This includes households with N or U prefixes."
   ]
  },
  {
   "cell_type": "code",
   "execution_count": 9,
   "metadata": {},
   "outputs": [],
   "source": [
    "df_svy = pd.read_stata(SURVEY_IN_DIR)\n",
    "df_svy = df_svy.dropna(\n",
    "    subset=['s19_gps_latitude', 's19_gps_longitude',\n",
    "            'p1_assets_wins', 'p2_consumption_wins']).reset_index(drop=True)\n",
    "df_svy.loc[:, 'village_code'] = df_svy['s1_hhid_key'].str.split('-', expand=True).loc[:, 0]\n",
    "df_svy.loc[:, 's1_hhid_key'] = df_svy['s1_hhid_key'].str.replace('-', '')\n",
    "\n",
    "df_svy = df_svy.loc[:, [\n",
    "    's19_gps_latitude', 's19_gps_longitude',\n",
    "    's1_hhid_key', 's6_q1_haselectricity', 'p1_6_nonthatchedroof',\n",
    "    'p2_consumption_wins', 'treat', 'p1_assets_wins', 'village_code',\n",
    "    'satcluster',\n",
    "]]\n",
    "\n",
    "# merge in household size\n",
    "df_hhsize = pd.read_stata(SURVEY_HHSIZE_IN_DIR)\n",
    "df_hhsize = df_hhsize.drop_duplicates(subset=['survey_id'], keep='last')\n",
    "df_hhsize = df_hhsize.loc[:, ['survey_id', 's4_q1_hhmembers']].copy()\n",
    "df_hhsize.loc[:, 's4_q1_hhmembers'] = df_hhsize['s4_q1_hhmembers'] + 1\n",
    "df_svy = pd.merge(\n",
    "    df_svy, df_hhsize,\n",
    "    how='left', left_on='s1_hhid_key', right_on='survey_id')\n",
    "\n",
    "# calculate per capita consumption / assets\n",
    "df_svy.loc[:, 'p2_consumption_pc_wins'] = df_svy['p2_consumption_wins'].values / df_svy['s4_q1_hhmembers'].values\n",
    "df_svy.loc[:, 'p1_assets_pc_wins'] = df_svy['p1_assets_wins'].values / df_svy['s4_q1_hhmembers'].values"
   ]
  },
  {
   "cell_type": "code",
   "execution_count": 10,
   "metadata": {},
   "outputs": [],
   "source": [
    "# # debug step\n",
    "# df_svy.loc[:, 'log_p2_consumption_wins'] = winsorize(\n",
    "#     df_svy['p2_consumption_wins'], 2.5, 97.5\n",
    "# ).apply(\n",
    "#     lambda x: np.log(x) if x > 0 else np.nan\n",
    "# )\n",
    "# df_svy.loc[:, 'log_p1_assets_wins'] = winsorize(\n",
    "#     df_svy['p1_assets_wins'], 2.5, 97.5\n",
    "# ).apply(\n",
    "#     lambda x: np.log(x) if x > 0 else np.nan\n",
    "# )\n",
    "\n",
    "# fig, ax = plot(\n",
    "#     df=df_svy,\n",
    "#     x='log_p2_consumption_wins',\n",
    "#     y='log_p1_assets_wins')\n",
    "# plt.show()\n",
    "\n",
    "# fig, ax = plot(\n",
    "#     df=df_svy,\n",
    "#     y='log_p2_consumption_wins',\n",
    "#     x='log_p1_assets_wins')\n",
    "# plt.show()"
   ]
  },
  {
   "cell_type": "code",
   "execution_count": 11,
   "metadata": {},
   "outputs": [],
   "source": [
    "# fig, ax = plot(\n",
    "#     df=df_svy,\n",
    "#     y='p1_6_nonthatchedroof',\n",
    "#     x='p1_assets_wins')\n",
    "# plt.show()"
   ]
  },
  {
   "cell_type": "code",
   "execution_count": 12,
   "metadata": {},
   "outputs": [],
   "source": [
    "# fig, ax = plot(\n",
    "#     df=df_svy,\n",
    "#     y='p1_6_nonthatchedroof',\n",
    "#     x='p2_consumption_wins')\n",
    "# plt.show()"
   ]
  },
  {
   "cell_type": "markdown",
   "metadata": {},
   "source": [
    "## Satellite"
   ]
  },
  {
   "cell_type": "code",
   "execution_count": 13,
   "metadata": {},
   "outputs": [],
   "source": [
    "df = gpd.read_file(SAT_IN_GEOM_DIR)\n",
    "# score threshold\n",
    "df = df.loc[df['score'] > 0.9, :].copy()\n",
    "# extract centroid\n",
    "df.loc[:, 'centroid_lon'] = df.geometry.centroid.x.values\n",
    "df.loc[:, 'centroid_lat'] = df.geometry.centroid.y.values\n",
    "\n",
    "# roof color, view histogram and scatter\n",
    "# df['R_mean'].plot(kind='hist', bins=50)\n",
    "# pd.DataFrame(df).plot.scatter(x='R_mean', y='B_mean', alpha=0.1)\n",
    "svm_coef = np.array([[-0.06021201, 0.0905571, 0.00755191]])\n",
    "luma_coef = np.array([[0.3, 0.59, 0.11]])\n",
    "svm_intercept = -6.17484352\n",
    "\n",
    "df.loc[:, 'RGB_mean'] = np.mean(df.loc[:, ['R_mean', 'G_mean', 'B_mean']].values, axis=1)\n",
    "df.loc[:, 'RGB_max'] = np.max(df.loc[:, ['R_mean', 'G_mean', 'B_mean']].values, axis=1)\n",
    "df.loc[:, 'RGB_min'] = np.min(df.loc[:, ['R_mean', 'G_mean', 'B_mean']].values, axis=1)\n",
    "df.loc[:, 'RGB_svm'] = df.loc[:, ['R_mean', 'G_mean', 'B_mean']].values.dot(svm_coef.T) + svm_intercept\n",
    "df.loc[:, 'RGB_svm_metal'] = df.loc[:, 'RGB_svm'].values > 0\n",
    "df.loc[:, 'RGB_maxminhalf'] = (df.loc[:, 'RGB_max'].values + df.loc[:, 'RGB_min'].values) / 2\n",
    "df.loc[:, 'RGB_luma'] = df.loc[:, ['R_mean', 'G_mean', 'B_mean']].values.dot(luma_coef.T)\n",
    "\n",
    "# convert unit\n",
    "df.loc[:, 'area'] *= ((0.001716 * 111000 / 800) ** 2)  # in sq meters\n",
    "\n",
    "df_sat = df.reset_index(drop=True)\n",
    "\n",
    "df_sat.loc[:, 'RGB_svm_metal'] = df_sat['RGB_svm_metal'].astype(np.float)"
   ]
  },
  {
   "cell_type": "markdown",
   "metadata": {},
   "source": [
    "## Matching"
   ]
  },
  {
   "cell_type": "code",
   "execution_count": 14,
   "metadata": {},
   "outputs": [],
   "source": [
    "radius = 0.00045  # =50m\n",
    "k = 10  # no. of nearest neighbors examined\n",
    "\n",
    "# match structures to households\n",
    "# one structure is matched to one household at most\n",
    "tree = scipy.spatial.cKDTree(\n",
    "    df_svy.loc[:, ['s19_gps_longitude', 's19_gps_latitude']].values)\n",
    "dists, svy_idxes = tree.query(\n",
    "    df_sat.loc[:, ['centroid_lon', 'centroid_lat']].values, k=k)\n",
    "rank, sat_idxes = np.meshgrid(range(k), range(df_sat.shape[0]))\n",
    "assert (dists[:, -1] > radius).all(), 'increase k value'\n",
    "svy_idxes = svy_idxes[dists < radius]\n",
    "sat_idxes = sat_idxes[dists < radius]\n",
    "df = pd.concat([\n",
    "    df_svy.loc[svy_idxes, :].reset_index(drop=True),\n",
    "    df_sat.loc[sat_idxes, :].reset_index(drop=True),\n",
    "    pd.DataFrame({'rank': rank[dists < radius],\n",
    "                  'distance': dists[dists < radius]}),\n",
    "], axis=1)\n",
    "df = df.sort_values(by=['s1_hhid_key', 'distance'])"
   ]
  },
  {
   "cell_type": "code",
   "execution_count": 15,
   "metadata": {},
   "outputs": [],
   "source": [
    "df_hh_closest = df.drop_duplicates(subset=['s1_hhid_key'], keep='first')\n",
    "\n",
    "df_hh_closest = pd.merge(df_svy, df_hh_closest, how='left', on=df_svy.columns.tolist())\n",
    "\n",
    "# df_hh_closest.loc[:, 'area'] = df_hh_closest['area'].fillna(0)\n",
    "# df_hh_closest.loc[:, 'RGB_mean'] = df_hh_closest['RGB_mean'].fillna(\n",
    "#     np.nanpercentile(df_hh_closest['RGB_mean'].values, 10)\n",
    "# )"
   ]
  },
  {
   "cell_type": "code",
   "execution_count": 16,
   "metadata": {},
   "outputs": [],
   "source": [
    "df_hh = df.groupby(df_svy.columns.tolist()).agg(\n",
    "    house_count=pd.NamedAgg(column='area', aggfunc='count'),\n",
    "    area_sum=pd.NamedAgg(column='area', aggfunc='sum'),\n",
    "    RGB_mean=pd.NamedAgg(column='RGB_mean', aggfunc='mean'),\n",
    "    RGB_max=pd.NamedAgg(column='RGB_mean', aggfunc='max'),\n",
    ").reset_index()\n",
    "df_hh = pd.merge(df_svy, df_hh, how='left', on=df_svy.columns.tolist())\n",
    "\n",
    "# df_hh.loc[:, 'house_count'] = df_hh['house_count'].fillna(0)\n",
    "# df_hh.loc[:, 'area_sum'] = df_hh['area_sum'].fillna(0)\n",
    "# df_hh.loc[:, 'area_sum'] = df_hh['area_sum'].fillna(\n",
    "#     np.nanpercentile(df_hh['area_sum'].values, 50)\n",
    "# )"
   ]
  },
  {
   "cell_type": "markdown",
   "metadata": {},
   "source": [
    "## Figures"
   ]
  },
  {
   "cell_type": "code",
   "execution_count": 17,
   "metadata": {},
   "outputs": [],
   "source": [
    "# fig, ax = plot(\n",
    "#     df=df_hh_closest,\n",
    "#     y='RGB_mean',\n",
    "#     x='p1_assets_wins')\n",
    "# plt.show()"
   ]
  },
  {
   "cell_type": "code",
   "execution_count": 18,
   "metadata": {},
   "outputs": [],
   "source": [
    "# fig, ax = plot(\n",
    "#     df=df_hh_closest,\n",
    "#     y='RGB_mean',\n",
    "#     x='p2_consumption_wins')\n",
    "# plt.show()"
   ]
  },
  {
   "cell_type": "code",
   "execution_count": 19,
   "metadata": {
    "scrolled": true
   },
   "outputs": [],
   "source": [
    "# fig, ax = plot(\n",
    "#     df=df_hh_closest,\n",
    "#     y='RGB_svm_metal',\n",
    "#     x='p1_assets_wins')\n",
    "# plt.show()"
   ]
  },
  {
   "cell_type": "code",
   "execution_count": 20,
   "metadata": {},
   "outputs": [],
   "source": [
    "# fig, ax = plot(\n",
    "#     df=df_hh_closest,\n",
    "#     y='RGB_svm_metal',\n",
    "#     x='p2_consumption_wins')\n",
    "# plt.show()"
   ]
  },
  {
   "cell_type": "code",
   "execution_count": 21,
   "metadata": {
    "scrolled": false
   },
   "outputs": [],
   "source": [
    "# fig, ax = plot(\n",
    "#     df=df_hh_closest,\n",
    "#     y='area',\n",
    "#     x='p1_assets_wins')\n",
    "# plt.show()"
   ]
  },
  {
   "cell_type": "code",
   "execution_count": 22,
   "metadata": {},
   "outputs": [],
   "source": [
    "# fig, ax = plot(\n",
    "#     df=df_hh_closest,\n",
    "#     y='area',\n",
    "#     x='p2_consumption_wins')\n",
    "# plt.show()"
   ]
  },
  {
   "cell_type": "code",
   "execution_count": 23,
   "metadata": {
    "scrolled": false
   },
   "outputs": [],
   "source": [
    "# fig, ax = plot(\n",
    "#     df=df_hh,\n",
    "#     y='area_sum',\n",
    "#     x='p1_assets_wins')\n",
    "# plt.show()"
   ]
  },
  {
   "cell_type": "code",
   "execution_count": 24,
   "metadata": {
    "scrolled": true
   },
   "outputs": [],
   "source": [
    "# fig, ax = plot(\n",
    "#     df=df_hh,\n",
    "#     y='area_sum',\n",
    "#     x='p2_consumption_wins')\n",
    "# plt.show()"
   ]
  },
  {
   "cell_type": "code",
   "execution_count": 25,
   "metadata": {},
   "outputs": [],
   "source": [
    "# village level analysis doesn't work\n",
    "# df_village = df_hh.groupby('village_code').agg(\n",
    "#     treat=pd.NamedAgg(column='treat', aggfunc='mean'),\n",
    "#     house_count=pd.NamedAgg(column='house_count', aggfunc='sum'),\n",
    "#     area_sum=pd.NamedAgg(column='area_sum', aggfunc='sum'),\n",
    "#     RGB_mean=pd.NamedAgg(column='RGB_mean', aggfunc='mean'),\n",
    "#     p2_consumption_wins=pd.NamedAgg(column='p2_consumption_wins', aggfunc='mean'),\n",
    "#     p1_assets_wins=pd.NamedAgg(column='p1_assets_wins', aggfunc='mean'),\n",
    "# ).reset_index()"
   ]
  },
  {
   "cell_type": "markdown",
   "metadata": {},
   "source": [
    "## More specifications"
   ]
  },
  {
   "cell_type": "markdown",
   "metadata": {},
   "source": [
    "* log + winsorize"
   ]
  },
  {
   "cell_type": "code",
   "execution_count": 26,
   "metadata": {},
   "outputs": [],
   "source": [
    "# take logs\n",
    "# note to self: this also needs a bit more work\n",
    "# I'm dropping <=0 values here\n",
    "df_hh_closest.loc[:, 'log_p2_consumption_wins'] = winsorize(\n",
    "    df_hh_closest['p2_consumption_wins'], 2.5, 97.5\n",
    ").apply(\n",
    "    lambda x: np.log(x) if x > 0 else np.nan\n",
    ")\n",
    "df_hh_closest.loc[:, 'log_p1_assets_wins'] = winsorize(\n",
    "    df_hh_closest['p1_assets_wins'], 2.5, 97.5\n",
    ").apply(\n",
    "    lambda x: np.log(x) if x > 0 else np.nan\n",
    ")"
   ]
  },
  {
   "cell_type": "code",
   "execution_count": 27,
   "metadata": {},
   "outputs": [],
   "source": [
    "# fig, ax = plot(\n",
    "#     df=df_hh_closest,\n",
    "#     y='area',\n",
    "#     x='log_p1_assets_wins')\n",
    "# plt.show()"
   ]
  },
  {
   "cell_type": "code",
   "execution_count": 28,
   "metadata": {},
   "outputs": [],
   "source": [
    "# fig, ax = plot(\n",
    "#     df=df_hh_closest,\n",
    "#     y='area',\n",
    "#     x='log_p2_consumption_wins')\n",
    "# plt.show()"
   ]
  },
  {
   "cell_type": "code",
   "execution_count": 29,
   "metadata": {},
   "outputs": [],
   "source": [
    "# fig, ax = plot(\n",
    "#     df=df_hh_closest,\n",
    "#     y='RGB_mean',\n",
    "#     x='log_p1_assets_wins')\n",
    "# plt.show()"
   ]
  },
  {
   "cell_type": "code",
   "execution_count": 30,
   "metadata": {},
   "outputs": [],
   "source": [
    "# fig, ax = plot(\n",
    "#     df=df_hh_closest,\n",
    "#     y='RGB_mean',\n",
    "#     x='log_p2_consumption_wins')\n",
    "# plt.show()"
   ]
  },
  {
   "cell_type": "markdown",
   "metadata": {},
   "source": [
    "### Matched to multiple structures"
   ]
  },
  {
   "cell_type": "code",
   "execution_count": 31,
   "metadata": {},
   "outputs": [],
   "source": [
    "# take logs\n",
    "# note to self: this also needs a bit more work\n",
    "# I'm dropping <=0 values here\n",
    "df_hh.loc[:, 'log_p2_consumption_wins'] = winsorize(\n",
    "    df_hh['p2_consumption_wins'], 2.5, 97.5\n",
    ").apply(\n",
    "    lambda x: np.log(x) if x > 0 else np.nan\n",
    ")\n",
    "df_hh.loc[:, 'log_p1_assets_wins'] = winsorize(\n",
    "    df_hh['p1_assets_wins'], 2.5, 97.5\n",
    ").apply(\n",
    "    lambda x: np.log(x) if x > 0 else np.nan\n",
    ")"
   ]
  },
  {
   "cell_type": "code",
   "execution_count": 32,
   "metadata": {},
   "outputs": [],
   "source": [
    "# fig, ax = plot(\n",
    "#     df=df_hh,\n",
    "#     y='area_sum',\n",
    "#     x='log_p1_assets_wins')\n",
    "# plt.show()"
   ]
  },
  {
   "cell_type": "code",
   "execution_count": 33,
   "metadata": {},
   "outputs": [],
   "source": [
    "# fig, ax = plot(\n",
    "#     df=df_hh,\n",
    "#     y='area_sum',\n",
    "#     x='log_p2_consumption_wins')\n",
    "# plt.show()"
   ]
  },
  {
   "cell_type": "markdown",
   "metadata": {},
   "source": [
    "* per capita"
   ]
  },
  {
   "cell_type": "code",
   "execution_count": 60,
   "metadata": {},
   "outputs": [],
   "source": [
    "# df_hh_closest.loc[:, 'area_pc'] = df_hh_closest['area'].values / df_hh_closest['s4_q1_hhmembers'].values\n",
    "# df_hh_closest.loc[:, 'log_p2_consumption_pc_wins'] = winsorize(\n",
    "#     df_hh_closest['p2_consumption_pc_wins'], 2.5, 97.5\n",
    "# ).apply(\n",
    "#     lambda x: np.log(x) if x > 0 else np.nan\n",
    "# )\n",
    "# df_hh_closest.loc[:, 'log_p1_assets_pc_wins'] = winsorize(\n",
    "#     df_hh_closest['p1_assets_pc_wins'], 2.5, 97.5\n",
    "# ).apply(\n",
    "#     lambda x: np.log(x) if x > 0 else np.nan\n",
    "# )\n",
    "\n",
    "df_hh.loc[:, 'area_sum_pc'] = df_hh['area_sum'].values / df_hh['s4_q1_hhmembers'].values\n",
    "df_hh.loc[:, 'log_p2_consumption_pc_wins'] = winsorize(\n",
    "    df_hh['p2_consumption_pc_wins'], 1, 97.5\n",
    ").apply(\n",
    "    lambda x: np.log(x) if x > 0 else np.nan\n",
    ")\n",
    "df_hh.loc[:, 'log_p1_assets_pc_wins'] = winsorize(\n",
    "    df_hh['p1_assets_pc_wins'], 2.5, 97.5\n",
    ").apply(\n",
    "    lambda x: np.log(x) if x > 0 else np.nan\n",
    ")\n",
    "df_hh.loc[:, 'log_area_sum_pc'] = winsorize(\n",
    "    df_hh['area_sum_pc'], 0, 97.5\n",
    ").apply(\n",
    "   lambda x: np.log(x) if x > 0 else np.nan\n",
    ")"
   ]
  },
  {
   "cell_type": "code",
   "execution_count": 61,
   "metadata": {},
   "outputs": [
    {
     "data": {
      "text/html": [
       "<div>\n",
       "<style scoped>\n",
       "    .dataframe tbody tr th:only-of-type {\n",
       "        vertical-align: middle;\n",
       "    }\n",
       "\n",
       "    .dataframe tbody tr th {\n",
       "        vertical-align: top;\n",
       "    }\n",
       "\n",
       "    .dataframe thead th {\n",
       "        text-align: right;\n",
       "    }\n",
       "</style>\n",
       "<table border=\"1\" class=\"dataframe\">\n",
       "  <thead>\n",
       "    <tr style=\"text-align: right;\">\n",
       "      <th></th>\n",
       "      <th>count</th>\n",
       "      <th>mean</th>\n",
       "      <th>std</th>\n",
       "      <th>min</th>\n",
       "      <th>25%</th>\n",
       "      <th>50%</th>\n",
       "      <th>75%</th>\n",
       "      <th>max</th>\n",
       "    </tr>\n",
       "  </thead>\n",
       "  <tbody>\n",
       "    <tr>\n",
       "      <td>s19_gps_latitude</td>\n",
       "      <td>5231.0</td>\n",
       "      <td>0.160807</td>\n",
       "      <td>0.166195</td>\n",
       "      <td>-2.411477</td>\n",
       "      <td>0.114793</td>\n",
       "      <td>0.182157</td>\n",
       "      <td>0.237273</td>\n",
       "      <td>1.044095</td>\n",
       "    </tr>\n",
       "    <tr>\n",
       "      <td>s19_gps_longitude</td>\n",
       "      <td>5231.0</td>\n",
       "      <td>34.289268</td>\n",
       "      <td>0.262096</td>\n",
       "      <td>33.992100</td>\n",
       "      <td>34.194492</td>\n",
       "      <td>34.265739</td>\n",
       "      <td>34.337666</td>\n",
       "      <td>38.099339</td>\n",
       "    </tr>\n",
       "    <tr>\n",
       "      <td>s6_q1_haselectricity</td>\n",
       "      <td>5231.0</td>\n",
       "      <td>1.837316</td>\n",
       "      <td>0.369112</td>\n",
       "      <td>1.000000</td>\n",
       "      <td>2.000000</td>\n",
       "      <td>2.000000</td>\n",
       "      <td>2.000000</td>\n",
       "      <td>2.000000</td>\n",
       "    </tr>\n",
       "    <tr>\n",
       "      <td>p1_6_nonthatchedroof</td>\n",
       "      <td>5227.0</td>\n",
       "      <td>0.569543</td>\n",
       "      <td>0.495188</td>\n",
       "      <td>0.000000</td>\n",
       "      <td>0.000000</td>\n",
       "      <td>1.000000</td>\n",
       "      <td>1.000000</td>\n",
       "      <td>1.000000</td>\n",
       "    </tr>\n",
       "    <tr>\n",
       "      <td>p2_consumption_wins</td>\n",
       "      <td>5231.0</td>\n",
       "      <td>123595.109375</td>\n",
       "      <td>82811.640625</td>\n",
       "      <td>0.000000</td>\n",
       "      <td>64520.000000</td>\n",
       "      <td>105080.000000</td>\n",
       "      <td>161440.000000</td>\n",
       "      <td>461820.000000</td>\n",
       "    </tr>\n",
       "    <tr>\n",
       "      <td>treat</td>\n",
       "      <td>5231.0</td>\n",
       "      <td>0.503919</td>\n",
       "      <td>0.500032</td>\n",
       "      <td>0.000000</td>\n",
       "      <td>0.000000</td>\n",
       "      <td>1.000000</td>\n",
       "      <td>1.000000</td>\n",
       "      <td>1.000000</td>\n",
       "    </tr>\n",
       "    <tr>\n",
       "      <td>p1_assets_wins</td>\n",
       "      <td>5231.0</td>\n",
       "      <td>37181.722656</td>\n",
       "      <td>40675.738281</td>\n",
       "      <td>-131050.000000</td>\n",
       "      <td>11750.000000</td>\n",
       "      <td>23700.000000</td>\n",
       "      <td>48000.000000</td>\n",
       "      <td>226158.000000</td>\n",
       "    </tr>\n",
       "    <tr>\n",
       "      <td>satcluster</td>\n",
       "      <td>5231.0</td>\n",
       "      <td>35.341426</td>\n",
       "      <td>19.290286</td>\n",
       "      <td>1.000000</td>\n",
       "      <td>19.000000</td>\n",
       "      <td>35.000000</td>\n",
       "      <td>51.000000</td>\n",
       "      <td>68.000000</td>\n",
       "    </tr>\n",
       "    <tr>\n",
       "      <td>s4_q1_hhmembers</td>\n",
       "      <td>4506.0</td>\n",
       "      <td>4.381269</td>\n",
       "      <td>2.220827</td>\n",
       "      <td>1.000000</td>\n",
       "      <td>3.000000</td>\n",
       "      <td>4.000000</td>\n",
       "      <td>6.000000</td>\n",
       "      <td>16.000000</td>\n",
       "    </tr>\n",
       "    <tr>\n",
       "      <td>p2_consumption_pc_wins</td>\n",
       "      <td>4506.0</td>\n",
       "      <td>35694.381662</td>\n",
       "      <td>34949.773693</td>\n",
       "      <td>0.000000</td>\n",
       "      <td>16407.500000</td>\n",
       "      <td>26528.666667</td>\n",
       "      <td>42329.166667</td>\n",
       "      <td>461820.000000</td>\n",
       "    </tr>\n",
       "    <tr>\n",
       "      <td>p1_assets_pc_wins</td>\n",
       "      <td>4506.0</td>\n",
       "      <td>10401.330498</td>\n",
       "      <td>14023.023365</td>\n",
       "      <td>-65525.000000</td>\n",
       "      <td>3100.000000</td>\n",
       "      <td>6133.035714</td>\n",
       "      <td>12295.833333</td>\n",
       "      <td>226158.000000</td>\n",
       "    </tr>\n",
       "    <tr>\n",
       "      <td>house_count</td>\n",
       "      <td>3866.0</td>\n",
       "      <td>2.877651</td>\n",
       "      <td>1.914007</td>\n",
       "      <td>1.000000</td>\n",
       "      <td>1.000000</td>\n",
       "      <td>2.000000</td>\n",
       "      <td>4.000000</td>\n",
       "      <td>19.000000</td>\n",
       "    </tr>\n",
       "    <tr>\n",
       "      <td>area_sum</td>\n",
       "      <td>3866.0</td>\n",
       "      <td>189.435901</td>\n",
       "      <td>168.629352</td>\n",
       "      <td>12.585009</td>\n",
       "      <td>82.213554</td>\n",
       "      <td>146.343245</td>\n",
       "      <td>242.488177</td>\n",
       "      <td>1796.424979</td>\n",
       "    </tr>\n",
       "    <tr>\n",
       "      <td>RGB_mean</td>\n",
       "      <td>3866.0</td>\n",
       "      <td>166.483229</td>\n",
       "      <td>27.933218</td>\n",
       "      <td>43.568344</td>\n",
       "      <td>149.811395</td>\n",
       "      <td>170.922365</td>\n",
       "      <td>187.509035</td>\n",
       "      <td>234.217423</td>\n",
       "    </tr>\n",
       "    <tr>\n",
       "      <td>RGB_max</td>\n",
       "      <td>3866.0</td>\n",
       "      <td>186.198454</td>\n",
       "      <td>27.935015</td>\n",
       "      <td>43.568344</td>\n",
       "      <td>179.522041</td>\n",
       "      <td>194.095598</td>\n",
       "      <td>203.352000</td>\n",
       "      <td>238.910653</td>\n",
       "    </tr>\n",
       "    <tr>\n",
       "      <td>log_p2_consumption_wins</td>\n",
       "      <td>5231.0</td>\n",
       "      <td>11.506524</td>\n",
       "      <td>0.671619</td>\n",
       "      <td>9.892679</td>\n",
       "      <td>11.074731</td>\n",
       "      <td>11.562477</td>\n",
       "      <td>11.991889</td>\n",
       "      <td>12.754873</td>\n",
       "    </tr>\n",
       "    <tr>\n",
       "      <td>log_p1_assets_wins</td>\n",
       "      <td>5231.0</td>\n",
       "      <td>10.010416</td>\n",
       "      <td>1.075255</td>\n",
       "      <td>7.207860</td>\n",
       "      <td>9.371609</td>\n",
       "      <td>10.073230</td>\n",
       "      <td>10.778956</td>\n",
       "      <td>11.967498</td>\n",
       "    </tr>\n",
       "    <tr>\n",
       "      <td>area_sum_pc</td>\n",
       "      <td>3866.0</td>\n",
       "      <td>60.988144</td>\n",
       "      <td>79.292078</td>\n",
       "      <td>3.015867</td>\n",
       "      <td>19.444406</td>\n",
       "      <td>36.597621</td>\n",
       "      <td>70.825633</td>\n",
       "      <td>1550.110278</td>\n",
       "    </tr>\n",
       "    <tr>\n",
       "      <td>log_p2_consumption_pc_wins</td>\n",
       "      <td>4506.0</td>\n",
       "      <td>10.181031</td>\n",
       "      <td>0.727352</td>\n",
       "      <td>8.243822</td>\n",
       "      <td>9.705494</td>\n",
       "      <td>10.185981</td>\n",
       "      <td>10.653232</td>\n",
       "      <td>11.794715</td>\n",
       "    </tr>\n",
       "    <tr>\n",
       "      <td>log_p1_assets_pc_wins</td>\n",
       "      <td>4506.0</td>\n",
       "      <td>8.695252</td>\n",
       "      <td>1.049321</td>\n",
       "      <td>6.004401</td>\n",
       "      <td>8.039157</td>\n",
       "      <td>8.721445</td>\n",
       "      <td>9.417016</td>\n",
       "      <td>10.741727</td>\n",
       "    </tr>\n",
       "    <tr>\n",
       "      <td>log_area_sum_pc</td>\n",
       "      <td>3866.0</td>\n",
       "      <td>3.625846</td>\n",
       "      <td>0.950935</td>\n",
       "      <td>1.103887</td>\n",
       "      <td>2.967559</td>\n",
       "      <td>3.599981</td>\n",
       "      <td>4.260221</td>\n",
       "      <td>5.912428</td>\n",
       "    </tr>\n",
       "  </tbody>\n",
       "</table>\n",
       "</div>"
      ],
      "text/plain": [
       "                             count           mean           std  \\\n",
       "s19_gps_latitude            5231.0       0.160807      0.166195   \n",
       "s19_gps_longitude           5231.0      34.289268      0.262096   \n",
       "s6_q1_haselectricity        5231.0       1.837316      0.369112   \n",
       "p1_6_nonthatchedroof        5227.0       0.569543      0.495188   \n",
       "p2_consumption_wins         5231.0  123595.109375  82811.640625   \n",
       "treat                       5231.0       0.503919      0.500032   \n",
       "p1_assets_wins              5231.0   37181.722656  40675.738281   \n",
       "satcluster                  5231.0      35.341426     19.290286   \n",
       "s4_q1_hhmembers             4506.0       4.381269      2.220827   \n",
       "p2_consumption_pc_wins      4506.0   35694.381662  34949.773693   \n",
       "p1_assets_pc_wins           4506.0   10401.330498  14023.023365   \n",
       "house_count                 3866.0       2.877651      1.914007   \n",
       "area_sum                    3866.0     189.435901    168.629352   \n",
       "RGB_mean                    3866.0     166.483229     27.933218   \n",
       "RGB_max                     3866.0     186.198454     27.935015   \n",
       "log_p2_consumption_wins     5231.0      11.506524      0.671619   \n",
       "log_p1_assets_wins          5231.0      10.010416      1.075255   \n",
       "area_sum_pc                 3866.0      60.988144     79.292078   \n",
       "log_p2_consumption_pc_wins  4506.0      10.181031      0.727352   \n",
       "log_p1_assets_pc_wins       4506.0       8.695252      1.049321   \n",
       "log_area_sum_pc             3866.0       3.625846      0.950935   \n",
       "\n",
       "                                      min           25%            50%  \\\n",
       "s19_gps_latitude                -2.411477      0.114793       0.182157   \n",
       "s19_gps_longitude               33.992100     34.194492      34.265739   \n",
       "s6_q1_haselectricity             1.000000      2.000000       2.000000   \n",
       "p1_6_nonthatchedroof             0.000000      0.000000       1.000000   \n",
       "p2_consumption_wins              0.000000  64520.000000  105080.000000   \n",
       "treat                            0.000000      0.000000       1.000000   \n",
       "p1_assets_wins             -131050.000000  11750.000000   23700.000000   \n",
       "satcluster                       1.000000     19.000000      35.000000   \n",
       "s4_q1_hhmembers                  1.000000      3.000000       4.000000   \n",
       "p2_consumption_pc_wins           0.000000  16407.500000   26528.666667   \n",
       "p1_assets_pc_wins           -65525.000000   3100.000000    6133.035714   \n",
       "house_count                      1.000000      1.000000       2.000000   \n",
       "area_sum                        12.585009     82.213554     146.343245   \n",
       "RGB_mean                        43.568344    149.811395     170.922365   \n",
       "RGB_max                         43.568344    179.522041     194.095598   \n",
       "log_p2_consumption_wins          9.892679     11.074731      11.562477   \n",
       "log_p1_assets_wins               7.207860      9.371609      10.073230   \n",
       "area_sum_pc                      3.015867     19.444406      36.597621   \n",
       "log_p2_consumption_pc_wins       8.243822      9.705494      10.185981   \n",
       "log_p1_assets_pc_wins            6.004401      8.039157       8.721445   \n",
       "log_area_sum_pc                  1.103887      2.967559       3.599981   \n",
       "\n",
       "                                      75%            max  \n",
       "s19_gps_latitude                 0.237273       1.044095  \n",
       "s19_gps_longitude               34.337666      38.099339  \n",
       "s6_q1_haselectricity             2.000000       2.000000  \n",
       "p1_6_nonthatchedroof             1.000000       1.000000  \n",
       "p2_consumption_wins         161440.000000  461820.000000  \n",
       "treat                            1.000000       1.000000  \n",
       "p1_assets_wins               48000.000000  226158.000000  \n",
       "satcluster                      51.000000      68.000000  \n",
       "s4_q1_hhmembers                  6.000000      16.000000  \n",
       "p2_consumption_pc_wins       42329.166667  461820.000000  \n",
       "p1_assets_pc_wins            12295.833333  226158.000000  \n",
       "house_count                      4.000000      19.000000  \n",
       "area_sum                       242.488177    1796.424979  \n",
       "RGB_mean                       187.509035     234.217423  \n",
       "RGB_max                        203.352000     238.910653  \n",
       "log_p2_consumption_wins         11.991889      12.754873  \n",
       "log_p1_assets_wins              10.778956      11.967498  \n",
       "area_sum_pc                     70.825633    1550.110278  \n",
       "log_p2_consumption_pc_wins      10.653232      11.794715  \n",
       "log_p1_assets_pc_wins            9.417016      10.741727  \n",
       "log_area_sum_pc                  4.260221       5.912428  "
      ]
     },
     "execution_count": 61,
     "metadata": {},
     "output_type": "execute_result"
    }
   ],
   "source": [
    "df_hh.describe().T"
   ]
  },
  {
   "cell_type": "code",
   "execution_count": 64,
   "metadata": {},
   "outputs": [
    {
     "data": {
      "image/png": "[encoded data removed]",
      "text/plain": [
       "<Figure size 432x288 with 1 Axes>"
      ]
     },
     "metadata": {
      "needs_background": "light"
     },
     "output_type": "display_data"
    }
   ],
   "source": [
    "fig, ax = plot(\n",
    "    df=df_hh,\n",
    "    y='log_area_sum_pc',\n",
    "    x='log_p1_assets_pc_wins',\n",
    "    frac=0.33)\n",
    "plt.show()"
   ]
  },
  {
   "cell_type": "code",
   "execution_count": 65,
   "metadata": {},
   "outputs": [
    {
     "data": {
      "image/png": "[encoded data removed]",
      "text/plain": [
       "<Figure size 432x288 with 1 Axes>"
      ]
     },
     "metadata": {
      "needs_background": "light"
     },
     "output_type": "display_data"
    }
   ],
   "source": [
    "fig, ax = plot(\n",
    "    df=df_hh,\n",
    "    y='log_area_sum_pc',\n",
    "    x='log_p2_consumption_pc_wins',\n",
    "    frac=0.33)\n",
    "plt.show()"
   ]
  },
  {
   "cell_type": "code",
   "execution_count": 38,
   "metadata": {},
   "outputs": [],
   "source": [
    "# fig, ax = plot(\n",
    "#     df=df_hh_closest,\n",
    "#     y='RGB_mean',\n",
    "#     x='log_p1_assets_pc_wins')\n",
    "# plt.show()"
   ]
  },
  {
   "cell_type": "code",
   "execution_count": 39,
   "metadata": {},
   "outputs": [],
   "source": [
    "# fig, ax = plot(\n",
    "#     df=df_hh_closest,\n",
    "#     y='RGB_mean',\n",
    "#     x='log_p2_consumption_pc_wins')\n",
    "# plt.show()"
   ]
  },
  {
   "cell_type": "markdown",
   "metadata": {},
   "source": [
    "* sublocation fixed effects"
   ]
  },
  {
   "cell_type": "code",
   "execution_count": 40,
   "metadata": {},
   "outputs": [],
   "source": [
    "# # demean by satcluster\n",
    "# df_hh_closest.loc[:, 'p2_consumption_pc_wins'] = winsorize(\n",
    "#     df_hh_closest['p2_consumption_pc_wins'], 5, 95)\n",
    "# df_hh_closest.loc[:, 'demean_p2_consumption_pc_wins'] = demean(\n",
    "#     df=df_hh_closest, column='p2_consumption_pc_wins', by=['satcluster'])\n",
    "# df_hh_closest.loc[:, 'p1_assets_pc_wins'] = winsorize(\n",
    "#     df_hh_closest['p1_assets_pc_wins'], 5, 95)\n",
    "# df_hh_closest.loc[:, 'demean_p1_assets_pc_wins'] = demean(\n",
    "#     df=df_hh_closest, column='p1_assets_pc_wins', by=['satcluster'])\n",
    "# df_hh_closest.loc[:, 'demean_RGB_mean'] = demean(\n",
    "#     df=df_hh_closest, column='RGB_mean', by=['satcluster'])\n",
    "# df_hh_closest.loc[:, 'demean_area_pc'] = demean(\n",
    "#     df=df_hh_closest, column='area_pc', by=['satcluster'])"
   ]
  },
  {
   "cell_type": "markdown",
   "metadata": {},
   "source": [
    "## GE Census\n",
    "\n",
    "## Problem\n",
    "\n",
    "I match GE census data (at baseline) to building polygons by finding the nearest neighbor to the geocode recorded in the census. The expectation is to compare roof materials and satellite based observables and validate the satellite based measurements. The output figure/table is the correlation between satellite based observables (eg color vector, building size) and census variables (roof materials, no. of rooms). This is not an Engel curve exercise, but merely validation.\n",
    "\n",
    "## Diagnostics\n",
    "\n",
    "Potential reasons for low correlation coefficients:\n",
    "\n",
    "- Model is misspecified (possible, but not causing this)\n",
    "- For luminosity, lack of satellite image fixed effects (nah)\n",
    "- Imperfect geocoding, matched to neighbors or non-residential structures (nah)\n",
    "- crappy ML prediction of building polygon (possible, but not causing this)\n",
    "- Time mismatch between satellite and survey (possible)\n",
    "\n",
    "I input the geocodes to google static maps, and randomly picked two village, and literally every building has an iron roof, no kidding. Maybe we just cannot see any thatched roof houses from google static map??? so they are being missed instead of scoring a low reflection score. However, I find that hard to believe, the geocodes clearly seem to be pointing to existing metal roof buildings.\n",
    "\n",
    "I'm going to attribute the mismatch to time mismatch from now on, which we don't really know is what is going on, but I can't possibly find another explanation for this, looking at the images. Did rural Kenya really grow that much over the past five years? Maybe.\n",
    "\n",
    "I'm going to abandon the census validation exercise, because roof material I think is the only thing that matters in the census, they don't have any consumption stuff, or anything detailed, and roof materials cannot be matched."
   ]
  },
  {
   "cell_type": "code",
   "execution_count": 41,
   "metadata": {},
   "outputs": [],
   "source": [
    "# # build KD tree\n",
    "# tree = scipy.spatial.cKDTree(df.loc[:, ['centroid_lon', 'centroid_lat']].values)"
   ]
  },
  {
   "cell_type": "code",
   "execution_count": 42,
   "metadata": {},
   "outputs": [],
   "source": [
    "# # read census master\n",
    "# df = pd.read_stata(CENSUS_MASTER_IN_DIR)\n",
    "\n",
    "# # df.columns.tolist()\n",
    "\n",
    "# df = df.loc[:, [\n",
    "#     'roof', 'roof_other', 'latitude', 'longitude', 'eligible',\n",
    "#     'village_code', 'sat_grp', 'treat', 'hi_sat', 'roof_elig',\n",
    "# ]]"
   ]
  },
  {
   "cell_type": "code",
   "execution_count": 43,
   "metadata": {},
   "outputs": [],
   "source": [
    "# # clean up roof category\n",
    "# df.loc[:, 'roof'] = df['roof'].replace('', np.nan)\n",
    "# df.loc[:, 'roof_other'] = df['roof_other'].replace('', np.nan).replace('.', np.nan)\n",
    "# df.loc[df['roof_other'].notna(), 'roof'] = df.loc[df['roof_other'].notna(), 'roof_other']\n",
    "\n",
    "# df.loc[:, 'roof'] = df['roof'].replace(\n",
    "#     {'Unfinished (grass and polythene)': 'polythene',\n",
    "#      'Polythene and grass': 'polythene',\n",
    "#      'Reeds and grass': 'grass',\n",
    "#      'Canvas Tent': 'canvas',\n",
    "#      'Canvas tent': 'canvas',\n",
    "#      'Polythine  bags': 'polythene',\n",
    "#      'Partly grass,partly cement': 'cement',\n",
    "#      'Canvas': 'canvas',\n",
    "#      'leaves': 'grass'})\n",
    "\n",
    "# df = df.loc[df['roof'].isin(['iron', 'grass']), :]"
   ]
  },
  {
   "cell_type": "code",
   "execution_count": 44,
   "metadata": {},
   "outputs": [],
   "source": [
    "# df = df.dropna(subset=['longitude', 'latitude'])\n",
    "# df = df.reset_index(drop=True)"
   ]
  },
  {
   "cell_type": "code",
   "execution_count": 45,
   "metadata": {},
   "outputs": [],
   "source": [
    "# dists, idxes = tree.query(df.loc[:, ['longitude', 'latitude']].values, k=1)\n",
    "# df = pd.concat([df, df_sat.loc[idxes, :].reset_index(drop=True)], axis=1)\n",
    "# df.loc[:, 'dist'] = dists"
   ]
  },
  {
   "cell_type": "code",
   "execution_count": 46,
   "metadata": {},
   "outputs": [],
   "source": [
    "# is distance correlated with thatched roof?\n",
    "# that would indicate that thatched roof buildings\n",
    "# are not being recognized as buildings\n",
    "# df = df.loc[df['dist'] < 0.001, :].reset_index(drop=True)\n",
    "# smf.ols('eligible ~ I(dist > 0.0001)', data=df).fit().summary()\n",
    "# some evidence that this is true\n",
    "# but this shouldn't affect the correlation after\n",
    "# distant matches are dropped"
   ]
  },
  {
   "cell_type": "code",
   "execution_count": 47,
   "metadata": {},
   "outputs": [],
   "source": [
    "# df = df.loc[df['dist'] < 0.0001, :].reset_index(drop=True)\n",
    "# df['dist'].hist(bins=100)"
   ]
  },
  {
   "cell_type": "code",
   "execution_count": 48,
   "metadata": {},
   "outputs": [],
   "source": [
    "# df['R_mean'].hist(by=df['roof'], bins=50)\n",
    "# df['G_mean'].hist(by=df['roof'], bins=50)\n",
    "# df['B_mean'].hist(by=df['roof'], bins=50)"
   ]
  },
  {
   "cell_type": "code",
   "execution_count": 49,
   "metadata": {},
   "outputs": [],
   "source": [
    "# sample = np.random.random(df.shape[0]) > 0\n",
    "# sample = df.loc[:, 'treat'].values == 0"
   ]
  },
  {
   "cell_type": "code",
   "execution_count": 50,
   "metadata": {},
   "outputs": [],
   "source": [
    "# smf.ols('eligible ~ RGB_mean', data=df).fit().summary()\n",
    "# df.loc[:, ['eligible', 'RGB_mean']].corr()"
   ]
  },
  {
   "cell_type": "code",
   "execution_count": 51,
   "metadata": {},
   "outputs": [],
   "source": [
    "# smf.ols('eligible ~ RGB_mean + C(village_code)', data=df).fit().summary()\n",
    "# the sign on RGB_mean is stable with or without village fixed effects"
   ]
  },
  {
   "cell_type": "code",
   "execution_count": 52,
   "metadata": {},
   "outputs": [],
   "source": [
    "# df.loc[:, 'roof_iron'] = (df['roof'] == 'iron').astype(int)"
   ]
  },
  {
   "cell_type": "code",
   "execution_count": 53,
   "metadata": {},
   "outputs": [],
   "source": [
    "# # ok, i need to just literally look at my data\n",
    "# village_code = df['village_code'].unique().tolist()[35]\n",
    "# fig, (ax0, ax1) = plt.subplots(ncols=2, figsize=(12, 4))\n",
    "# df.loc[df['village_code'] == village_code, :].plot(\n",
    "#     x='longitude', y='latitude', c='RGB_mean',\n",
    "#     kind='scatter', cmap='coolwarm', ax=ax0)\n",
    "# df.loc[df['village_code'] == village_code, :].plot(\n",
    "#     x='longitude', y='latitude', c='roof_iron',\n",
    "#     kind='scatter', cmap='coolwarm', ax=ax1)"
   ]
  },
  {
   "cell_type": "code",
   "execution_count": 54,
   "metadata": {},
   "outputs": [],
   "source": [
    "# df.loc[df['village_code'] == village_code, ['latitude', 'longitude', 'roof_iron', 'treat']]"
   ]
  },
  {
   "cell_type": "code",
   "execution_count": 55,
   "metadata": {},
   "outputs": [],
   "source": [
    "# X = df.loc[sample, ['R_mean', 'G_mean', 'B_mean']].values\n",
    "# y = df.loc[sample, 'roof'].replace({'grass': 0, 'iron': 1}).values\n",
    "# y.mean()\n",
    "# clf = svm.SVC(kernel='linear')\n",
    "# cross_val_score(clf, X, y, cv=5)"
   ]
  }
 ],
 "metadata": {
  "kernelspec": {
   "display_name": "Python 3",
   "language": "python",
   "name": "python3"
  },
  "language_info": {
   "codemirror_mode": {
    "name": "ipython",
    "version": 3
   },
   "file_extension": ".py",
   "mimetype": "text/x-python",
   "name": "python",
   "nbconvert_exporter": "python",
   "pygments_lexer": "ipython3",
   "version": "3.7.4"
  }
 },
 "nbformat": 4,
 "nbformat_minor": 2
}
