{
 "cells": [
  {
   "cell_type": "code",
   "execution_count": 1,
   "metadata": {},
   "outputs": [],
   "source": [
    "import os\n",
    "import json\n",
    "import numpy as np\n",
    "import pandas as pd\n",
    "from argparse import Namespace\n",
    "from glob import glob"
   ]
  },
  {
   "cell_type": "code",
   "execution_count": 2,
   "metadata": {},
   "outputs": [],
   "source": [
    "SVY_IN_DIR = 'data/GiveDirectly/Survey/household.dta'\n",
    "SAT_IN_DIR = 'data/GiveDirectly/Pred/infer/'\n",
    "OUT_DIR = 'data/GiveDirectly/merged.csv'\n",
    "\n",
    "# set up visualization cfg\n",
    "cfg = Namespace()\n",
    "cfg.visual_score_cutoff = 0.9"
   ]
  },
  {
   "cell_type": "code",
   "execution_count": 3,
   "metadata": {},
   "outputs": [],
   "source": [
    "df = pd.read_stata(SVY_IN_DIR)\n",
    "df = df.dropna(subset=['s19_gps_latitude', 's19_gps_longitude'])"
   ]
  },
  {
   "cell_type": "code",
   "execution_count": 4,
   "metadata": {},
   "outputs": [],
   "source": [
    "# read satellite predictions\n",
    "# from json annotations\n",
    "df_sat = []\n",
    "for file_name in glob(os.path.join(SAT_IN_DIR, '*.json')):\n",
    "    with open(file_name, 'r') as f:\n",
    "        df_sat += json.load(f)\n",
    "df_sat = pd.DataFrame(df_sat)\n",
    "\n",
    "# drop low score predictions\n",
    "df_sat = df_sat.loc[df_sat['score'] > cfg.visual_score_cutoff, :]"
   ]
  },
  {
   "cell_type": "code",
   "execution_count": 5,
   "metadata": {},
   "outputs": [],
   "source": [
    "# grouping into localities\n",
    "df_sat = df_sat.groupby(['image_id_str', 'category_id']).agg(\n",
    "    sat_house=pd.NamedAgg(column='area', aggfunc='count'),\n",
    "    sat_size_mean=pd.NamedAgg(column='area', aggfunc=np.nanmean),\n",
    "    sat_size_sum=pd.NamedAgg(column='area', aggfunc=np.nansum)\n",
    ").reset_index()\n",
    "# scale areas / distances\n",
    "df_sat[[col for col in df_sat.columns if col.startswith('sat_size')]] *= (\n",
    "    (0.298 ** 2) * (640 ** 2) / (800 ** 2) * np.cos(23 / 180 * np.pi))  # in sq meters"
   ]
  },
  {
   "cell_type": "code",
   "execution_count": 6,
   "metadata": {},
   "outputs": [],
   "source": [
    "df_sat['category_id'].replace(\n",
    "    {1: 'thatched', 2: 'metal', 3: 'colored'}, inplace=True)"
   ]
  },
  {
   "cell_type": "code",
   "execution_count": 7,
   "metadata": {},
   "outputs": [],
   "source": [
    "df_sat = df_sat.pivot(\n",
    "    index='image_id_str', columns='category_id',\n",
    "    values=['sat_house', 'sat_size_mean', 'sat_size_sum'])"
   ]
  },
  {
   "cell_type": "code",
   "execution_count": 8,
   "metadata": {},
   "outputs": [],
   "source": [
    "df_sat.fillna(0, inplace=True)"
   ]
  },
  {
   "cell_type": "code",
   "execution_count": 9,
   "metadata": {},
   "outputs": [],
   "source": [
    "df_sat_columns = ['_'.join(cols[::-1]) for cols in df_sat.columns]\n",
    "df_sat.columns = df_sat_columns"
   ]
  },
  {
   "cell_type": "code",
   "execution_count": 10,
   "metadata": {},
   "outputs": [],
   "source": [
    "df = pd.merge(df, df_sat, how='left', left_on='s1_hhid_key', right_on='image_id_str')"
   ]
  },
  {
   "cell_type": "code",
   "execution_count": 11,
   "metadata": {},
   "outputs": [],
   "source": [
    "df[df_sat_columns] = df[df_sat_columns].fillna(0)"
   ]
  },
  {
   "cell_type": "code",
   "execution_count": 12,
   "metadata": {},
   "outputs": [],
   "source": [
    "df.to_csv(OUT_DIR, index=False)"
   ]
  }
 ],
 "metadata": {
  "kernelspec": {
   "display_name": "py37",
   "language": "python",
   "name": "py37"
  },
  "language_info": {
   "codemirror_mode": {
    "name": "ipython",
    "version": 3
   },
   "file_extension": ".py",
   "mimetype": "text/x-python",
   "name": "python",
   "nbconvert_exporter": "python",
   "pygments_lexer": "ipython3",
   "version": "3.7.4"
  }
 },
 "nbformat": 4,
 "nbformat_minor": 2
}
