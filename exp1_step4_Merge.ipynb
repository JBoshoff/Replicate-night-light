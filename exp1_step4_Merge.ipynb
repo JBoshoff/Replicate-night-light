{
 "cells": [
  {
   "cell_type": "code",
   "execution_count": 1,
   "metadata": {},
   "outputs": [],
   "source": [
    "import os\n",
    "import json\n",
    "import numpy as np\n",
    "import pandas as pd\n",
    "from argparse import Namespace\n",
    "from glob import glob\n",
    "\n",
    "import rasterio\n",
    "\n",
    "from maskrcnn.postprocess.validate import transform_coord"
   ]
  },
  {
   "cell_type": "code",
   "execution_count": 2,
   "metadata": {},
   "outputs": [],
   "source": [
    "SVY_IN_DIR = 'data/GiveDirectly/Survey/household.dta'\n",
    "SAT_IN_DIR = 'data/GiveDirectly/Pred/infer/'\n",
    "OUT_DIR = 'data/GiveDirectly/merged.csv'\n",
    "NL_IN_DIR = 'data/Nightlight/VIIRS_DNB_KE_2018.tif'\n",
    "\n",
    "# set up visualization cfg\n",
    "cfg = Namespace()\n",
    "cfg.visual_score_cutoff = 0.9"
   ]
  },
  {
   "cell_type": "code",
   "execution_count": 3,
   "metadata": {},
   "outputs": [],
   "source": [
    "dataset = rasterio.open(NL_IN_DIR)\n",
    "band = dataset.read(1)"
   ]
  },
  {
   "cell_type": "code",
   "execution_count": 4,
   "metadata": {},
   "outputs": [],
   "source": [
    "df = pd.read_stata(SVY_IN_DIR)\n",
    "df = df.dropna(subset=['s19_gps_latitude', 's19_gps_longitude'])"
   ]
  },
  {
   "cell_type": "code",
   "execution_count": 5,
   "metadata": {},
   "outputs": [],
   "source": [
    "# read satellite predictions\n",
    "# from json annotations\n",
    "df_sat = []\n",
    "for file_name in glob(os.path.join(SAT_IN_DIR, '*.json')):\n",
    "    with open(file_name, 'r') as f:\n",
    "        df_sat += json.load(f)\n",
    "df_sat = pd.DataFrame(df_sat)\n",
    "\n",
    "# drop low score predictions\n",
    "df_sat = df_sat.loc[df_sat['score'] > cfg.visual_score_cutoff, :]"
   ]
  },
  {
   "cell_type": "code",
   "execution_count": 6,
   "metadata": {},
   "outputs": [],
   "source": [
    "df_sat['category_id'].replace(\n",
    "    {1: 'thatched', 2: 'metal', 3: 'colored'}, inplace=True)"
   ]
  },
  {
   "cell_type": "code",
   "execution_count": 7,
   "metadata": {},
   "outputs": [
    {
     "data": {
      "text/html": [
       "<div>\n",
       "<style scoped>\n",
       "    .dataframe tbody tr th:only-of-type {\n",
       "        vertical-align: middle;\n",
       "    }\n",
       "\n",
       "    .dataframe tbody tr th {\n",
       "        vertical-align: top;\n",
       "    }\n",
       "\n",
       "    .dataframe thead th {\n",
       "        text-align: right;\n",
       "    }\n",
       "</style>\n",
       "<table border=\"1\" class=\"dataframe\">\n",
       "  <thead>\n",
       "    <tr style=\"text-align: right;\">\n",
       "      <th></th>\n",
       "      <th>segmentation</th>\n",
       "      <th>bbox</th>\n",
       "      <th>score</th>\n",
       "      <th>area</th>\n",
       "      <th>image_id_str</th>\n",
       "      <th>image_id</th>\n",
       "      <th>category_id</th>\n",
       "    </tr>\n",
       "  </thead>\n",
       "  <tbody>\n",
       "    <tr>\n",
       "      <td>0</td>\n",
       "      <td>{'size': [800, 800], 'counts': 'bmZ;6hh04M3M3M...</td>\n",
       "      <td>[462.1242370605469, 400.2402038574219, 99.2250...</td>\n",
       "      <td>0.999265</td>\n",
       "      <td>4828.0</td>\n",
       "      <td>601040301010-056</td>\n",
       "      <td>2509</td>\n",
       "      <td>metal</td>\n",
       "    </tr>\n",
       "    <tr>\n",
       "      <td>1</td>\n",
       "      <td>{'size': [800, 800], 'counts': 'kgP34gh09J5J5L...</td>\n",
       "      <td>[119.26983642578125, 627.6113891601562, 61.272...</td>\n",
       "      <td>0.998286</td>\n",
       "      <td>2046.0</td>\n",
       "      <td>601040301010-056</td>\n",
       "      <td>2509</td>\n",
       "      <td>metal</td>\n",
       "    </tr>\n",
       "    <tr>\n",
       "      <td>2</td>\n",
       "      <td>{'size': [800, 800], 'counts': 'l`\\=3kh05L3M3M...</td>\n",
       "      <td>[546.2864990234375, 389.5267028808594, 50.6158...</td>\n",
       "      <td>0.975503</td>\n",
       "      <td>1275.0</td>\n",
       "      <td>601040301010-056</td>\n",
       "      <td>2509</td>\n",
       "      <td>metal</td>\n",
       "    </tr>\n",
       "    <tr>\n",
       "      <td>15</td>\n",
       "      <td>{'size': [800, 800], 'counts': ']im`0;dh06J5L4...</td>\n",
       "      <td>[693.110107421875, 388.4268798828125, 53.11779...</td>\n",
       "      <td>0.993461</td>\n",
       "      <td>2109.0</td>\n",
       "      <td>601030203007-040</td>\n",
       "      <td>1308</td>\n",
       "      <td>thatched</td>\n",
       "    </tr>\n",
       "    <tr>\n",
       "      <td>16</td>\n",
       "      <td>{'size': [800, 800], 'counts': '[iT=5hh07K9H7H...</td>\n",
       "      <td>[533.3128662109375, 470.8623046875, 102.736450...</td>\n",
       "      <td>0.970277</td>\n",
       "      <td>5517.0</td>\n",
       "      <td>601030203007-040</td>\n",
       "      <td>1308</td>\n",
       "      <td>metal</td>\n",
       "    </tr>\n",
       "    <tr>\n",
       "      <td>...</td>\n",
       "      <td>...</td>\n",
       "      <td>...</td>\n",
       "      <td>...</td>\n",
       "      <td>...</td>\n",
       "      <td>...</td>\n",
       "      <td>...</td>\n",
       "      <td>...</td>\n",
       "    </tr>\n",
       "    <tr>\n",
       "      <td>97053</td>\n",
       "      <td>{'size': [800, 800], 'counts': 'bg_a03hh0:J4K6...</td>\n",
       "      <td>[714.5397338867188, 343.2801513671875, 73.3020...</td>\n",
       "      <td>0.998080</td>\n",
       "      <td>3286.0</td>\n",
       "      <td>601020301003-030</td>\n",
       "      <td>728</td>\n",
       "      <td>metal</td>\n",
       "    </tr>\n",
       "    <tr>\n",
       "      <td>97054</td>\n",
       "      <td>{'size': [800, 800], 'counts': 'eUa:1lh06K2O2M...</td>\n",
       "      <td>[427.1697692871094, 415.1800537109375, 83.7474...</td>\n",
       "      <td>0.997889</td>\n",
       "      <td>3391.0</td>\n",
       "      <td>601020301003-030</td>\n",
       "      <td>728</td>\n",
       "      <td>metal</td>\n",
       "    </tr>\n",
       "    <tr>\n",
       "      <td>97055</td>\n",
       "      <td>{'size': [800, 800], 'counts': 'Rjh:1g0?mf0n0M...</td>\n",
       "      <td>[441.29888916015625, 279.7791442871094, 64.599...</td>\n",
       "      <td>0.997216</td>\n",
       "      <td>2991.0</td>\n",
       "      <td>601020301003-030</td>\n",
       "      <td>728</td>\n",
       "      <td>metal</td>\n",
       "    </tr>\n",
       "    <tr>\n",
       "      <td>97056</td>\n",
       "      <td>{'size': [800, 800], 'counts': '_U\\a0c0[h09G6K...</td>\n",
       "      <td>[706.9384155273438, 686.0633544921875, 86.8361...</td>\n",
       "      <td>0.989834</td>\n",
       "      <td>4457.0</td>\n",
       "      <td>601020301003-030</td>\n",
       "      <td>728</td>\n",
       "      <td>thatched</td>\n",
       "    </tr>\n",
       "    <tr>\n",
       "      <td>97057</td>\n",
       "      <td>{'size': [800, 800], 'counts': 'Qbh?8eh0Z1gN3M...</td>\n",
       "      <td>[644.9241943359375, 658.7462768554688, 44.6744...</td>\n",
       "      <td>0.950972</td>\n",
       "      <td>2537.0</td>\n",
       "      <td>601020301003-030</td>\n",
       "      <td>728</td>\n",
       "      <td>thatched</td>\n",
       "    </tr>\n",
       "  </tbody>\n",
       "</table>\n",
       "<p>22288 rows × 7 columns</p>\n",
       "</div>"
      ],
      "text/plain": [
       "                                            segmentation  \\\n",
       "0      {'size': [800, 800], 'counts': 'bmZ;6hh04M3M3M...   \n",
       "1      {'size': [800, 800], 'counts': 'kgP34gh09J5J5L...   \n",
       "2      {'size': [800, 800], 'counts': 'l`\\=3kh05L3M3M...   \n",
       "15     {'size': [800, 800], 'counts': ']im`0;dh06J5L4...   \n",
       "16     {'size': [800, 800], 'counts': '[iT=5hh07K9H7H...   \n",
       "...                                                  ...   \n",
       "97053  {'size': [800, 800], 'counts': 'bg_a03hh0:J4K6...   \n",
       "97054  {'size': [800, 800], 'counts': 'eUa:1lh06K2O2M...   \n",
       "97055  {'size': [800, 800], 'counts': 'Rjh:1g0?mf0n0M...   \n",
       "97056  {'size': [800, 800], 'counts': '_U\\a0c0[h09G6K...   \n",
       "97057  {'size': [800, 800], 'counts': 'Qbh?8eh0Z1gN3M...   \n",
       "\n",
       "                                                    bbox     score    area  \\\n",
       "0      [462.1242370605469, 400.2402038574219, 99.2250...  0.999265  4828.0   \n",
       "1      [119.26983642578125, 627.6113891601562, 61.272...  0.998286  2046.0   \n",
       "2      [546.2864990234375, 389.5267028808594, 50.6158...  0.975503  1275.0   \n",
       "15     [693.110107421875, 388.4268798828125, 53.11779...  0.993461  2109.0   \n",
       "16     [533.3128662109375, 470.8623046875, 102.736450...  0.970277  5517.0   \n",
       "...                                                  ...       ...     ...   \n",
       "97053  [714.5397338867188, 343.2801513671875, 73.3020...  0.998080  3286.0   \n",
       "97054  [427.1697692871094, 415.1800537109375, 83.7474...  0.997889  3391.0   \n",
       "97055  [441.29888916015625, 279.7791442871094, 64.599...  0.997216  2991.0   \n",
       "97056  [706.9384155273438, 686.0633544921875, 86.8361...  0.989834  4457.0   \n",
       "97057  [644.9241943359375, 658.7462768554688, 44.6744...  0.950972  2537.0   \n",
       "\n",
       "           image_id_str  image_id category_id  \n",
       "0      601040301010-056      2509       metal  \n",
       "1      601040301010-056      2509       metal  \n",
       "2      601040301010-056      2509       metal  \n",
       "15     601030203007-040      1308    thatched  \n",
       "16     601030203007-040      1308       metal  \n",
       "...                 ...       ...         ...  \n",
       "97053  601020301003-030       728       metal  \n",
       "97054  601020301003-030       728       metal  \n",
       "97055  601020301003-030       728       metal  \n",
       "97056  601020301003-030       728    thatched  \n",
       "97057  601020301003-030       728    thatched  \n",
       "\n",
       "[22288 rows x 7 columns]"
      ]
     },
     "execution_count": 7,
     "metadata": {},
     "output_type": "execute_result"
    }
   ],
   "source": [
    "df_sat"
   ]
  },
  {
   "cell_type": "code",
   "execution_count": 8,
   "metadata": {},
   "outputs": [],
   "source": [
    "# grouping\n",
    "df_cat = df_sat.groupby(['image_id_str', 'category_id']).agg(\n",
    "    sat_house=pd.NamedAgg(column='area', aggfunc='count'),\n",
    "    sat_size_mean=pd.NamedAgg(column='area', aggfunc=np.nanmean),\n",
    "    sat_size_sum=pd.NamedAgg(column='area', aggfunc=np.nansum)\n",
    ").reset_index()"
   ]
  },
  {
   "cell_type": "code",
   "execution_count": 9,
   "metadata": {},
   "outputs": [],
   "source": [
    "df_all = df_sat.groupby(['image_id_str']).agg(\n",
    "    sat_house=pd.NamedAgg(column='area', aggfunc='count'),\n",
    "    sat_size_mean=pd.NamedAgg(column='area', aggfunc=np.nanmean),\n",
    "    sat_size_sum=pd.NamedAgg(column='area', aggfunc=np.nansum)\n",
    ").reset_index()"
   ]
  },
  {
   "cell_type": "code",
   "execution_count": 10,
   "metadata": {},
   "outputs": [],
   "source": [
    "df_sat = pd.concat([df_cat, df_all.assign(category_id='all')], sort=True)"
   ]
  },
  {
   "cell_type": "code",
   "execution_count": 11,
   "metadata": {},
   "outputs": [],
   "source": [
    "# scale areas / distances\n",
    "df_sat[[col for col in df_sat.columns if col.startswith('sat_size')]] *= (\n",
    "    (0.298 ** 2) * (640 ** 2) / (800 ** 2) * np.cos(23 / 180 * np.pi))  # in sq meters"
   ]
  },
  {
   "cell_type": "code",
   "execution_count": 12,
   "metadata": {},
   "outputs": [],
   "source": [
    "df_sat = df_sat.pivot(\n",
    "    index='image_id_str', columns='category_id',\n",
    "    values=['sat_house', 'sat_size_mean', 'sat_size_sum'])"
   ]
  },
  {
   "cell_type": "code",
   "execution_count": 13,
   "metadata": {},
   "outputs": [],
   "source": [
    "df_sat_columns = ['_'.join(cols[::-1]) for cols in df_sat.columns]\n",
    "df_sat.columns = df_sat_columns"
   ]
  },
  {
   "cell_type": "code",
   "execution_count": 14,
   "metadata": {},
   "outputs": [],
   "source": [
    "df = pd.merge(df, df_sat, how='left', left_on='s1_hhid_key', right_on='image_id_str')"
   ]
  },
  {
   "cell_type": "code",
   "execution_count": 15,
   "metadata": {},
   "outputs": [],
   "source": [
    "cols = [col for col in df_sat_columns if col.endswith(('sat_house', 'sat_size_sum'))]\n",
    "df[cols] = df[cols].fillna(0)"
   ]
  },
  {
   "cell_type": "code",
   "execution_count": 16,
   "metadata": {},
   "outputs": [],
   "source": [
    "idx = np.round(transform_coord(\n",
    "    transform=dataset.transform,\n",
    "    to='colrow',\n",
    "    xy=df.loc[:, ['s19_gps_longitude', 's19_gps_latitude']].values)).astype(np.int)\n",
    "\n",
    "df['nightlight'] = [band[i[1], i[0]] for i in idx]"
   ]
  },
  {
   "cell_type": "code",
   "execution_count": 17,
   "metadata": {},
   "outputs": [],
   "source": [
    "df.to_csv(OUT_DIR, index=False)"
   ]
  },
  {
   "cell_type": "code",
   "execution_count": null,
   "metadata": {},
   "outputs": [],
   "source": []
  }
 ],
 "metadata": {
  "kernelspec": {
   "display_name": "py37",
   "language": "python",
   "name": "py37"
  },
  "language_info": {
   "codemirror_mode": {
    "name": "ipython",
    "version": 3
   },
   "file_extension": ".py",
   "mimetype": "text/x-python",
   "name": "python",
   "nbconvert_exporter": "python",
   "pygments_lexer": "ipython3",
   "version": "3.7.4"
  }
 },
 "nbformat": 4,
 "nbformat_minor": 2
}
