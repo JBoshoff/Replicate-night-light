{
 "cells": [
  {
   "cell_type": "code",
   "execution_count": 1,
   "metadata": {},
   "outputs": [],
   "source": [
    "import os\n",
    "import glob\n",
    "import numpy as np\n",
    "import pandas as pd\n",
    "import geopandas as gpd\n",
    "import matplotlib.pyplot as plt\n",
    "import statsmodels.formula.api as smf\n",
    "\n",
    "from argparse import Namespace\n",
    "\n",
    "from sklearn.decomposition import PCA\n",
    "from sklearn.cluster import KMeans\n",
    "from sklearn.metrics.pairwise import cosine_similarity\n",
    "\n",
    "from maskrcnn.postprocess.validate import L, gini, plot_scatter\n",
    "from maskrcnn.postprocess.polygonize import load_anns\n",
    "\n",
    "from scipy.spatial.distance import cdist\n",
    "import rasterio\n",
    "import rasterio.mask\n",
    "\n",
    "import matplotlib\n",
    "matplotlib.rc('pdf', fonttype=42)"
   ]
  },
  {
   "cell_type": "code",
   "execution_count": 2,
   "metadata": {},
   "outputs": [],
   "source": [
    "import xgboost as xgb\n",
    "from sklearn.utils import shuffle\n",
    "from sklearn.model_selection import KFold"
   ]
  },
  {
   "cell_type": "code",
   "execution_count": 3,
   "metadata": {},
   "outputs": [],
   "source": [
    "def n_neighbor(coords, h):\n",
    "    return (cdist(coords, coords, 'euclidean') < h).sum(axis=0).mean()\n",
    "\n",
    "def diff(x):\n",
    "    return np.max(x) - np.min(x)"
   ]
  },
  {
   "cell_type": "code",
   "execution_count": 4,
   "metadata": {},
   "outputs": [],
   "source": [
    "# image index data\n",
    "IDX_IN_DIR = 'data/Experiment3/aoi.csv'\n",
    "# download log data\n",
    "LOG_IN_DIR = 'data/Experiment3/aoi_download_log.csv'\n",
    "\n",
    "# census data\n",
    "CEN_IN_DIR = 'data/Experiment3/census.shp'\n",
    "\n",
    "# satellite derived data\n",
    "SAT_IN_ANN_DIR = 'data/MexicoInequality/Pred/infer/'\n",
    "SAT_IN_IMG_DIR = 'data/MexicoInequality/Image/'\n",
    "SAT_IN_SHP_DIR = 'data/Experiment3/sat.shp'\n",
    "NL_IN_DIR = 'data/Nightlight/VIIRS_DNB_MX_2018.tif'\n",
    "\n",
    "# output path\n",
    "OUT_DIR = 'data/Experiment3/Output/'"
   ]
  },
  {
   "cell_type": "code",
   "execution_count": 5,
   "metadata": {},
   "outputs": [],
   "source": [
    "dataset = rasterio.open(NL_IN_DIR)"
   ]
  },
  {
   "cell_type": "code",
   "execution_count": 6,
   "metadata": {},
   "outputs": [],
   "source": [
    "# read image index data frame\n",
    "df_idx = pd.merge(pd.read_csv(IDX_IN_DIR), pd.read_csv(LOG_IN_DIR),\n",
    "                  how='outer', on='index')\n",
    "df_idx = df_idx.loc[:, ['index', 'ent', 'mun', 'loc', 'chip',\n",
    "                        'status', 'lon_min', 'lon_max', 'lat_min', 'lat_max']]"
   ]
  },
  {
   "cell_type": "code",
   "execution_count": 7,
   "metadata": {},
   "outputs": [],
   "source": [
    "assert (df_idx['status'] == False).sum() == 0  # no missing"
   ]
  },
  {
   "cell_type": "code",
   "execution_count": 8,
   "metadata": {},
   "outputs": [],
   "source": [
    "# read census data\n",
    "df_cen = gpd.read_file(CEN_IN_DIR)"
   ]
  },
  {
   "cell_type": "code",
   "execution_count": 9,
   "metadata": {},
   "outputs": [],
   "source": [
    "nl_sums, nl_means = [], []\n",
    "for geom in df_cen['geometry']:\n",
    "    values, _ = rasterio.mask.mask(dataset, [geom], nodata=-1, crop=True)\n",
    "    values = values[values >= 0] if (values >= 0).sum() > 0 else np.array([0])\n",
    "    nl_sums.append(values.sum())\n",
    "    nl_means.append(values.mean())\n",
    "df_cen.loc[:, 'sat_nightlight_sum'] = nl_sums\n",
    "df_cen.loc[:, 'sat_nightlight_mean'] = nl_means"
   ]
  },
  {
   "cell_type": "code",
   "execution_count": 10,
   "metadata": {},
   "outputs": [],
   "source": [
    "if os.path.isfile(SAT_IN_SHP_DIR):\n",
    "    df_sat = gpd.read_file(SAT_IN_SHP_DIR)\n",
    "else:\n",
    "    # read sat annotations\n",
    "    ann_files = glob.glob(SAT_IN_ANN_DIR + '*.json')\n",
    "    img_files = [os.path.join(SAT_IN_IMG_DIR,\n",
    "                              (os.path.relpath(f, SAT_IN_ANN_DIR).replace('.json', '.png')))\n",
    "                 for f in ann_files]\n",
    "    df_sat = load_anns(ann_files=ann_files,\n",
    "                       img_files=img_files,\n",
    "                       idx_file=IDX_IN_DIR)\n",
    "    df_sat = pd.merge(df_sat, df_idx, how='left', on='index')\n",
    "    df_sat = df_sat.drop(columns=['RGB_mean', 'RGB_median'])\n",
    "\n",
    "    df_sat = pd.merge(\n",
    "        df_sat,\n",
    "        (df_cen.loc[:, ['ent', 'mun', 'loc', 'geometry']]\n",
    "         .rename({'geometry': 'geometry_loc'}, axis=1).drop_duplicates(['ent', 'mun', 'loc'])),\n",
    "        how='left', on=['ent', 'mun', 'loc'])\n",
    "\n",
    "    df_sat = df_sat.loc[df_sat['geometry'].within(gpd.GeoSeries(df_sat['geometry_loc'])), :]\n",
    "\n",
    "    df_sat = df_sat.drop(columns=['geometry_loc'])\n",
    "\n",
    "    df_sat.to_file(SAT_IN_SHP_DIR, index=False)"
   ]
  },
  {
   "cell_type": "code",
   "execution_count": 11,
   "metadata": {},
   "outputs": [],
   "source": [
    "df_sat = df_sat.sort_values(by=['ent', 'mun', 'loc', 'index'])"
   ]
  },
  {
   "cell_type": "code",
   "execution_count": 12,
   "metadata": {},
   "outputs": [],
   "source": [
    "# this doesn't prove to be very useful\n",
    "# df_sat.loc[:, 'redness_l'] = df_sat['R_mean'] / df_sat['luminosity']"
   ]
  },
  {
   "cell_type": "code",
   "execution_count": 13,
   "metadata": {},
   "outputs": [
    {
     "name": "stdout",
     "output_type": "stream",
     "text": [
      "[0.94621753 0.0494445  0.00433797]\n"
     ]
    }
   ],
   "source": [
    "rgb = df_sat.loc[:, ['R_median', 'G_median', 'B_median']].values\n",
    "\n",
    "pca = PCA(n_components=3)\n",
    "rgb_reproj = pca.fit_transform(rgb - rgb.mean(axis=0)[np.newaxis, :])\n",
    "df_sat.loc[:, 'sat_color_pca0'] = rgb_reproj[:, 0]\n",
    "df_sat.loc[:, 'sat_color_pca1'] = rgb_reproj[:, 1]\n",
    "df_sat.loc[:, 'sat_color_pca2'] = rgb_reproj[:, 2]\n",
    "print(pca.explained_variance_ratio_)\n",
    "\n",
    "# here I tried K means clustering quickly\n",
    "# and it doesn't seem to work in separating red versus other colors\n",
    "# I think it's a bit too random and depends heavily on data distribution\n",
    "# we should use something more deterministic\n",
    "\n",
    "# n_clusters = 2\n",
    "# km = KMeans(\n",
    "#     n_clusters=n_clusters,\n",
    "#     random_state=6,\n",
    "# )\n",
    "# y = km.fit_predict(rgb)\n",
    "\n",
    "# rgb_reproj = np.hstack([rgb_reproj, rgb / 255, y[:, np.newaxis]])\n",
    "\n",
    "# rgb_idx = np.random.randint(rgb_reproj.shape[0], size=500)\n",
    "# rgb_reproj = rgb_reproj[rgb_idx, :]\n",
    "\n",
    "# fig, ax = plt.subplots(nrows=n_clusters)\n",
    "# for i in range(n_clusters):\n",
    "#     for row in rgb_reproj[rgb_reproj[:, -1] == i, :]:\n",
    "#         ax[i].scatter(row[0], row[1], color=(row[-4], row[-3], row[-2]))\n",
    "# plt.show()"
   ]
  },
  {
   "cell_type": "code",
   "execution_count": 14,
   "metadata": {},
   "outputs": [],
   "source": [
    "# grouping into localities\n",
    "df_group = df_sat.drop(columns=['geometry']).groupby(['ent', 'mun', 'loc']).agg(\n",
    "    sat_house=pd.NamedAgg(column='area', aggfunc='count'),\n",
    "    sat_size_mean=pd.NamedAgg(column='area', aggfunc=np.nanmean),\n",
    "#     sat_size_med=pd.NamedAgg(column='area', aggfunc=np.nanmedian),  # nah not better than mean\n",
    "    sat_lum_mean=pd.NamedAgg(column='luminosity', aggfunc=np.nanmean),\n",
    "    sat_saturation_mean=pd.NamedAgg(column='saturation', aggfunc=np.nanmean),\n",
    "    sat_redness_mean=pd.NamedAgg(column='redness', aggfunc=np.nanmean),\n",
    "    sat_color_pca0_mean=pd.NamedAgg(column='sat_color_pca0', aggfunc=np.nanmean),\n",
    "    sat_color_pca1_mean=pd.NamedAgg(column='sat_color_pca1', aggfunc=np.nanmean),\n",
    "    sat_color_pca2_mean=pd.NamedAgg(column='sat_color_pca2', aggfunc=np.nanmean),\n",
    "#     sat_size_gini=pd.NamedAgg(column='area', aggfunc=gini_series),  # no signal\n",
    "    sat_size_sum=pd.NamedAgg(column='area', aggfunc=np.nansum)\n",
    ")\n",
    "\n",
    "# measure spatial clustering\n",
    "tile_size = 1.6516e-3\n",
    "\n",
    "for i, col in zip([.05, .1, .2, .3, .53],\n",
    "                  ['sat_nn_h05', 'sat_nn_h10', 'sat_nn_h20', 'sat_nn_h30', 'sat_nn_h53']):\n",
    "    df_group[col] = df_sat.groupby(['ent', 'mun', 'loc']).apply(\n",
    "        lambda grp: n_neighbor(\n",
    "            np.array([grp.centroid.x.values, grp.centroid.y.values]).T,\n",
    "            h=tile_size * i))\n",
    "\n",
    "# calculate K function values\n",
    "# tile_size = 1.6516e-3\n",
    "# for i, col in zip([.5, 1, 1.5],\n",
    "#                   ['sat_dist_h05', 'sat_dist_h10', 'sat_dist_h15']):\n",
    "#     df_group[col] = df_sat.groupby(['ent', 'mun', 'loc']).apply(\n",
    "#         lambda grp: L(grp[['lon_center', 'lat_center']].values,\n",
    "#                       A=(tile_size ** 2) * 25, h=tile_size * i))\n",
    "\n",
    "# scale areas / distances\n",
    "df_group[['sat_size_mean', 'sat_size_sum']] *= (\n",
    "    ((tile_size / 800 * 111000) ** 2) * np.cos(23 / 180 * np.pi))  # in sq meters\n",
    "\n",
    "df_group['sat_angle_align'] = df_sat.groupby(['ent', 'mun', 'loc', 'index']).apply(\n",
    "    lambda grp: np.sort(np.histogram(\n",
    "        grp['angle'].values,\n",
    "        bins=9, range=(0, 90), density=True)[0] * 10)[-2:].sum()).groupby(['ent', 'mun', 'loc']).agg('mean')"
   ]
  },
  {
   "cell_type": "code",
   "execution_count": 15,
   "metadata": {},
   "outputs": [
    {
     "name": "stdout",
     "output_type": "stream",
     "text": [
      "80 18.0\n",
      "85 28.0\n",
      "90 39.5\n",
      "95 56.0\n"
     ]
    }
   ],
   "source": [
    "for q in [80, 85, 90, 95]:\n",
    "    print(q, np.percentile(df_sat['redness'], q))\n",
    "    df_sat.loc[:, 'redness_q{}'.format(q)] = df_sat['redness'] > np.percentile(df_sat['redness'], q)\n",
    "    df_group.loc[:, 'sat_redness_q{}'.format(q)] = df_sat.groupby(['ent', 'mun', 'loc']).agg({\n",
    "        'redness_q{}'.format(q): 'mean'}).values\n",
    "# for q in [80, 85, 90, 95]:\n",
    "#     print(q, np.percentile(df_sat['redness_l'], q))\n",
    "#     df_sat.loc[:, 'redness_l_q{}'.format(q)] = df_sat['redness_l'] > np.percentile(df_sat['redness_l'], q)\n",
    "#     df_group.loc[:, 'sat_redness_l_q{}'.format(q)] = df_sat.groupby(['ent', 'mun', 'loc']).agg({\n",
    "#         'redness_l_q{}'.format(q): 'mean'}).values"
   ]
  },
  {
   "cell_type": "code",
   "execution_count": 16,
   "metadata": {},
   "outputs": [],
   "source": [
    "# merge satellite and census\n",
    "df_group = pd.merge(\n",
    "    df_group,\n",
    "    df_cen,\n",
    "    how='right', on=['ent', 'mun', 'loc'])"
   ]
  },
  {
   "cell_type": "code",
   "execution_count": 17,
   "metadata": {},
   "outputs": [],
   "source": [
    "df_group['rich'] = (df_group['diff'] > 0)"
   ]
  },
  {
   "cell_type": "code",
   "execution_count": 18,
   "metadata": {},
   "outputs": [],
   "source": [
    "# plot_scatter(\n",
    "#     col_x_key='VIVTOT',\n",
    "#     col_x_label='VIVTOT',\n",
    "#     transform_x=lambda x: np.log10(x + 1),\n",
    "#     col_y_key='sat_house',\n",
    "#     col_y_label='sat_house',\n",
    "#     transform_y=lambda x: np.log10(x + 1),\n",
    "#     line=True, df=df_group.loc[df_group['POBTOT'] > 10, :],\n",
    "#     out_dir=os.path.join(OUT_DIR, 'all'), show=True)"
   ]
  },
  {
   "cell_type": "code",
   "execution_count": 19,
   "metadata": {},
   "outputs": [],
   "source": [
    "# for var in ['sat_redness_mean', 'sat_size_mean',\n",
    "#             'sat_angle_align']:\n",
    "#     plot_scatter(\n",
    "#         col_x_key='cen_asset',\n",
    "#         col_x_label='Census: Asset Score (PCA 1st Dimension)',\n",
    "#         col_y_key=var,\n",
    "#         col_y_label=var,\n",
    "#         line=True, df=df_group.loc[df_group['POBTOT'] > 10, :],\n",
    "#         out_dir=os.path.join(OUT_DIR, 'all'), show=True)"
   ]
  },
  {
   "cell_type": "code",
   "execution_count": 20,
   "metadata": {},
   "outputs": [],
   "source": [
    "sat_cols = [col for col in df_group.columns if col.startswith('sat')]"
   ]
  },
  {
   "cell_type": "code",
   "execution_count": 21,
   "metadata": {},
   "outputs": [],
   "source": [
    "df_group = df_group.pivot(index='pair_id', columns='rich', values=['diff'] + sat_cols + ['POBTOT'])"
   ]
  },
  {
   "cell_type": "code",
   "execution_count": 22,
   "metadata": {},
   "outputs": [],
   "source": [
    "# who is this guy creating all these outliers???\n",
    "# it is just one locality (with 9 people!) who is super rich\n",
    "# matched with three localities, creating three pairs\n",
    "# df_group.loc[df_group[('diff', True)] > 1.5, :]\n",
    "# df_cen.loc[df_cen['pair_id'].isin([170, 221, 233]), :]\n",
    "# this is crazy and totally screwing everything up\n",
    "# I'm dropping localities with <10 people\n",
    "df_group = df_group.loc[\n",
    "    (df_group.loc[:, ('POBTOT', True)] > 10) & (df_group.loc[:, ('POBTOT', False)] > 10), :]"
   ]
  },
  {
   "cell_type": "code",
   "execution_count": 23,
   "metadata": {
    "scrolled": false
   },
   "outputs": [],
   "source": [
    "# for var in sat_cols:\n",
    "#     fig, ax = plt.subplots(figsize=(15, 5))\n",
    "#     # for v in (True, False):\n",
    "#     #     ax.scatter(df_group.loc[:, ('diff', True)], df_group.loc[:, (var, v)], color='k')\n",
    "#     for _, row in df_group.iterrows():\n",
    "#         ax.plot([row[('diff', True)]] * 2, [row[(var, True)], row[(var, False)]],\n",
    "#                 color='r' if row[(var, True)] > row[(var, False)] else 'b')\n",
    "#     ax.set_ylabel(var)\n",
    "#     plt.savefig(os.path.join(OUT_DIR, 'all/{}_line.pdf'.format(var)))"
   ]
  },
  {
   "cell_type": "code",
   "execution_count": 24,
   "metadata": {},
   "outputs": [],
   "source": [
    "df_diff = pd.DataFrame({'asset_diff': df_group.loc[:, ('diff', True)]})\n",
    "\n",
    "for var in sat_cols:\n",
    "    df_diff.loc[:, var + '_diff'] = df_group.loc[:, (var, True)] - df_group.loc[:, (var, False)]"
   ]
  },
  {
   "cell_type": "code",
   "execution_count": 25,
   "metadata": {},
   "outputs": [],
   "source": [
    "model = smf.ols('asset_diff ~ sat_color_pca0_mean_diff + '\n",
    "                'sat_color_pca1_mean_diff + sat_color_pca2_mean_diff', data=df_diff)\n",
    "res = model.fit()\n",
    "df_diff.loc[:, 'sat_color_pca_pred_diff'] = res.fittedvalues"
   ]
  },
  {
   "cell_type": "code",
   "execution_count": 26,
   "metadata": {
    "scrolled": false
   },
   "outputs": [
    {
     "data": {
      "image/png": "[encoded data removed]",
      "text/plain": [
       "<Figure size 324x216 with 1 Axes>"
      ]
     },
     "metadata": {
      "needs_background": "light"
     },
     "output_type": "display_data"
    },
    {
     "data": {
      "image/png": "[encoded data removed]",
      "text/plain": [
       "<Figure size 324x216 with 1 Axes>"
      ]
     },
     "metadata": {
      "needs_background": "light"
     },
     "output_type": "display_data"
    },
    {
     "data": {
      "image/png": "[encoded data removed]",
      "text/plain": [
       "<Figure size 324x216 with 1 Axes>"
      ]
     },
     "metadata": {
      "needs_background": "light"
     },
     "output_type": "display_data"
    }
   ],
   "source": [
    "for var in [\n",
    "#         'sat_redness_l_mean',\n",
    "#         'sat_redness_l_q80', 'sat_redness_l_q85',\n",
    "#         'sat_redness_l_q90', 'sat_redness_l_q95',\n",
    "#     'sat_color_pca0_mean', 'sat_color_pca1_mean', 'sat_color_pca2_mean',\n",
    "        'sat_redness_mean', 'sat_redness_q85', 'sat_color_pca_pred']:\n",
    "    plot_scatter(\n",
    "        col_x_key='asset_diff',\n",
    "        col_x_label='Census: Difference in Asset Score (PCA 1st Dimension)',\n",
    "        col_y_key=var + '_diff',\n",
    "        col_y_label=var + '_diff',\n",
    "        line=True, frac=0.5, df=df_diff,\n",
    "        out_dir=os.path.join(OUT_DIR, 'all'), show=True)"
   ]
  },
  {
   "cell_type": "code",
   "execution_count": 27,
   "metadata": {},
   "outputs": [
    {
     "data": {
      "image/png": "[encoded data removed]",
      "text/plain": [
       "<Figure size 216x216 with 1 Axes>"
      ]
     },
     "metadata": {
      "needs_background": "light"
     },
     "output_type": "display_data"
    }
   ],
   "source": [
    "plot_scatter(\n",
    "    col_x_key='asset_diff',\n",
    "    col_x_label='Census: Neighborhood Disparity',\n",
    "    xlim=(-0.01, 1.3),\n",
    "    xticks=[0, 1],\n",
    "    col_y_key='sat_nightlight_mean_diff',\n",
    "    col_y_label='Satellite: Difference in\\nAverage Nightlight',\n",
    "    ylim=(-60, 60),\n",
    "    yticks=[-50, 0, 50],\n",
    "    line=True, frac=0.5, df=df_diff,\n",
    "    figsize=(3, 3),\n",
    "    out_dir=OUT_DIR, show=True)"
   ]
  },
  {
   "cell_type": "code",
   "execution_count": 28,
   "metadata": {},
   "outputs": [
    {
     "data": {
      "image/png": "[encoded data removed]",
      "text/plain": [
       "<Figure size 216x216 with 1 Axes>"
      ]
     },
     "metadata": {
      "needs_background": "light"
     },
     "output_type": "display_data"
    }
   ],
   "source": [
    "plot_scatter(\n",
    "    col_x_key='asset_diff',\n",
    "    col_x_label='Census: Neighborhood Disparity',\n",
    "    xlim=(-0.01, 1.3),\n",
    "    xticks=[0, 1],\n",
    "    col_y_key='sat_color_pca_pred_diff',\n",
    "    col_y_label='Satellite: Disparity Predicted\\nfrom Roof Colors',\n",
    "    ylim=(-0.1, 1.1),\n",
    "    yticks=[0, 1],\n",
    "    line=True, frac=0.5, df=df_diff,\n",
    "    figsize=(3, 3),\n",
    "    out_dir=OUT_DIR, show=True)"
   ]
  }
 ],
 "metadata": {
  "kernelspec": {
   "display_name": "py37",
   "language": "python",
   "name": "py37"
  },
  "language_info": {
   "codemirror_mode": {
    "name": "ipython",
    "version": 3
   },
   "file_extension": ".py",
   "mimetype": "text/x-python",
   "name": "python",
   "nbconvert_exporter": "python",
   "pygments_lexer": "ipython3",
   "version": "3.7.4"
  }
 },
 "nbformat": 4,
 "nbformat_minor": 2
}
