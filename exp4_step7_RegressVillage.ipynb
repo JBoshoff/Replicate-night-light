{
 "cells": [
  {
   "cell_type": "code",
   "execution_count": 1,
   "metadata": {},
   "outputs": [],
   "source": [
    "import numpy as np\n",
    "import pandas as pd\n",
    "import geopandas as gpd\n",
    "import statsmodels.formula.api as smf"
   ]
  },
  {
   "cell_type": "code",
   "execution_count": 2,
   "metadata": {},
   "outputs": [],
   "source": [
    "from maskrcnn.postprocess.validate import gini"
   ]
  },
  {
   "cell_type": "code",
   "execution_count": 3,
   "metadata": {},
   "outputs": [],
   "source": [
    "VIL_SHP_IN_DIR = 'data/Shapefile/GDVillageShapefile/GE_GD_villages_ConvexHull.shp'\n",
    "CENSUS_IN_DIR = 'data/GiveDirectly/Survey/GE_HH_Census_2017-07-17_cleanGPS.csv'\n",
    "SAT_IN_GEOM_DIR = 'data/Experiment4/sat.geojson'\n",
    "MERGE_IN_DIR = 'data/Experiment4/village_merged.csv'\n",
    "\n",
    "OUT_DIR = 'data/Experiment4/output/'"
   ]
  },
  {
   "cell_type": "markdown",
   "metadata": {},
   "source": [
    "## Treatment"
   ]
  },
  {
   "cell_type": "code",
   "execution_count": 4,
   "metadata": {},
   "outputs": [],
   "source": [
    "df = gpd.read_file(VIL_SHP_IN_DIR)\n",
    "# drop non GE villages\n",
    "df = df.loc[df['ge'] == 1, :]\n",
    "# convert data type for merging\n",
    "df = df.astype({'village_co': 'Int64'})\n",
    "df_village = df.loc[:, ['village_co', 'geometry']]"
   ]
  },
  {
   "cell_type": "code",
   "execution_count": 5,
   "metadata": {},
   "outputs": [],
   "source": [
    "df = pd.read_csv(\n",
    "    CENSUS_IN_DIR,\n",
    "    usecols=['sublocation_code', 'village_code', 'ge', 'hi_sat', 'treat',\n",
    "             'latitude', 'longitude', 'elevation', 'accuracy', 'eligible',\n",
    "             'GPS_imputed', 'dist_from_vill'],\n",
    "    dtype={\n",
    "        'sublocation_code': 'Int64',\n",
    "        'village_code': 'Int64',\n",
    "        'ge': 'Int32',\n",
    "        'hi_sat': 'Int32',\n",
    "        'treat': 'Int32',\n",
    "        'eligible': 'Int32',\n",
    "        'GPS_imputed': 'Int32'})"
   ]
  },
  {
   "cell_type": "code",
   "execution_count": 6,
   "metadata": {},
   "outputs": [],
   "source": [
    "df = df.loc[df['ge'] == 1, :]"
   ]
  },
  {
   "cell_type": "code",
   "execution_count": 7,
   "metadata": {},
   "outputs": [],
   "source": [
    "df.loc[:, 'treat_eligible'] = df.loc[:, 'treat'].values * df.loc[:, 'eligible'].values"
   ]
  },
  {
   "cell_type": "code",
   "execution_count": 8,
   "metadata": {},
   "outputs": [],
   "source": [
    "df_treat = df.groupby(['village_code', 'sublocation_code', 'hi_sat', 'treat']).agg(\n",
    "    n_eligible=pd.NamedAgg(column='eligible', aggfunc='sum'),\n",
    "    n_household=pd.NamedAgg(column='eligible', aggfunc='count'),\n",
    ").reset_index()"
   ]
  },
  {
   "cell_type": "code",
   "execution_count": 9,
   "metadata": {},
   "outputs": [],
   "source": [
    "df_treat = pd.merge(\n",
    "    df_treat, df_village,\n",
    "    how='outer', left_on='village_code', right_on='village_co')"
   ]
  },
  {
   "cell_type": "code",
   "execution_count": 10,
   "metadata": {},
   "outputs": [],
   "source": [
    "df_treat = gpd.GeoDataFrame(df_treat, geometry='geometry', crs={'init': 'epsg:4326'})"
   ]
  },
  {
   "cell_type": "markdown",
   "metadata": {},
   "source": [
    "## Satellite"
   ]
  },
  {
   "cell_type": "code",
   "execution_count": 11,
   "metadata": {},
   "outputs": [],
   "source": [
    "df = gpd.read_file(SAT_IN_GEOM_DIR)\n",
    "df.geometry = df.geometry.centroid"
   ]
  },
  {
   "cell_type": "markdown",
   "metadata": {},
   "source": [
    "## Merge"
   ]
  },
  {
   "cell_type": "code",
   "execution_count": 12,
   "metadata": {},
   "outputs": [],
   "source": [
    "df = gpd.sjoin(df_treat, df, how='left', op='contains')"
   ]
  },
  {
   "cell_type": "code",
   "execution_count": 13,
   "metadata": {},
   "outputs": [
    {
     "data": {
      "text/plain": [
       "Index(['village_code', 'sublocation_code', 'hi_sat', 'treat', 'n_eligible',\n",
       "       'n_household', 'village_co', 'geometry', 'index_right', 'angle', 'xmin',\n",
       "       'ymin', 'width', 'height', 'R_mean', 'G_mean', 'B_mean', 'R_median',\n",
       "       'G_median', 'B_median', 'redness', 'luminosity', 'saturation', 'area',\n",
       "       'score', 'index', 'category_id'],\n",
       "      dtype='object')"
      ]
     },
     "execution_count": 13,
     "metadata": {},
     "output_type": "execute_result"
    }
   ],
   "source": [
    "df.columns"
   ]
  },
  {
   "cell_type": "code",
   "execution_count": 14,
   "metadata": {},
   "outputs": [],
   "source": [
    "df = df.loc[:, [\n",
    "    'village_code', 'sublocation_code', 'hi_sat', 'treat', 'n_eligible',\n",
    "    'n_household', 'angle', 'R_mean', 'G_mean', 'B_mean', 'R_median',\n",
    "    'G_median', 'B_median', 'luminosity', 'saturation', 'area', 'score']]"
   ]
  },
  {
   "cell_type": "code",
   "execution_count": 15,
   "metadata": {},
   "outputs": [],
   "source": [
    "df.to_csv(MERGE_IN_DIR, index=False)"
   ]
  },
  {
   "cell_type": "markdown",
   "metadata": {},
   "source": [
    "## Regresssion"
   ]
  },
  {
   "cell_type": "code",
   "execution_count": 16,
   "metadata": {},
   "outputs": [],
   "source": [
    "df = pd.read_csv(MERGE_IN_DIR)"
   ]
  },
  {
   "cell_type": "code",
   "execution_count": 17,
   "metadata": {},
   "outputs": [],
   "source": [
    "df = df.loc[df['score'] > 0.995, :]"
   ]
  },
  {
   "cell_type": "code",
   "execution_count": 18,
   "metadata": {},
   "outputs": [],
   "source": [
    "df_village = df.groupby([\n",
    "    'village_code', 'sublocation_code',\n",
    "    'hi_sat', 'treat', 'n_eligible', 'n_household'\n",
    "]).agg(\n",
    "    house_count=pd.NamedAgg(column='area', aggfunc='count'),\n",
    "    area_gini=pd.NamedAgg(column='area', aggfunc=gini),\n",
    "    area_sum=pd.NamedAgg(column='area', aggfunc='sum'),\n",
    "    luminosity=pd.NamedAgg(column='luminosity', aggfunc='mean'),\n",
    "    luminosity_gini=pd.NamedAgg(column='luminosity', aggfunc=gini),\n",
    ").reset_index()"
   ]
  },
  {
   "cell_type": "code",
   "execution_count": 19,
   "metadata": {},
   "outputs": [
    {
     "data": {
      "text/html": [
       "<div>\n",
       "<style scoped>\n",
       "    .dataframe tbody tr th:only-of-type {\n",
       "        vertical-align: middle;\n",
       "    }\n",
       "\n",
       "    .dataframe tbody tr th {\n",
       "        vertical-align: top;\n",
       "    }\n",
       "\n",
       "    .dataframe thead th {\n",
       "        text-align: right;\n",
       "    }\n",
       "</style>\n",
       "<table border=\"1\" class=\"dataframe\">\n",
       "  <thead>\n",
       "    <tr style=\"text-align: right;\">\n",
       "      <th></th>\n",
       "      <th>village_code</th>\n",
       "      <th>sublocation_code</th>\n",
       "      <th>hi_sat</th>\n",
       "      <th>treat</th>\n",
       "      <th>n_eligible</th>\n",
       "      <th>n_household</th>\n",
       "      <th>house_count</th>\n",
       "      <th>area_gini</th>\n",
       "      <th>area_sum</th>\n",
       "      <th>luminosity</th>\n",
       "      <th>luminosity_gini</th>\n",
       "    </tr>\n",
       "  </thead>\n",
       "  <tbody>\n",
       "    <tr>\n",
       "      <td>0</td>\n",
       "      <td>601010101002</td>\n",
       "      <td>601010101</td>\n",
       "      <td>0</td>\n",
       "      <td>0</td>\n",
       "      <td>45</td>\n",
       "      <td>125</td>\n",
       "      <td>73</td>\n",
       "      <td>0.257051</td>\n",
       "      <td>92194.0</td>\n",
       "      <td>0.705050</td>\n",
       "      <td>0.089032</td>\n",
       "    </tr>\n",
       "    <tr>\n",
       "      <td>1</td>\n",
       "      <td>601010101004</td>\n",
       "      <td>601010101</td>\n",
       "      <td>0</td>\n",
       "      <td>0</td>\n",
       "      <td>18</td>\n",
       "      <td>80</td>\n",
       "      <td>72</td>\n",
       "      <td>0.318482</td>\n",
       "      <td>104086.0</td>\n",
       "      <td>0.700776</td>\n",
       "      <td>0.119205</td>\n",
       "    </tr>\n",
       "    <tr>\n",
       "      <td>2</td>\n",
       "      <td>601010101009</td>\n",
       "      <td>601010101</td>\n",
       "      <td>0</td>\n",
       "      <td>0</td>\n",
       "      <td>33</td>\n",
       "      <td>142</td>\n",
       "      <td>83</td>\n",
       "      <td>0.262065</td>\n",
       "      <td>119579.0</td>\n",
       "      <td>0.640503</td>\n",
       "      <td>0.129223</td>\n",
       "    </tr>\n",
       "    <tr>\n",
       "      <td>3</td>\n",
       "      <td>601010101010</td>\n",
       "      <td>601010101</td>\n",
       "      <td>0</td>\n",
       "      <td>1</td>\n",
       "      <td>46</td>\n",
       "      <td>115</td>\n",
       "      <td>93</td>\n",
       "      <td>0.264020</td>\n",
       "      <td>124666.0</td>\n",
       "      <td>0.641208</td>\n",
       "      <td>0.128312</td>\n",
       "    </tr>\n",
       "    <tr>\n",
       "      <td>4</td>\n",
       "      <td>601010102001</td>\n",
       "      <td>601010102</td>\n",
       "      <td>0</td>\n",
       "      <td>0</td>\n",
       "      <td>41</td>\n",
       "      <td>125</td>\n",
       "      <td>67</td>\n",
       "      <td>0.353584</td>\n",
       "      <td>118163.0</td>\n",
       "      <td>0.674466</td>\n",
       "      <td>0.122675</td>\n",
       "    </tr>\n",
       "    <tr>\n",
       "      <td>...</td>\n",
       "      <td>...</td>\n",
       "      <td>...</td>\n",
       "      <td>...</td>\n",
       "      <td>...</td>\n",
       "      <td>...</td>\n",
       "      <td>...</td>\n",
       "      <td>...</td>\n",
       "      <td>...</td>\n",
       "      <td>...</td>\n",
       "      <td>...</td>\n",
       "      <td>...</td>\n",
       "    </tr>\n",
       "    <tr>\n",
       "      <td>648</td>\n",
       "      <td>601050504005</td>\n",
       "      <td>601050504</td>\n",
       "      <td>0</td>\n",
       "      <td>1</td>\n",
       "      <td>38</td>\n",
       "      <td>128</td>\n",
       "      <td>65</td>\n",
       "      <td>0.278335</td>\n",
       "      <td>94053.0</td>\n",
       "      <td>0.669698</td>\n",
       "      <td>0.146196</td>\n",
       "    </tr>\n",
       "    <tr>\n",
       "      <td>649</td>\n",
       "      <td>601050504006</td>\n",
       "      <td>601050504</td>\n",
       "      <td>0</td>\n",
       "      <td>1</td>\n",
       "      <td>35</td>\n",
       "      <td>141</td>\n",
       "      <td>58</td>\n",
       "      <td>0.260101</td>\n",
       "      <td>80430.0</td>\n",
       "      <td>0.672938</td>\n",
       "      <td>0.118360</td>\n",
       "    </tr>\n",
       "    <tr>\n",
       "      <td>650</td>\n",
       "      <td>601050504007</td>\n",
       "      <td>601050504</td>\n",
       "      <td>0</td>\n",
       "      <td>0</td>\n",
       "      <td>32</td>\n",
       "      <td>85</td>\n",
       "      <td>25</td>\n",
       "      <td>0.201456</td>\n",
       "      <td>37551.0</td>\n",
       "      <td>0.670784</td>\n",
       "      <td>0.128912</td>\n",
       "    </tr>\n",
       "    <tr>\n",
       "      <td>651</td>\n",
       "      <td>601050504008</td>\n",
       "      <td>601050504</td>\n",
       "      <td>0</td>\n",
       "      <td>0</td>\n",
       "      <td>13</td>\n",
       "      <td>60</td>\n",
       "      <td>56</td>\n",
       "      <td>0.306392</td>\n",
       "      <td>97573.0</td>\n",
       "      <td>0.644485</td>\n",
       "      <td>0.159163</td>\n",
       "    </tr>\n",
       "    <tr>\n",
       "      <td>652</td>\n",
       "      <td>601050504009</td>\n",
       "      <td>601050504</td>\n",
       "      <td>0</td>\n",
       "      <td>0</td>\n",
       "      <td>39</td>\n",
       "      <td>156</td>\n",
       "      <td>122</td>\n",
       "      <td>0.307540</td>\n",
       "      <td>220445.0</td>\n",
       "      <td>0.641876</td>\n",
       "      <td>0.150402</td>\n",
       "    </tr>\n",
       "  </tbody>\n",
       "</table>\n",
       "<p>653 rows × 11 columns</p>\n",
       "</div>"
      ],
      "text/plain": [
       "     village_code  sublocation_code  hi_sat  treat  n_eligible  n_household  \\\n",
       "0    601010101002         601010101       0      0          45          125   \n",
       "1    601010101004         601010101       0      0          18           80   \n",
       "2    601010101009         601010101       0      0          33          142   \n",
       "3    601010101010         601010101       0      1          46          115   \n",
       "4    601010102001         601010102       0      0          41          125   \n",
       "..            ...               ...     ...    ...         ...          ...   \n",
       "648  601050504005         601050504       0      1          38          128   \n",
       "649  601050504006         601050504       0      1          35          141   \n",
       "650  601050504007         601050504       0      0          32           85   \n",
       "651  601050504008         601050504       0      0          13           60   \n",
       "652  601050504009         601050504       0      0          39          156   \n",
       "\n",
       "     house_count  area_gini  area_sum  luminosity  luminosity_gini  \n",
       "0             73   0.257051   92194.0    0.705050         0.089032  \n",
       "1             72   0.318482  104086.0    0.700776         0.119205  \n",
       "2             83   0.262065  119579.0    0.640503         0.129223  \n",
       "3             93   0.264020  124666.0    0.641208         0.128312  \n",
       "4             67   0.353584  118163.0    0.674466         0.122675  \n",
       "..           ...        ...       ...         ...              ...  \n",
       "648           65   0.278335   94053.0    0.669698         0.146196  \n",
       "649           58   0.260101   80430.0    0.672938         0.118360  \n",
       "650           25   0.201456   37551.0    0.670784         0.128912  \n",
       "651           56   0.306392   97573.0    0.644485         0.159163  \n",
       "652          122   0.307540  220445.0    0.641876         0.150402  \n",
       "\n",
       "[653 rows x 11 columns]"
      ]
     },
     "execution_count": 19,
     "metadata": {},
     "output_type": "execute_result"
    }
   ],
   "source": [
    "df_village"
   ]
  },
  {
   "cell_type": "code",
   "execution_count": 20,
   "metadata": {},
   "outputs": [
    {
     "data": {
      "text/plain": [
       "<matplotlib.axes._subplots.AxesSubplot at 0x7f77335b7450>"
      ]
     },
     "execution_count": 20,
     "metadata": {},
     "output_type": "execute_result"
    },
    {
     "data": {
      "image/png": "[encoded data removed]",
      "text/plain": [
       "<Figure size 432x288 with 1 Axes>"
      ]
     },
     "metadata": {
      "needs_background": "light"
     },
     "output_type": "display_data"
    }
   ],
   "source": [
    "df_village.plot(x='n_household', y='house_count', kind='scatter')"
   ]
  },
  {
   "cell_type": "code",
   "execution_count": 21,
   "metadata": {},
   "outputs": [
    {
     "name": "stdout",
     "output_type": "stream",
     "text": [
      "                            OLS Regression Results                            \n",
      "==============================================================================\n",
      "Dep. Variable:            house_count   R-squared:                       0.004\n",
      "Model:                            OLS   Adj. R-squared:                  0.002\n",
      "Method:                 Least Squares   F-statistic:                     2.299\n",
      "Date:                Tue, 31 Mar 2020   Prob (F-statistic):              0.130\n",
      "Time:                        18:07:40   Log-Likelihood:                -3155.4\n",
      "No. Observations:                 653   AIC:                             6315.\n",
      "Df Residuals:                     651   BIC:                             6324.\n",
      "Df Model:                           1                                         \n",
      "Covariance Type:            nonrobust                                         \n",
      "==============================================================================\n",
      "                 coef    std err          t      P>|t|      [0.025      0.975]\n",
      "------------------------------------------------------------------------------\n",
      "Intercept     40.7692      1.687     24.169      0.000      37.457      44.082\n",
      "treat          3.6088      2.380      1.516      0.130      -1.065       8.282\n",
      "==============================================================================\n",
      "Omnibus:                      272.710   Durbin-Watson:                   1.269\n",
      "Prob(Omnibus):                  0.000   Jarque-Bera (JB):             1409.422\n",
      "Skew:                           1.827   Prob(JB):                    8.87e-307\n",
      "Kurtosis:                       9.201   Cond. No.                         2.62\n",
      "==============================================================================\n",
      "\n",
      "Warnings:\n",
      "[1] Standard Errors assume that the covariance matrix of the errors is correctly specified.\n"
     ]
    }
   ],
   "source": [
    "mod = smf.ols(formula='house_count ~ treat', data=df_village)\n",
    "res = mod.fit()\n",
    "print(res.summary())"
   ]
  },
  {
   "cell_type": "code",
   "execution_count": 22,
   "metadata": {},
   "outputs": [
    {
     "name": "stdout",
     "output_type": "stream",
     "text": [
      "                            OLS Regression Results                            \n",
      "==============================================================================\n",
      "Dep. Variable:               area_sum   R-squared:                       0.002\n",
      "Model:                            OLS   Adj. R-squared:                  0.000\n",
      "Method:                 Least Squares   F-statistic:                     1.163\n",
      "Date:                Tue, 31 Mar 2020   Prob (F-statistic):              0.281\n",
      "Time:                        18:07:40   Log-Likelihood:                -7972.7\n",
      "No. Observations:                 653   AIC:                         1.595e+04\n",
      "Df Residuals:                     651   BIC:                         1.596e+04\n",
      "Df Model:                           1                                         \n",
      "Covariance Type:            nonrobust                                         \n",
      "==============================================================================\n",
      "                 coef    std err          t      P>|t|      [0.025      0.975]\n",
      "------------------------------------------------------------------------------\n",
      "Intercept   6.469e+04   2697.178     23.983      0.000    5.94e+04       7e+04\n",
      "treat       4104.0335   3805.654      1.078      0.281   -3368.804    1.16e+04\n",
      "==============================================================================\n",
      "Omnibus:                      302.032   Durbin-Watson:                   1.361\n",
      "Prob(Omnibus):                  0.000   Jarque-Bera (JB):             1760.849\n",
      "Skew:                           2.014   Prob(JB):                         0.00\n",
      "Kurtosis:                       9.964   Cond. No.                         2.62\n",
      "==============================================================================\n",
      "\n",
      "Warnings:\n",
      "[1] Standard Errors assume that the covariance matrix of the errors is correctly specified.\n"
     ]
    }
   ],
   "source": [
    "mod = smf.ols(formula='area_sum ~ treat', data=df_village)\n",
    "res = mod.fit()\n",
    "print(res.summary())"
   ]
  },
  {
   "cell_type": "code",
   "execution_count": 23,
   "metadata": {},
   "outputs": [
    {
     "name": "stdout",
     "output_type": "stream",
     "text": [
      "                            OLS Regression Results                            \n",
      "==============================================================================\n",
      "Dep. Variable:             luminosity   R-squared:                       0.008\n",
      "Model:                            OLS   Adj. R-squared:                  0.007\n",
      "Method:                 Least Squares   F-statistic:                     5.550\n",
      "Date:                Tue, 31 Mar 2020   Prob (F-statistic):             0.0188\n",
      "Time:                        18:07:41   Log-Likelihood:                 1028.9\n",
      "No. Observations:                 653   AIC:                            -2054.\n",
      "Df Residuals:                     651   BIC:                            -2045.\n",
      "Df Model:                           1                                         \n",
      "Covariance Type:            nonrobust                                         \n",
      "==============================================================================\n",
      "                 coef    std err          t      P>|t|      [0.025      0.975]\n",
      "------------------------------------------------------------------------------\n",
      "Intercept      0.6548      0.003    235.434      0.000       0.649       0.660\n",
      "treat          0.0092      0.004      2.356      0.019       0.002       0.017\n",
      "==============================================================================\n",
      "Omnibus:                      230.403   Durbin-Watson:                   1.383\n",
      "Prob(Omnibus):                  0.000   Jarque-Bera (JB):             1677.930\n",
      "Skew:                          -1.379   Prob(JB):                         0.00\n",
      "Kurtosis:                      10.353   Cond. No.                         2.62\n",
      "==============================================================================\n",
      "\n",
      "Warnings:\n",
      "[1] Standard Errors assume that the covariance matrix of the errors is correctly specified.\n"
     ]
    }
   ],
   "source": [
    "mod = smf.ols(formula='luminosity ~ treat', data=df_village)\n",
    "res = mod.fit()\n",
    "print(res.summary())"
   ]
  },
  {
   "cell_type": "code",
   "execution_count": 24,
   "metadata": {},
   "outputs": [
    {
     "name": "stdout",
     "output_type": "stream",
     "text": [
      "                            OLS Regression Results                            \n",
      "==============================================================================\n",
      "Dep. Variable:              area_gini   R-squared:                       0.000\n",
      "Model:                            OLS   Adj. R-squared:                 -0.002\n",
      "Method:                 Least Squares   F-statistic:                  0.004628\n",
      "Date:                Tue, 31 Mar 2020   Prob (F-statistic):              0.946\n",
      "Time:                        18:07:41   Log-Likelihood:                 981.38\n",
      "No. Observations:                 653   AIC:                            -1959.\n",
      "Df Residuals:                     651   BIC:                            -1950.\n",
      "Df Model:                           1                                         \n",
      "Covariance Type:            nonrobust                                         \n",
      "==============================================================================\n",
      "                 coef    std err          t      P>|t|      [0.025      0.975]\n",
      "------------------------------------------------------------------------------\n",
      "Intercept      0.2411      0.003     80.605      0.000       0.235       0.247\n",
      "treat          0.0003      0.004      0.068      0.946      -0.008       0.009\n",
      "==============================================================================\n",
      "Omnibus:                       57.742   Durbin-Watson:                   1.749\n",
      "Prob(Omnibus):                  0.000   Jarque-Bera (JB):               93.143\n",
      "Skew:                          -0.613   Prob(JB):                     5.95e-21\n",
      "Kurtosis:                       4.386   Cond. No.                         2.62\n",
      "==============================================================================\n",
      "\n",
      "Warnings:\n",
      "[1] Standard Errors assume that the covariance matrix of the errors is correctly specified.\n"
     ]
    }
   ],
   "source": [
    "mod = smf.ols(formula='area_gini ~ treat', data=df_village)\n",
    "res = mod.fit()\n",
    "print(res.summary())"
   ]
  },
  {
   "cell_type": "code",
   "execution_count": 25,
   "metadata": {},
   "outputs": [
    {
     "name": "stdout",
     "output_type": "stream",
     "text": [
      "                            OLS Regression Results                            \n",
      "==============================================================================\n",
      "Dep. Variable:        luminosity_gini   R-squared:                       0.005\n",
      "Model:                            OLS   Adj. R-squared:                  0.004\n",
      "Method:                 Least Squares   F-statistic:                     3.584\n",
      "Date:                Tue, 31 Mar 2020   Prob (F-statistic):             0.0588\n",
      "Time:                        18:07:41   Log-Likelihood:                 1236.7\n",
      "No. Observations:                 653   AIC:                            -2469.\n",
      "Df Residuals:                     651   BIC:                            -2460.\n",
      "Df Model:                           1                                         \n",
      "Covariance Type:            nonrobust                                         \n",
      "==============================================================================\n",
      "                 coef    std err          t      P>|t|      [0.025      0.975]\n",
      "------------------------------------------------------------------------------\n",
      "Intercept      0.1298      0.002     64.139      0.000       0.126       0.134\n",
      "treat         -0.0054      0.003     -1.893      0.059      -0.011       0.000\n",
      "==============================================================================\n",
      "Omnibus:                       10.453   Durbin-Watson:                   1.324\n",
      "Prob(Omnibus):                  0.005   Jarque-Bera (JB):               16.861\n",
      "Skew:                           0.054   Prob(JB):                     0.000218\n",
      "Kurtosis:                       3.780   Cond. No.                         2.62\n",
      "==============================================================================\n",
      "\n",
      "Warnings:\n",
      "[1] Standard Errors assume that the covariance matrix of the errors is correctly specified.\n"
     ]
    }
   ],
   "source": [
    "mod = smf.ols(formula='luminosity_gini ~ treat', data=df_village)\n",
    "res = mod.fit()\n",
    "print(res.summary())"
   ]
  },
  {
   "cell_type": "code",
   "execution_count": null,
   "metadata": {},
   "outputs": [],
   "source": []
  }
 ],
 "metadata": {
  "kernelspec": {
   "display_name": "Python 3",
   "language": "python",
   "name": "python3"
  },
  "language_info": {
   "codemirror_mode": {
    "name": "ipython",
    "version": 3
   },
   "file_extension": ".py",
   "mimetype": "text/x-python",
   "name": "python",
   "nbconvert_exporter": "python",
   "pygments_lexer": "ipython3",
   "version": "3.7.4"
  }
 },
 "nbformat": 4,
 "nbformat_minor": 2
}
