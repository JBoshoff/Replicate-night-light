{
 "cells": [
  {
   "cell_type": "code",
   "execution_count": 1,
   "metadata": {},
   "outputs": [],
   "source": [
    "import numpy as np\n",
    "import scipy.spatial\n",
    "import pandas as pd\n",
    "import shapely\n",
    "import shapely.geometry\n",
    "import geopandas as gpd\n",
    "import matplotlib.pyplot as plt\n",
    "\n",
    "from sklearn.decomposition import PCA\n",
    "\n",
    "from maskrcnn.preprocess.sample_aoi import load_df"
   ]
  },
  {
   "cell_type": "code",
   "execution_count": 2,
   "metadata": {},
   "outputs": [],
   "source": [
    "IN_DIR_SHP = 'data/Shapefile/SHP2010/mglu2010v5_0/poligonos_urbanos.shp'\n",
    "IN_DIR_CEN = 'data/CPV/Raw/ITER2010/ITER_NALDBF10.csv'"
   ]
  },
  {
   "cell_type": "code",
   "execution_count": 3,
   "metadata": {},
   "outputs": [],
   "source": [
    "df_shp = gpd.read_file(IN_DIR_SHP)\n",
    "df_shp = df_shp.to_crs({'init': 'epsg:4326'})\n",
    "for col in df_shp.columns:\n",
    "    if col.startswith('CVE'):\n",
    "        df_shp[col] = df_shp[col].astype(int)\n",
    "df_shp.columns = ['ent', 'mun', 'loc', 'NOM_LOC', 'geometry']"
   ]
  },
  {
   "cell_type": "code",
   "execution_count": 4,
   "metadata": {},
   "outputs": [],
   "source": [
    "df_cen = load_df(IN_DIR_CEN, drop=False)\n",
    "df_cen = gpd.GeoDataFrame(\n",
    "    df_cen,\n",
    "    geometry=[shapely.geometry.Point(x, y) for x, y in\n",
    "              zip(df_cen['lon'].values, df_cen['lat'].values)])"
   ]
  },
  {
   "cell_type": "code",
   "execution_count": 5,
   "metadata": {},
   "outputs": [],
   "source": [
    "df = pd.merge(\n",
    "    # when using inner join mode, two localities are dropped\n",
    "    # from df_shp\n",
    "    # because one of them has VPH variables as N/D and\n",
    "    # one has those as * (masked)\n",
    "    # dropped seems fine since we are going to be using those\n",
    "    # data for validation\n",
    "    df_shp, df_cen, how='inner', on=['ent', 'mun', 'loc'],\n",
    "    # most points recorded in the census is in the polygon\n",
    "    # with some exceptions\n",
    "    # all the exceptions are cases where points lie close to\n",
    "    # the census tract but are outside it, b/c the census tract\n",
    "    # is non convex or just b/c measurement errors\n",
    "    # I'm sure that they are the same census block though\n",
    "    # they are never too far apart from each other\n",
    "    suffixes=('', '_point'))"
   ]
  },
  {
   "cell_type": "code",
   "execution_count": 6,
   "metadata": {},
   "outputs": [],
   "source": [
    "# compute asset score\n",
    "vph_cols = [col for col in df.columns if col.startswith('VPH')]"
   ]
  },
  {
   "cell_type": "code",
   "execution_count": 7,
   "metadata": {},
   "outputs": [],
   "source": [
    "centered = (df.loc[:, vph_cols].values -\n",
    "            df.loc[:, vph_cols].values.mean(axis=0)[np.newaxis, :])\n",
    "m = PCA(n_components=3)\n",
    "df = pd.concat([\n",
    "    df.reset_index(drop=True),\n",
    "    pd.DataFrame(m.fit_transform(centered),\n",
    "                 columns=['asset_score1', 'asset_score2', 'asset_score3'])],\n",
    "    axis=1)\n",
    "df['asset_score1'] = - df['asset_score1']"
   ]
  },
  {
   "cell_type": "code",
   "execution_count": 8,
   "metadata": {},
   "outputs": [],
   "source": [
    "area_median = df['geometry'].area.median()\n",
    "df = df.loc[df['geometry'].area < area_median, :].reset_index(drop=True)"
   ]
  },
  {
   "cell_type": "code",
   "execution_count": 9,
   "metadata": {},
   "outputs": [],
   "source": [
    "centroids = np.array([df['geometry'].centroid.x.values,\n",
    "                      df['geometry'].centroid.y.values]).T\n",
    "tree = scipy.spatial.cKDTree(centroids)"
   ]
  },
  {
   "cell_type": "code",
   "execution_count": 10,
   "metadata": {},
   "outputs": [],
   "source": [
    "k = 4\n",
    "tree_d, tree_i = tree.query(centroids, k=k)\n",
    "tree_d = tree_d[:, 1:]\n",
    "tree_i = tree_i[:, 1:]"
   ]
  },
  {
   "cell_type": "code",
   "execution_count": 11,
   "metadata": {},
   "outputs": [],
   "source": [
    "_, tree_j = np.meshgrid(range(k - 1), range(centroids.shape[0]))"
   ]
  },
  {
   "cell_type": "code",
   "execution_count": 12,
   "metadata": {},
   "outputs": [],
   "source": [
    "pairs = np.array([\n",
    "    tree_j[tree_d < np.sqrt(area_median)],\n",
    "    tree_i[tree_d < np.sqrt(area_median)]]).T"
   ]
  },
  {
   "cell_type": "code",
   "execution_count": 13,
   "metadata": {},
   "outputs": [],
   "source": [
    "pairs = np.vstack([pairs, pairs[:, ::-1]])"
   ]
  },
  {
   "cell_type": "code",
   "execution_count": 14,
   "metadata": {},
   "outputs": [],
   "source": [
    "pairs = np.unique(pairs, axis=0)\n",
    "pairs = pairs[pairs[:, 0] < pairs[:, 1], :]"
   ]
  },
  {
   "cell_type": "code",
   "execution_count": 15,
   "metadata": {},
   "outputs": [],
   "source": [
    "df_i = df.loc[[i for i, _ in pairs], :]\n",
    "df_j = df.loc[[j for _, j in pairs], :]\n",
    "df_i.loc[:, 'diff'] = (df_i.loc[:, 'asset_score1'].values -\n",
    "                       df_j.loc[:, 'asset_score1'].values)\n",
    "df_j.loc[:, 'diff'] = (df_j.loc[:, 'asset_score1'].values -\n",
    "                       df_i.loc[:, 'asset_score1'].values)"
   ]
  },
  {
   "cell_type": "code",
   "execution_count": 16,
   "metadata": {},
   "outputs": [],
   "source": [
    "df_i = df_i.reset_index(drop=True)\n",
    "df_i.loc[:, 'pair_id'] = df_i.index\n",
    "df_j = df_j.reset_index(drop=True)\n",
    "df_j.loc[:, 'pair_id'] = df_j.index"
   ]
  },
  {
   "cell_type": "code",
   "execution_count": 17,
   "metadata": {},
   "outputs": [],
   "source": [
    "df_i.loc[np.abs(df_i['diff'].values) > .5, [\n",
    "    'ent', 'mun', 'loc', 'geometry', 'asset_score1', 'diff', 'pair_id'\n",
    "]].to_file('data/tmp/urban_0.shp')\n",
    "df_j.loc[np.abs(df_j['diff'].values) > .5, [\n",
    "    'ent', 'mun', 'loc', 'geometry', 'asset_score1', 'diff', 'pair_id'\n",
    "]].to_file('data/tmp/urban_1.shp')"
   ]
  },
  {
   "cell_type": "code",
   "execution_count": null,
   "metadata": {},
   "outputs": [],
   "source": []
  }
 ],
 "metadata": {
  "kernelspec": {
   "display_name": "py37",
   "language": "python",
   "name": "py37"
  },
  "language_info": {
   "codemirror_mode": {
    "name": "ipython",
    "version": 3
   },
   "file_extension": ".py",
   "mimetype": "text/x-python",
   "name": "python",
   "nbconvert_exporter": "python",
   "pygments_lexer": "ipython3",
   "version": "3.7.4"
  }
 },
 "nbformat": 4,
 "nbformat_minor": 2
}
