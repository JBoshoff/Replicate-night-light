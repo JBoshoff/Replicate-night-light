{
 "cells": [
  {
   "cell_type": "code",
   "execution_count": 1,
   "metadata": {},
   "outputs": [],
   "source": [
    "import os\n",
    "import numpy as np\n",
    "import glob\n",
    "import pandas as pd\n",
    "import geopandas as gpd\n",
    "from argparse import Namespace\n",
    "import matplotlib.pyplot as plt\n",
    "\n",
    "from maskrcnn.postprocess.resample import Resampler"
   ]
  },
  {
   "cell_type": "code",
   "execution_count": 2,
   "metadata": {},
   "outputs": [],
   "source": [
    "# AOI index data w/ georeferencing info\n",
    "AOI_IN_DIR = 'data/Experiment4/aoi.csv'\n",
    "# download log data\n",
    "LOG_IN_DIR = 'data/Experiment4/aoi_download_log.csv'\n",
    "\n",
    "# satellite derived data\n",
    "SAT_IN_ANN_DIR = 'data/Siaya2/Pred/infer/'\n",
    "SAT_IN_IMG_DIR = 'data/Siaya2/Image/'\n",
    "SAT_IN_SHP_DIR = 'data/Experiment4/sat.shp'"
   ]
  },
  {
   "cell_type": "markdown",
   "metadata": {},
   "source": [
    "## Plotting Images and Annotations"
   ]
  },
  {
   "cell_type": "code",
   "execution_count": null,
   "metadata": {},
   "outputs": [],
   "source": [
    "# read image index data frame\n",
    "df = pd.merge(pd.read_csv(AOI_IN_DIR),\n",
    "              pd.read_csv(LOG_IN_DIR).loc[:, 'index'],\n",
    "              how='right', on='index')"
   ]
  },
  {
   "cell_type": "code",
   "execution_count": null,
   "metadata": {},
   "outputs": [],
   "source": [
    "# set up visualization cfg\n",
    "cfg = Namespace()\n",
    "cfg.visual_score_cutoff = 0.5\n",
    "cfg.xmax = 480\n",
    "cfg.ymax = 770\n",
    "cfg.up_scale = 1\n",
    "cfg.font = 'maskrcnn/utils/fonts/UbuntuMono-B.ttf'\n",
    "cfg.font_size = 40\n",
    "cfg.bbox_outline = [255, 255, 255, 255]  # white\n",
    "cfg.bbox_width = 6  # in pixels\n",
    "cfg.label_fill = [255, 255, 255, 255]\n",
    "cfg.category_palette = {\n",
    "    1: [150, 223, 228, 64],  # blue\n",
    "    2: [223, 150, 228, 64],\n",
    "    3: [228, 223, 150, 64],\n",
    "}\n",
    "cfg.int_dict = {\n",
    "    1: 'thatched roof',\n",
    "    2: 'metal roof',\n",
    "    3: 'colored roof',\n",
    "}"
   ]
  },
  {
   "cell_type": "code",
   "execution_count": null,
   "metadata": {},
   "outputs": [],
   "source": [
    "# link all inference data\n",
    "r = Resampler.from_bounds(\n",
    "    img_dir=SAT_IN_IMG_DIR,\n",
    "    ann_dir=SAT_IN_ANN_DIR,\n",
    "    indices=df['index'].values.tolist(),\n",
    "    bounds=df[['lon_min', 'lat_min', 'lon_max', 'lat_max']].values.tolist())"
   ]
  },
  {
   "cell_type": "code",
   "execution_count": null,
   "metadata": {},
   "outputs": [],
   "source": [
    "bounds = (34.38, 0.155, 34.3825, 0.1575)\n",
    "r.plot(bounds=bounds, width=5000, height=5000, mode='img')\n",
    "r.output"
   ]
  },
  {
   "cell_type": "code",
   "execution_count": null,
   "metadata": {
    "scrolled": true
   },
   "outputs": [],
   "source": [
    "r.plot(bounds=bounds, width=3000, height=3000, mode='ann', cfg=cfg)\n",
    "r.output"
   ]
  },
  {
   "cell_type": "markdown",
   "metadata": {},
   "source": [
    "## Plotting Raster"
   ]
  },
  {
   "cell_type": "code",
   "execution_count": null,
   "metadata": {},
   "outputs": [],
   "source": [
    "min_lon = 34.040  # 34.044261\n",
    "max_lon = 34.460  # 34.451611\n",
    "min_lat = -0.055  # -0.050481\n",
    "max_lat = 0.315  # 0.310766\n",
    "step = 0.005"
   ]
  },
  {
   "cell_type": "code",
   "execution_count": null,
   "metadata": {},
   "outputs": [],
   "source": [
    "\n",
    "\n"
   ]
  },
  {
   "cell_type": "code",
   "execution_count": null,
   "metadata": {},
   "outputs": [],
   "source": [
    "df = gpd.read_file(SAT_IN_SHP_DIR)\n",
    "\n",
    "df = df.loc[: , [\n",
    "    'angle', 'R_mean', 'G_mean', 'B_mean', 'R_median', 'G_median', 'B_median',\n",
    "    'redness', 'luminosity', 'saturation', 'area', 'score', 'category_i', 'geometry']]\n",
    "\n",
    "df.loc[:, 'centroid_lon'] = df.geometry.centroid.x.values\n",
    "df.loc[:, 'centroid_lat'] = df.geometry.centroid.y.values\n",
    "\n",
    "# snap to grid\n",
    "df.loc[:, 'grid_lon'] = np.round((df['centroid_lon'].values - min_lon) / step) * step + min_lon\n",
    "df.loc[:, 'grid_lat'] = np.round((df['centroid_lat'].values - min_lat) / step) * step + min_lat"
   ]
  },
  {
   "cell_type": "code",
   "execution_count": null,
   "metadata": {},
   "outputs": [],
   "source": [
    "df_group = df.groupby(['grid_lon', 'grid_lat']).agg(\n",
    "    count=pd.NamedAgg(column='area', aggfunc='count'),\n",
    "    area=pd.NamedAgg(column='area', aggfunc='mean'),\n",
    ")\n",
    "\n",
    "grid_lon, grid_lat = np.meshgrid(\n",
    "    np.linspace(min_lon, max_lon, (max_lon - min_lon) / step + 1),\n",
    "    np.linspace(min_lat, max_lat, (max_lat - min_lat) / step + 1))\n",
    "grid_shape = grid_lon.shape\n",
    "\n",
    "df_grid = pd.DataFrame({'grid_lon': grid_lon.flatten(), 'grid_lat': grid_lat.flatten()})\n",
    "\n",
    "df_grid = pd.merge(df_grid, df_group, how='left', on=['grid_lon', 'grid_lat'])\n",
    "\n",
    "df_grid.fillna(0)"
   ]
  },
  {
   "cell_type": "code",
   "execution_count": null,
   "metadata": {},
   "outputs": [],
   "source": [
    "raster = df_grid['count'].values.reshape(grid_shape)[::-1, :]"
   ]
  },
  {
   "cell_type": "code",
   "execution_count": null,
   "metadata": {},
   "outputs": [],
   "source": [
    "plt.imshow(raster, extent=(min_lon, max_lon, min_lat, max_lat))\n",
    "plt.colorbar()\n",
    "plt.show()"
   ]
  }
 ],
 "metadata": {
  "kernelspec": {
   "display_name": "Python 3",
   "language": "python",
   "name": "python3"
  },
  "language_info": {
   "codemirror_mode": {
    "name": "ipython",
    "version": 3
   },
   "file_extension": ".py",
   "mimetype": "text/x-python",
   "name": "python",
   "nbconvert_exporter": "python",
   "pygments_lexer": "ipython3",
   "version": "3.7.4"
  }
 },
 "nbformat": 4,
 "nbformat_minor": 2
}
