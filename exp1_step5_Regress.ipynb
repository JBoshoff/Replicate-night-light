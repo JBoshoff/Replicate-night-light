{
 "cells": [
  {
   "cell_type": "code",
   "execution_count": 1,
   "metadata": {},
   "outputs": [
    {
     "name": "stderr",
     "output_type": "stream",
     "text": [
      "\n",
      "Attaching package: ‘dplyr’\n",
      "\n",
      "The following objects are masked from ‘package:stats’:\n",
      "\n",
      "    filter, lag\n",
      "\n",
      "The following objects are masked from ‘package:base’:\n",
      "\n",
      "    intersect, setdiff, setequal, union\n",
      "\n",
      "Loading required package: Matrix\n",
      "\n",
      "Please cite as: \n",
      "\n",
      " Hlavac, Marek (2015). stargazer: Well-Formatted Regression and Summary Statistics Tables.\n",
      " R package version 5.2. http://CRAN.R-project.org/package=stargazer \n",
      "\n"
     ]
    }
   ],
   "source": [
    "# clear workspace\n",
    "rm(list=ls())\n",
    "\n",
    "# load libraries\n",
    "library(readr)\n",
    "library(dplyr)\n",
    "library(magrittr)\n",
    "library(ggplot2)\n",
    "library(lfe)\n",
    "library(stargazer)"
   ]
  },
  {
   "cell_type": "code",
   "execution_count": 2,
   "metadata": {},
   "outputs": [
    {
     "name": "stderr",
     "output_type": "stream",
     "text": [
      "Parsed with column specification:\n",
      "cols(\n",
      "  .default = col_double(),\n",
      "  s1_hhid_key = col_character(),\n",
      "  s6_q1a_electype = col_character()\n",
      ")\n",
      "See spec(...) for full column specifications.\n"
     ]
    }
   ],
   "source": [
    "# set absolute directory to be source file directory\n",
    "# working_dir <-\n",
    "#   rstudioapi::getActiveDocumentContext()$path %>%\n",
    "#   dirname()\n",
    "# setwd(working_dir)\n",
    "working_dir <- getwd()\n",
    "\n",
    "# define paths\n",
    "IN_DIR <- \"data/GiveDirectly/merged.csv\"\n",
    "OUT_DIR <- \"data/GiveDirectly/Output/\"\n",
    "\n",
    "# load data\n",
    "df <- read_csv(IN_DIR)"
   ]
  },
  {
   "cell_type": "code",
   "execution_count": 3,
   "metadata": {
    "scrolled": true
   },
   "outputs": [
    {
     "data": {
      "text/html": [
       "<ol class=list-inline>\n",
       "\t<li>'s1_hhid_key'</li>\n",
       "\t<li>'s6_q1_haselectricity'</li>\n",
       "\t<li>'s6_q1a_electype'</li>\n",
       "\t<li>'s6_q6_acresowned'</li>\n",
       "\t<li>'s6_q6b_agacresowned'</li>\n",
       "\t<li>'s6_q7_rentedland'</li>\n",
       "\t<li>'s6_q7a_acresrented'</li>\n",
       "\t<li>'s6_q7b_monthsrented'</li>\n",
       "\t<li>'s6_q7ci_landrent'</li>\n",
       "\t<li>'s6_q8_landrenting'</li>\n",
       "\t<li>'s6_q8a_acresrenting'</li>\n",
       "\t<li>'s6_q8b_agacresrenting'</li>\n",
       "\t<li>'s6_q8c_monthsrenting'</li>\n",
       "\t<li>'s19_gps_latitude'</li>\n",
       "\t<li>'s19_gps_longitude'</li>\n",
       "\t<li>'treat'</li>\n",
       "\t<li>'hi_sat'</li>\n",
       "\t<li>'p1_assets_wins'</li>\n",
       "\t<li>'p1_6_nonthatchedroof'</li>\n",
       "\t<li>'net_asset_value_home_wins'</li>\n",
       "\t<li>'p2_consumption_wins'</li>\n",
       "\t<li>'p3_1_agprofit_wins'</li>\n",
       "\t<li>'land_agacresowned_BL'</li>\n",
       "\t<li>'land_agvalue_BL'</li>\n",
       "\t<li>'aglandrentalcost_BL'</li>\n",
       "\t<li>'aglanduse_BL'</li>\n",
       "\t<li>'p1_assets_wins_BL'</li>\n",
       "\t<li>'net_asset_value_home_BL'</li>\n",
       "\t<li>'p1_6_nonthatchedroof_BL'</li>\n",
       "\t<li>'satcluster'</li>\n",
       "\t<li>'all_sat_house'</li>\n",
       "\t<li>'colored_sat_house'</li>\n",
       "\t<li>'metal_sat_house'</li>\n",
       "\t<li>'thatched_sat_house'</li>\n",
       "\t<li>'all_sat_size_mean'</li>\n",
       "\t<li>'colored_sat_size_mean'</li>\n",
       "\t<li>'metal_sat_size_mean'</li>\n",
       "\t<li>'thatched_sat_size_mean'</li>\n",
       "\t<li>'all_sat_size_sum'</li>\n",
       "\t<li>'colored_sat_size_sum'</li>\n",
       "\t<li>'metal_sat_size_sum'</li>\n",
       "\t<li>'thatched_sat_size_sum'</li>\n",
       "\t<li>'nightlight'</li>\n",
       "</ol>\n"
      ],
      "text/latex": [
       "\\begin{enumerate*}\n",
       "\\item 's1\\_hhid\\_key'\n",
       "\\item 's6\\_q1\\_haselectricity'\n",
       "\\item 's6\\_q1a\\_electype'\n",
       "\\item 's6\\_q6\\_acresowned'\n",
       "\\item 's6\\_q6b\\_agacresowned'\n",
       "\\item 's6\\_q7\\_rentedland'\n",
       "\\item 's6\\_q7a\\_acresrented'\n",
       "\\item 's6\\_q7b\\_monthsrented'\n",
       "\\item 's6\\_q7ci\\_landrent'\n",
       "\\item 's6\\_q8\\_landrenting'\n",
       "\\item 's6\\_q8a\\_acresrenting'\n",
       "\\item 's6\\_q8b\\_agacresrenting'\n",
       "\\item 's6\\_q8c\\_monthsrenting'\n",
       "\\item 's19\\_gps\\_latitude'\n",
       "\\item 's19\\_gps\\_longitude'\n",
       "\\item 'treat'\n",
       "\\item 'hi\\_sat'\n",
       "\\item 'p1\\_assets\\_wins'\n",
       "\\item 'p1\\_6\\_nonthatchedroof'\n",
       "\\item 'net\\_asset\\_value\\_home\\_wins'\n",
       "\\item 'p2\\_consumption\\_wins'\n",
       "\\item 'p3\\_1\\_agprofit\\_wins'\n",
       "\\item 'land\\_agacresowned\\_BL'\n",
       "\\item 'land\\_agvalue\\_BL'\n",
       "\\item 'aglandrentalcost\\_BL'\n",
       "\\item 'aglanduse\\_BL'\n",
       "\\item 'p1\\_assets\\_wins\\_BL'\n",
       "\\item 'net\\_asset\\_value\\_home\\_BL'\n",
       "\\item 'p1\\_6\\_nonthatchedroof\\_BL'\n",
       "\\item 'satcluster'\n",
       "\\item 'all\\_sat\\_house'\n",
       "\\item 'colored\\_sat\\_house'\n",
       "\\item 'metal\\_sat\\_house'\n",
       "\\item 'thatched\\_sat\\_house'\n",
       "\\item 'all\\_sat\\_size\\_mean'\n",
       "\\item 'colored\\_sat\\_size\\_mean'\n",
       "\\item 'metal\\_sat\\_size\\_mean'\n",
       "\\item 'thatched\\_sat\\_size\\_mean'\n",
       "\\item 'all\\_sat\\_size\\_sum'\n",
       "\\item 'colored\\_sat\\_size\\_sum'\n",
       "\\item 'metal\\_sat\\_size\\_sum'\n",
       "\\item 'thatched\\_sat\\_size\\_sum'\n",
       "\\item 'nightlight'\n",
       "\\end{enumerate*}\n"
      ],
      "text/markdown": [
       "1. 's1_hhid_key'\n",
       "2. 's6_q1_haselectricity'\n",
       "3. 's6_q1a_electype'\n",
       "4. 's6_q6_acresowned'\n",
       "5. 's6_q6b_agacresowned'\n",
       "6. 's6_q7_rentedland'\n",
       "7. 's6_q7a_acresrented'\n",
       "8. 's6_q7b_monthsrented'\n",
       "9. 's6_q7ci_landrent'\n",
       "10. 's6_q8_landrenting'\n",
       "11. 's6_q8a_acresrenting'\n",
       "12. 's6_q8b_agacresrenting'\n",
       "13. 's6_q8c_monthsrenting'\n",
       "14. 's19_gps_latitude'\n",
       "15. 's19_gps_longitude'\n",
       "16. 'treat'\n",
       "17. 'hi_sat'\n",
       "18. 'p1_assets_wins'\n",
       "19. 'p1_6_nonthatchedroof'\n",
       "20. 'net_asset_value_home_wins'\n",
       "21. 'p2_consumption_wins'\n",
       "22. 'p3_1_agprofit_wins'\n",
       "23. 'land_agacresowned_BL'\n",
       "24. 'land_agvalue_BL'\n",
       "25. 'aglandrentalcost_BL'\n",
       "26. 'aglanduse_BL'\n",
       "27. 'p1_assets_wins_BL'\n",
       "28. 'net_asset_value_home_BL'\n",
       "29. 'p1_6_nonthatchedroof_BL'\n",
       "30. 'satcluster'\n",
       "31. 'all_sat_house'\n",
       "32. 'colored_sat_house'\n",
       "33. 'metal_sat_house'\n",
       "34. 'thatched_sat_house'\n",
       "35. 'all_sat_size_mean'\n",
       "36. 'colored_sat_size_mean'\n",
       "37. 'metal_sat_size_mean'\n",
       "38. 'thatched_sat_size_mean'\n",
       "39. 'all_sat_size_sum'\n",
       "40. 'colored_sat_size_sum'\n",
       "41. 'metal_sat_size_sum'\n",
       "42. 'thatched_sat_size_sum'\n",
       "43. 'nightlight'\n",
       "\n",
       "\n"
      ],
      "text/plain": [
       " [1] \"s1_hhid_key\"               \"s6_q1_haselectricity\"     \n",
       " [3] \"s6_q1a_electype\"           \"s6_q6_acresowned\"         \n",
       " [5] \"s6_q6b_agacresowned\"       \"s6_q7_rentedland\"         \n",
       " [7] \"s6_q7a_acresrented\"        \"s6_q7b_monthsrented\"      \n",
       " [9] \"s6_q7ci_landrent\"          \"s6_q8_landrenting\"        \n",
       "[11] \"s6_q8a_acresrenting\"       \"s6_q8b_agacresrenting\"    \n",
       "[13] \"s6_q8c_monthsrenting\"      \"s19_gps_latitude\"         \n",
       "[15] \"s19_gps_longitude\"         \"treat\"                    \n",
       "[17] \"hi_sat\"                    \"p1_assets_wins\"           \n",
       "[19] \"p1_6_nonthatchedroof\"      \"net_asset_value_home_wins\"\n",
       "[21] \"p2_consumption_wins\"       \"p3_1_agprofit_wins\"       \n",
       "[23] \"land_agacresowned_BL\"      \"land_agvalue_BL\"          \n",
       "[25] \"aglandrentalcost_BL\"       \"aglanduse_BL\"             \n",
       "[27] \"p1_assets_wins_BL\"         \"net_asset_value_home_BL\"  \n",
       "[29] \"p1_6_nonthatchedroof_BL\"   \"satcluster\"               \n",
       "[31] \"all_sat_house\"             \"colored_sat_house\"        \n",
       "[33] \"metal_sat_house\"           \"thatched_sat_house\"       \n",
       "[35] \"all_sat_size_mean\"         \"colored_sat_size_mean\"    \n",
       "[37] \"metal_sat_size_mean\"       \"thatched_sat_size_mean\"   \n",
       "[39] \"all_sat_size_sum\"          \"colored_sat_size_sum\"     \n",
       "[41] \"metal_sat_size_sum\"        \"thatched_sat_size_sum\"    \n",
       "[43] \"nightlight\"               "
      ]
     },
     "metadata": {},
     "output_type": "display_data"
    }
   ],
   "source": [
    "names(df)"
   ]
  },
  {
   "cell_type": "code",
   "execution_count": 4,
   "metadata": {},
   "outputs": [],
   "source": [
    "df <- df %>% subset(p1_6_nonthatchedroof_BL == 0 & (!is.na(treat)))"
   ]
  },
  {
   "cell_type": "code",
   "execution_count": 5,
   "metadata": {},
   "outputs": [],
   "source": [
    "df[is.na(df$all_sat_size_mean),]$all_sat_size_mean = 0"
   ]
  },
  {
   "cell_type": "code",
   "execution_count": 6,
   "metadata": {},
   "outputs": [],
   "source": [
    "reg1 <- felm(nightlight ~ treat + hi_sat | 0 | 0 | satcluster, df)\n",
    "reg2 <- felm(all_sat_house ~ treat + hi_sat | 0 | 0 | satcluster, df)\n",
    "reg3 <- felm(all_sat_size_mean ~ treat + hi_sat | 0 | 0 | satcluster, df)\n",
    "reg4 <- felm(thatched_sat_house ~ treat + hi_sat | 0 | 0 | satcluster, df)\n",
    "reg5 <- felm(metal_sat_house ~ treat + hi_sat | 0 | 0 | satcluster, df)"
   ]
  },
  {
   "cell_type": "code",
   "execution_count": 7,
   "metadata": {},
   "outputs": [],
   "source": [
    "df_control <- df %>% subset(treat == 0 & hi_sat == 0)\n",
    "outcomes <- c(\"nightlight\", \"all_sat_house\", \"all_sat_size_mean\", \"thatched_sat_house\", \"metal_sat_house\")\n",
    "means <- colMeans(df_control[outcomes]) %>% as.vector() %>% round(3)\n",
    "stds <- apply(df_control[outcomes], 2, sd) %>% as.vector() %>% round(3) %>%\n",
    "    lapply(function(x) paste0(\"(\", x, \")\")) %>% unlist()"
   ]
  },
  {
   "cell_type": "code",
   "execution_count": 8,
   "metadata": {
    "scrolled": false
   },
   "outputs": [
    {
     "name": "stdout",
     "output_type": "stream",
     "text": [
      "\n",
      "% Table created by stargazer v.5.2 by Marek Hlavac, Harvard University. E-mail: hlavac at fas.harvard.edu\n",
      "% Date and time: Sat, Dec 07, 2019 - 03:07:06 AM\n",
      "\\begin{table}[!htbp] \\centering \n",
      "  \\caption{} \n",
      "  \\label{} \n",
      "\\begin{tabular}{@{\\extracolsep{5pt}}lccccc} \n",
      "\\\\[-1.8ex]\\hline \n",
      "\\hline \\\\[-1.8ex] \n",
      " & \\multicolumn{5}{c}{\\textit{Dependent variable:}} \\\\ \n",
      "\\cline{2-6} \n",
      "\\\\[-1.8ex] & Night Lights & No. of Houses within 100m Distance & Mean Size of Houses (sq meters) & No. of Houses w/ Thatched Roof & No. of Houses w/ Metal Roof \\\\ \n",
      "\\\\[-1.8ex] & (1) & (2) & (3) & (4) & (5)\\\\ \n",
      "\\hline \\\\[-1.8ex] \n",
      " Treatment & 0.011 & 0.342$^{***}$ & 8.860$^{***}$ & $-$0.263$^{***}$ & 0.602$^{***}$ \\\\ \n",
      "  & (0.070) & (0.106) & (3.185) & (0.065) & (0.098) \\\\ \n",
      "  & & & & & \\\\ \n",
      "\\hline \\\\[-1.8ex] \n",
      "Control Mean & 0.485 & 3.913 & 167.602 & 1.665 & 2.167 \\\\ \n",
      "(Std. Dev.) & (2.002) & (2.845) & (117.475) & (1.627) & (2.262) \\\\ \n",
      "Observations & 4,529 & 4,529 & 4,529 & 4,529 & 4,529 \\\\ \n",
      "\\hline \n",
      "\\hline \\\\[-1.8ex] \n",
      "\\textit{Note:}  & \\multicolumn{5}{r}{$^{*}$p$<$0.1; $^{**}$p$<$0.05; $^{***}$p$<$0.01} \\\\ \n",
      "\\end{tabular} \n",
      "\\end{table} \n"
     ]
    }
   ],
   "source": [
    "output <- stargazer(reg1, reg2, reg3, reg4, reg5,\n",
    "                    dep.var.labels=c(\"Night Lights\",\n",
    "                                     \"No. of Houses within 100m Distance\",\n",
    "                                     \"Mean Size of Houses (sq meters)\",\n",
    "                                     \"No. of Houses w/ Thatched Roof\",\n",
    "                                     \"No. of Houses w/ Metal Roof\"),\n",
    "                    keep=c(\"treat\"),\n",
    "                    keep.stat=c(\"n\"),\n",
    "                    add.lines=list(c(\"Control Mean\", means), c(\"(Std. Dev.)\", stds)),\n",
    "                    covariate.labels=c(\"Treatment\", \"Control Mean\"))\n",
    "cat(paste0(output, \"\\n\"), file=paste0(OUT_DIR, \"abbrev.tex\"))"
   ]
  },
  {
   "cell_type": "code",
   "execution_count": null,
   "metadata": {},
   "outputs": [],
   "source": []
  }
 ],
 "metadata": {
  "kernelspec": {
   "display_name": "R",
   "language": "R",
   "name": "ir"
  },
  "language_info": {
   "codemirror_mode": "r",
   "file_extension": ".r",
   "mimetype": "text/x-r-source",
   "name": "R",
   "pygments_lexer": "r",
   "version": "3.4.3"
  }
 },
 "nbformat": 4,
 "nbformat_minor": 2
}
