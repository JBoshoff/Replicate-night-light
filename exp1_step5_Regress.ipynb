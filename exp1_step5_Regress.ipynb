{
 "cells": [
  {
   "cell_type": "code",
   "execution_count": 1,
   "metadata": {},
   "outputs": [
    {
     "name": "stderr",
     "output_type": "stream",
     "text": [
      "\n",
      "Attaching package: ‘dplyr’\n",
      "\n",
      "The following objects are masked from ‘package:stats’:\n",
      "\n",
      "    filter, lag\n",
      "\n",
      "The following objects are masked from ‘package:base’:\n",
      "\n",
      "    intersect, setdiff, setequal, union\n",
      "\n"
     ]
    },
    {
     "ename": "ERROR",
     "evalue": "Error in library(lfe): there is no package called ‘lfe’\n",
     "output_type": "error",
     "traceback": [
      "Error in library(lfe): there is no package called ‘lfe’\nTraceback:\n",
      "1. library(lfe)",
      "2. stop(txt, domain = NA)"
     ]
    }
   ],
   "source": [
    "# clear workspace\n",
    "rm(list=ls())\n",
    "\n",
    "# load libraries\n",
    "library(readr)\n",
    "library(dplyr)\n",
    "library(magrittr)\n",
    "library(ggplot2)\n",
    "library(lfe)\n",
    "library(stargazer)"
   ]
  },
  {
   "cell_type": "code",
   "execution_count": null,
   "metadata": {},
   "outputs": [],
   "source": [
    "# set absolute directory to be source file directory\n",
    "working_dir <-\n",
    "  rstudioapi::getActiveDocumentContext()$path %>%\n",
    "  dirname()\n",
    "setwd(working_dir)\n",
    "getwd()\n",
    "\n",
    "# load data and explore\n",
    "data_dir <- \"data/GiveDirectly/merged.csv\"\n",
    "df <- read_csv(data_dir)\n",
    "df %<>% filter(!is.na(s19_gps_latitude) & !is.na(s19_gps_longitude))\n",
    "reg1 <- felm(building_fp ~ treat + hi_sat | 0 | 0 | satcluster, df)\n",
    "reg2 <- felm(building_fp ~ treat + hi_sat | 0 | 0 | satcluster, df[df$p1_6_nonthatchedroof_BL == 0,])\n",
    "output <- stargazer(reg1, reg2,\n",
    "                    dep.var.labels=c(\"Full Sample\", \"Eligible Households\"),\n",
    "                    covariate.labels=c(\"Treatment Village\", \"High Saturation Sublocation\", \"Constant\"))\n",
    "cat(paste0(output, \"\\n\"), file=\"../results/te.tex\")"
   ]
  }
 ],
 "metadata": {
  "kernelspec": {
   "display_name": "R",
   "language": "R",
   "name": "ir"
  },
  "language_info": {
   "codemirror_mode": "r",
   "file_extension": ".r",
   "mimetype": "text/x-r-source",
   "name": "R",
   "pygments_lexer": "r",
   "version": "3.4.3"
  }
 },
 "nbformat": 4,
 "nbformat_minor": 2
}
