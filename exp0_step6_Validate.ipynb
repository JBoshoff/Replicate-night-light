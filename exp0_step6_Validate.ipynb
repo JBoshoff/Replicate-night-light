{
 "cells": [
  {
   "cell_type": "code",
   "execution_count": 1,
   "metadata": {},
   "outputs": [],
   "source": [
    "import os\n",
    "import tqdm\n",
    "import json\n",
    "import numpy as np\n",
    "import pandas as pd\n",
    "import matplotlib.pyplot as plt\n",
    "import statsmodels.formula.api as smf\n",
    "\n",
    "from argparse import Namespace\n",
    "from glob import glob\n",
    "\n",
    "from sklearn.decomposition import PCA"
   ]
  },
  {
   "cell_type": "code",
   "execution_count": 2,
   "metadata": {},
   "outputs": [],
   "source": [
    "import cv2 as cv"
   ]
  },
  {
   "cell_type": "code",
   "execution_count": 3,
   "metadata": {},
   "outputs": [],
   "source": [
    "import shapely\n",
    "import shapely.geometry\n",
    "import shapely.ops\n",
    "import rasterio\n",
    "import rasterio.features\n",
    "import pycocotools\n",
    "import pycocotools.mask"
   ]
  },
  {
   "cell_type": "code",
   "execution_count": 4,
   "metadata": {},
   "outputs": [],
   "source": [
    "from maskrcnn.postprocess.validate import L, gini, plot_scatter"
   ]
  },
  {
   "cell_type": "code",
   "execution_count": 5,
   "metadata": {},
   "outputs": [],
   "source": [
    "import matplotlib\n",
    "matplotlib.rc('pdf', fonttype=42)"
   ]
  },
  {
   "cell_type": "code",
   "execution_count": 6,
   "metadata": {},
   "outputs": [],
   "source": [
    "def gini_series(x): return gini(x.values)"
   ]
  },
  {
   "cell_type": "code",
   "execution_count": 7,
   "metadata": {},
   "outputs": [],
   "source": [
    "def get_angle(segmentation):\n",
    "    \"\"\"Gets the dominant angle (0-90 degrees) of a segmentation mask.\n",
    "    \n",
    "    Args:\n",
    "        segmentation (dict): a COCO format segmentation mask (RLE)\n",
    "\n",
    "    Returns:\n",
    "        float: dominant angle, 0 =< angle < 90\n",
    "    \"\"\"\n",
    "    binary_mask = pycocotools.mask.decode(segmentation)\n",
    "    poly = shapely.ops.unary_union([\n",
    "        shapely.geometry.shape(geom)\n",
    "        for geom, val in rasterio.features.shapes(binary_mask, mask=binary_mask)\n",
    "        if val == 1])\n",
    "    poly = poly.simplify(3, preserve_topology=False)\n",
    "    coord_xs, coord_ys = poly.minimum_rotated_rectangle.exterior.xy\n",
    "    coord_xs = np.array(coord_xs)\n",
    "    coord_ys = np.array(coord_ys)\n",
    "    angles = np.arctan2(coord_ys[1:] - coord_ys[:4],\n",
    "                        coord_xs[1:] - coord_xs[:4]) / np.pi * 180\n",
    "    angle, = angles[(angles >=0 ) & (angles < 90)]\n",
    "    return angle"
   ]
  },
  {
   "cell_type": "code",
   "execution_count": 8,
   "metadata": {},
   "outputs": [],
   "source": [
    "# image index data\n",
    "IDX_IN_DIR = 'data/Experiment0/aoi.csv'\n",
    "# download log data\n",
    "LOG_IN_DIR = 'data/Experiment0/aoi_download_log.csv'\n",
    "\n",
    "# census data\n",
    "CEN_IN_DIR = 'data/Experiment0/census.csv'\n",
    "\n",
    "# satellite derived data\n",
    "SAT_IN_DIR = 'data/Mexico/Pred/infer/'\n",
    "SAT_IN_IMG_DIR = 'data/Mexico/Image/'\n",
    "# output path\n",
    "OUT_DIR = 'data/Experiment0/Output/'\n",
    "\n",
    "SAMPLE_NAME = '2019Oct9'\n",
    "\n",
    "# set up visualization cfg\n",
    "cfg = Namespace()\n",
    "cfg.visual_score_cutoff = 0.9\n",
    "cfg.xmax = 480\n",
    "cfg.ymax = 770"
   ]
  },
  {
   "cell_type": "code",
   "execution_count": 9,
   "metadata": {},
   "outputs": [],
   "source": [
    "# renamed columns in census, translate to English\n",
    "CEN_COLS = {\n",
    "    'POBTOT': 'cen_pop',\n",
    "    'VIVTOT': 'cen_house',\n",
    "    'TVIVHAB': 'cen_inhab',\n",
    "    'asset_score1': 'cen_asset_score1',\n",
    "    'asset_score2': 'cen_asset_score2',\n",
    "    'asset_score3': 'cen_asset_score3',\n",
    "    'VPH_SNBIEN': 'cen_nodurable',\n",
    "    'VPH_1CUART': 'cen_1room',\n",
    "    'VPH_3YMASC': 'cen_3plusroom',\n",
    "    'VPH_REFRI': 'cen_refri',\n",
    "    'VPH_AUTOM': 'cen_autom',\n",
    "    'VPH_C_ELEC': 'cen_elec',\n",
    "    'VPH_PISODT': 'cen_floor',\n",
    "    'VPH_AGUADV': 'cen_water',\n",
    "    'VPH_EXCSA': 'cen_toilet',\n",
    "    'VPH_DRENAJ': 'cen_drainage',\n",
    "    'VPH_INTER': 'cen_internet'\n",
    "}"
   ]
  },
  {
   "cell_type": "code",
   "execution_count": 10,
   "metadata": {},
   "outputs": [],
   "source": [
    "# read image index data frame\n",
    "df_idx = pd.merge(pd.read_csv(IDX_IN_DIR),\n",
    "                  pd.read_csv(LOG_IN_DIR),\n",
    "                  how='outer', on='index')\n",
    "df_idx = df_idx.loc[:, ['index', 'ent', 'mun', 'loc', 'chip',\n",
    "                        'status', 'lon_min', 'lon_max', 'lat_min', 'lat_max']]"
   ]
  },
  {
   "cell_type": "code",
   "execution_count": 11,
   "metadata": {},
   "outputs": [],
   "source": [
    "# read census data\n",
    "df_cen = pd.read_csv(CEN_IN_DIR)\n",
    "\n",
    "# drop NA localities with no images\n",
    "df_cen = pd.merge(\n",
    "    df_cen,\n",
    "    df_idx.groupby(['ent', 'mun', 'loc']).agg(\n",
    "        no_missing=pd.NamedAgg(column='status',\n",
    "                               aggfunc=lambda x: sum(pd.isna(x)))),\n",
    "    how='outer',\n",
    "    on=['ent', 'mun', 'loc'])\n",
    "df_cen = df_cen.loc[df_cen['no_missing'] == 0, :]"
   ]
  },
  {
   "cell_type": "code",
   "execution_count": 12,
   "metadata": {},
   "outputs": [],
   "source": [
    "# compute asset score\n",
    "vph_cols = [col for col in df_cen.columns if col.startswith('VPH')]\n",
    "centered = (df_cen.loc[:, vph_cols].values -\n",
    "            df_cen.loc[:, vph_cols].values.mean(axis=0)[np.newaxis, :])\n",
    "m = PCA(n_components=3)\n",
    "df_cen = pd.concat([\n",
    "    df_cen.reset_index(drop=True),\n",
    "    pd.DataFrame(m.fit_transform(centered),\n",
    "                 columns=['asset_score1', 'asset_score2', 'asset_score3'])],\n",
    "    axis=1)\n",
    "df_cen['asset_score1'] = - df_cen['asset_score1']"
   ]
  },
  {
   "cell_type": "code",
   "execution_count": 17,
   "metadata": {},
   "outputs": [],
   "source": [
    "# rename and select columns\n",
    "df_cen = (df_cen.loc[:, ['ent', 'mun', 'loc', 'sample'] + list(CEN_COLS.keys())]\n",
    "                .rename(columns=CEN_COLS))"
   ]
  },
  {
   "cell_type": "code",
   "execution_count": 18,
   "metadata": {},
   "outputs": [
    {
     "data": {
      "application/vnd.jupyter.widget-view+json": {
       "model_id": "d6d26e6d4d294560997e364cfdc260f4",
       "version_major": 2,
       "version_minor": 0
      },
      "text/plain": [
       "HBox(children=(IntProgress(value=0, max=4930), HTML(value='')))"
      ]
     },
     "metadata": {},
     "output_type": "display_data"
    },
    {
     "name": "stdout",
     "output_type": "stream",
     "text": [
      "\n"
     ]
    }
   ],
   "source": [
    "# read satellite predictions\n",
    "# from json annotations\n",
    "df_sat = []\n",
    "for file_name in tqdm.tqdm_notebook(\n",
    "        glob(SAT_IN_DIR + '*.json')):\n",
    "    with open(file_name, 'r') as f:\n",
    "        ann = json.load(f)\n",
    "    img_file = os.path.join(\n",
    "        SAT_IN_IMG_DIR,\n",
    "        (os.path.relpath(file_name, SAT_IN_DIR)\n",
    "         .replace('.json', '.png')))\n",
    "    img = cv.imread(img_file)\n",
    "    img = cv.resize(img, (800, 800))\n",
    "    for ins in ann:\n",
    "        binary_mask = pycocotools.mask.decode(ins['segmentation'])\n",
    "        binary_mask = (binary_mask * 255).astype(np.uint8)\n",
    "        ins['RGB_mean'] = cv.mean(img, binary_mask)[0:3]\n",
    "    df_sat += ann\n",
    "df_sat = pd.DataFrame(df_sat)"
   ]
  },
  {
   "cell_type": "code",
   "execution_count": 19,
   "metadata": {},
   "outputs": [],
   "source": [
    "# drop low score predictions\n",
    "df_sat = df_sat.loc[df_sat['score'] > cfg.visual_score_cutoff, :]\n",
    "\n",
    "# drop predictions on logos\n",
    "df_sat = pd.concat([\n",
    "    df_sat.reset_index(drop=True),\n",
    "    pd.DataFrame(df_sat['bbox'].values.tolist(),\n",
    "                 columns=['xmin', 'ymin', 'width', 'height'])],\n",
    "    axis=1)\n",
    "df_sat = df_sat.loc[~((df_sat['xmin'] > cfg.xmax) & (df_sat['ymin'] > cfg.ymax)), :]"
   ]
  },
  {
   "cell_type": "code",
   "execution_count": 20,
   "metadata": {},
   "outputs": [],
   "source": [
    "# merge with locality identifiers\n",
    "df_sat = pd.merge(df_idx, df_sat,\n",
    "                  how='right', left_on='index', right_on='image_id_str')"
   ]
  },
  {
   "cell_type": "code",
   "execution_count": 21,
   "metadata": {},
   "outputs": [],
   "source": [
    "# calculate centroid\n",
    "# remember that the lon/lat min/max are the chip bbox, not the instance bbox\n",
    "# the following is instance centroid\n",
    "df_sat['lon_center'] = (df_sat['lon_min'] +\n",
    "    (df_sat['xmin'] + df_sat['width'] / 2) / 800 *\n",
    "    (df_sat['lon_max'] - df_sat['lon_min']))\n",
    "df_sat['lat_center'] = (df_sat['lat_max'] -\n",
    "    (df_sat['ymin'] + df_sat['height'] / 2) / 800 *\n",
    "    (df_sat['lat_max'] - df_sat['lat_min']))"
   ]
  },
  {
   "cell_type": "code",
   "execution_count": 22,
   "metadata": {},
   "outputs": [],
   "source": [
    "df_sat['angle'] = df_sat['segmentation'].apply(get_angle)"
   ]
  },
  {
   "cell_type": "code",
   "execution_count": 23,
   "metadata": {},
   "outputs": [],
   "source": [
    "df_sat['luminosity'] = df_sat['RGB_mean'].apply(\n",
    "    lambda x: np.mean([np.max(x[0:3]), np.min(x[0:3])]) / 255)\n",
    "df_sat['saturation'] = df_sat['RGB_mean'].apply(\n",
    "    lambda x: ((np.max(x[0:3]) - np.min(x[0:3])) / 255 /\n",
    "               (1 - np.abs(2 * np.mean([np.max(x[0:3]), np.min(x[0:3])]) / 255 - 1))))"
   ]
  },
  {
   "cell_type": "code",
   "execution_count": 24,
   "metadata": {},
   "outputs": [],
   "source": [
    "# grouping into localities\n",
    "df_group = df_sat.groupby(['ent', 'mun', 'loc']).agg(\n",
    "    sat_house=pd.NamedAgg(column='score', aggfunc='count'),\n",
    "    sat_size_mean=pd.NamedAgg(column='area', aggfunc=np.nanmean),\n",
    "    sat_lum_mean=pd.NamedAgg(column='luminosity', aggfunc=np.nanmean),\n",
    "    sat_saturation_mean=pd.NamedAgg(column='saturation', aggfunc=np.nanmean),\n",
    "    sat_size_gini=pd.NamedAgg(column='area', aggfunc=gini_series),\n",
    "    sat_size_sum=pd.NamedAgg(column='area', aggfunc=np.nansum)\n",
    ")\n",
    "# calculate K function values\n",
    "tile_size = 1.6516e-3\n",
    "for i, col in zip([.5, 1, 1.5],\n",
    "                  ['sat_dist_h05', 'sat_dist_h10', 'sat_dist_h15']):\n",
    "    df_group[col] = df_sat.groupby(['ent', 'mun', 'loc']).apply(\n",
    "        lambda grp: L(grp[['lon_center', 'lat_center']].values,\n",
    "                      A=(tile_size ** 2) * 25, h=tile_size * i))\n",
    "\n",
    "# scale areas / distances\n",
    "df_group[['sat_size_mean', 'sat_size_sum']] *= (\n",
    "    ((tile_size / 800 * 111000) ** 2) * np.cos(23 / 180 * np.pi))  # in sq meters"
   ]
  },
  {
   "cell_type": "code",
   "execution_count": 25,
   "metadata": {},
   "outputs": [],
   "source": [
    "df_group['sat_angle_align'] = df_sat.groupby(['ent', 'mun', 'loc']).apply(\n",
    "    lambda grp: np.sort(np.histogram(\n",
    "        grp['angle'].values,\n",
    "        bins=9, range=(0, 90), density=True)[0] * 10)[-2:].sum())"
   ]
  },
  {
   "cell_type": "code",
   "execution_count": 26,
   "metadata": {},
   "outputs": [
    {
     "data": {
      "text/html": [
       "<div>\n",
       "<style scoped>\n",
       "    .dataframe tbody tr th:only-of-type {\n",
       "        vertical-align: middle;\n",
       "    }\n",
       "\n",
       "    .dataframe tbody tr th {\n",
       "        vertical-align: top;\n",
       "    }\n",
       "\n",
       "    .dataframe thead th {\n",
       "        text-align: right;\n",
       "    }\n",
       "</style>\n",
       "<table border=\"1\" class=\"dataframe\">\n",
       "  <thead>\n",
       "    <tr style=\"text-align: right;\">\n",
       "      <th></th>\n",
       "      <th></th>\n",
       "      <th></th>\n",
       "      <th>sat_house</th>\n",
       "      <th>sat_size_mean</th>\n",
       "      <th>sat_lum_mean</th>\n",
       "      <th>sat_saturation_mean</th>\n",
       "      <th>sat_size_gini</th>\n",
       "      <th>sat_size_sum</th>\n",
       "      <th>sat_dist_h05</th>\n",
       "      <th>sat_dist_h10</th>\n",
       "      <th>sat_dist_h15</th>\n",
       "      <th>sat_angle_align</th>\n",
       "    </tr>\n",
       "    <tr>\n",
       "      <th>ent</th>\n",
       "      <th>mun</th>\n",
       "      <th>loc</th>\n",
       "      <th></th>\n",
       "      <th></th>\n",
       "      <th></th>\n",
       "      <th></th>\n",
       "      <th></th>\n",
       "      <th></th>\n",
       "      <th></th>\n",
       "      <th></th>\n",
       "      <th></th>\n",
       "      <th></th>\n",
       "    </tr>\n",
       "  </thead>\n",
       "  <tbody>\n",
       "    <tr>\n",
       "      <td>3</td>\n",
       "      <td>1</td>\n",
       "      <td>817</td>\n",
       "      <td>3</td>\n",
       "      <td>54.688045</td>\n",
       "      <td>0.637534</td>\n",
       "      <td>0.201711</td>\n",
       "      <td>0.188961</td>\n",
       "      <td>164.064135</td>\n",
       "      <td>-0.000826</td>\n",
       "      <td>0.002153</td>\n",
       "      <td>0.001327</td>\n",
       "      <td>1.000000</td>\n",
       "    </tr>\n",
       "    <tr>\n",
       "      <td>4</td>\n",
       "      <td>10</td>\n",
       "      <td>127</td>\n",
       "      <td>67</td>\n",
       "      <td>68.735829</td>\n",
       "      <td>0.835004</td>\n",
       "      <td>0.179827</td>\n",
       "      <td>0.274074</td>\n",
       "      <td>4605.300567</td>\n",
       "      <td>0.000558</td>\n",
       "      <td>0.000797</td>\n",
       "      <td>0.000873</td>\n",
       "      <td>0.597015</td>\n",
       "    </tr>\n",
       "    <tr>\n",
       "      <td rowspan=\"3\" valign=\"top\">5</td>\n",
       "      <td>4</td>\n",
       "      <td>243</td>\n",
       "      <td>2</td>\n",
       "      <td>113.476888</td>\n",
       "      <td>0.656774</td>\n",
       "      <td>0.066380</td>\n",
       "      <td>0.137913</td>\n",
       "      <td>226.953775</td>\n",
       "      <td>0.002469</td>\n",
       "      <td>0.001643</td>\n",
       "      <td>0.000817</td>\n",
       "      <td>1.000000</td>\n",
       "    </tr>\n",
       "    <tr>\n",
       "      <td>11</td>\n",
       "      <td>153</td>\n",
       "      <td>6</td>\n",
       "      <td>75.200090</td>\n",
       "      <td>0.657462</td>\n",
       "      <td>0.055431</td>\n",
       "      <td>0.347404</td>\n",
       "      <td>451.200541</td>\n",
       "      <td>0.001076</td>\n",
       "      <td>0.001038</td>\n",
       "      <td>0.000213</td>\n",
       "      <td>1.000000</td>\n",
       "    </tr>\n",
       "    <tr>\n",
       "      <td>24</td>\n",
       "      <td>161</td>\n",
       "      <td>8</td>\n",
       "      <td>145.531993</td>\n",
       "      <td>0.524934</td>\n",
       "      <td>0.038663</td>\n",
       "      <td>0.266053</td>\n",
       "      <td>1164.255948</td>\n",
       "      <td>0.001016</td>\n",
       "      <td>0.000678</td>\n",
       "      <td>-0.000007</td>\n",
       "      <td>0.875000</td>\n",
       "    </tr>\n",
       "    <tr>\n",
       "      <td>...</td>\n",
       "      <td>...</td>\n",
       "      <td>...</td>\n",
       "      <td>...</td>\n",
       "      <td>...</td>\n",
       "      <td>...</td>\n",
       "      <td>...</td>\n",
       "      <td>...</td>\n",
       "      <td>...</td>\n",
       "      <td>...</td>\n",
       "      <td>...</td>\n",
       "      <td>...</td>\n",
       "      <td>...</td>\n",
       "    </tr>\n",
       "    <tr>\n",
       "      <td rowspan=\"5\" valign=\"top\">32</td>\n",
       "      <td rowspan=\"2\" valign=\"top\">38</td>\n",
       "      <td>63</td>\n",
       "      <td>131</td>\n",
       "      <td>73.123215</td>\n",
       "      <td>0.529901</td>\n",
       "      <td>0.158309</td>\n",
       "      <td>0.311170</td>\n",
       "      <td>9579.141195</td>\n",
       "      <td>0.000214</td>\n",
       "      <td>0.000274</td>\n",
       "      <td>0.000204</td>\n",
       "      <td>0.778626</td>\n",
       "    </tr>\n",
       "    <tr>\n",
       "      <td>210</td>\n",
       "      <td>53</td>\n",
       "      <td>62.461882</td>\n",
       "      <td>0.672886</td>\n",
       "      <td>0.114130</td>\n",
       "      <td>0.304979</td>\n",
       "      <td>3310.479732</td>\n",
       "      <td>0.000842</td>\n",
       "      <td>0.001055</td>\n",
       "      <td>0.000923</td>\n",
       "      <td>0.867925</td>\n",
       "    </tr>\n",
       "    <tr>\n",
       "      <td>43</td>\n",
       "      <td>3</td>\n",
       "      <td>6</td>\n",
       "      <td>58.941918</td>\n",
       "      <td>0.526094</td>\n",
       "      <td>0.091582</td>\n",
       "      <td>0.210179</td>\n",
       "      <td>353.651506</td>\n",
       "      <td>0.000727</td>\n",
       "      <td>0.001643</td>\n",
       "      <td>0.001165</td>\n",
       "      <td>0.666667</td>\n",
       "    </tr>\n",
       "    <tr>\n",
       "      <td>45</td>\n",
       "      <td>91</td>\n",
       "      <td>16</td>\n",
       "      <td>83.524548</td>\n",
       "      <td>0.545061</td>\n",
       "      <td>0.102133</td>\n",
       "      <td>0.267679</td>\n",
       "      <td>1336.392773</td>\n",
       "      <td>0.000476</td>\n",
       "      <td>0.000190</td>\n",
       "      <td>-0.000148</td>\n",
       "      <td>0.437500</td>\n",
       "    </tr>\n",
       "    <tr>\n",
       "      <td>46</td>\n",
       "      <td>22</td>\n",
       "      <td>13</td>\n",
       "      <td>75.019127</td>\n",
       "      <td>0.639495</td>\n",
       "      <td>0.153717</td>\n",
       "      <td>0.303742</td>\n",
       "      <td>975.248651</td>\n",
       "      <td>0.000855</td>\n",
       "      <td>0.000671</td>\n",
       "      <td>0.000807</td>\n",
       "      <td>0.692308</td>\n",
       "    </tr>\n",
       "  </tbody>\n",
       "</table>\n",
       "<p>197 rows × 10 columns</p>\n",
       "</div>"
      ],
      "text/plain": [
       "             sat_house  sat_size_mean  sat_lum_mean  sat_saturation_mean  \\\n",
       "ent mun loc                                                                \n",
       "3   1   817          3      54.688045      0.637534             0.201711   \n",
       "4   10  127         67      68.735829      0.835004             0.179827   \n",
       "5   4   243          2     113.476888      0.656774             0.066380   \n",
       "    11  153          6      75.200090      0.657462             0.055431   \n",
       "    24  161          8     145.531993      0.524934             0.038663   \n",
       "...                ...            ...           ...                  ...   \n",
       "32  38  63         131      73.123215      0.529901             0.158309   \n",
       "        210         53      62.461882      0.672886             0.114130   \n",
       "    43  3            6      58.941918      0.526094             0.091582   \n",
       "    45  91          16      83.524548      0.545061             0.102133   \n",
       "    46  22          13      75.019127      0.639495             0.153717   \n",
       "\n",
       "             sat_size_gini  sat_size_sum  sat_dist_h05  sat_dist_h10  \\\n",
       "ent mun loc                                                            \n",
       "3   1   817       0.188961    164.064135     -0.000826      0.002153   \n",
       "4   10  127       0.274074   4605.300567      0.000558      0.000797   \n",
       "5   4   243       0.137913    226.953775      0.002469      0.001643   \n",
       "    11  153       0.347404    451.200541      0.001076      0.001038   \n",
       "    24  161       0.266053   1164.255948      0.001016      0.000678   \n",
       "...                    ...           ...           ...           ...   \n",
       "32  38  63        0.311170   9579.141195      0.000214      0.000274   \n",
       "        210       0.304979   3310.479732      0.000842      0.001055   \n",
       "    43  3         0.210179    353.651506      0.000727      0.001643   \n",
       "    45  91        0.267679   1336.392773      0.000476      0.000190   \n",
       "    46  22        0.303742    975.248651      0.000855      0.000671   \n",
       "\n",
       "             sat_dist_h15  sat_angle_align  \n",
       "ent mun loc                                 \n",
       "3   1   817      0.001327         1.000000  \n",
       "4   10  127      0.000873         0.597015  \n",
       "5   4   243      0.000817         1.000000  \n",
       "    11  153      0.000213         1.000000  \n",
       "    24  161     -0.000007         0.875000  \n",
       "...                   ...              ...  \n",
       "32  38  63       0.000204         0.778626  \n",
       "        210      0.000923         0.867925  \n",
       "    43  3        0.001165         0.666667  \n",
       "    45  91      -0.000148         0.437500  \n",
       "    46  22       0.000807         0.692308  \n",
       "\n",
       "[197 rows x 10 columns]"
      ]
     },
     "execution_count": 26,
     "metadata": {},
     "output_type": "execute_result"
    }
   ],
   "source": [
    "df_group"
   ]
  },
  {
   "cell_type": "code",
   "execution_count": 27,
   "metadata": {},
   "outputs": [],
   "source": [
    "# drop outliers\n",
    "df_group = df_group.loc[\n",
    "    ((df_group['sat_size_mean'] <= df_group['sat_size_mean'].quantile(q=0.97)) &\n",
    "     (df_group['sat_house'] <= df_group['sat_house'].quantile(q=0.97))), :]"
   ]
  },
  {
   "cell_type": "code",
   "execution_count": 28,
   "metadata": {},
   "outputs": [],
   "source": [
    "# merge satellite and census\n",
    "df_group = pd.merge(\n",
    "    df_group,\n",
    "    df_cen,\n",
    "    how='inner', on=['ent', 'mun', 'loc'])"
   ]
  },
  {
   "cell_type": "code",
   "execution_count": 29,
   "metadata": {},
   "outputs": [],
   "source": [
    "# select sample\n",
    "df_group = df_group.loc[df_group['sample'] == SAMPLE_NAME, :]"
   ]
  },
  {
   "cell_type": "code",
   "execution_count": 30,
   "metadata": {},
   "outputs": [],
   "source": [
    "# massive plotting begins\n",
    "sat_cols = [col for col in df_group.columns if col.startswith('sat')]\n",
    "cen_cols = [col for col in df_group.columns if col.startswith('cen')]\n",
    "for sat_col in sat_cols:\n",
    "    for cen_col in cen_cols:\n",
    "        plot_scatter(col_x_key=cen_col, col_y_key=sat_col,\n",
    "                     col_x_label=cen_col, col_y_label=sat_col,\n",
    "                     df=df_group, out_dir=os.path.join(OUT_DIR, 'all'))"
   ]
  },
  {
   "cell_type": "code",
   "execution_count": 31,
   "metadata": {},
   "outputs": [
    {
     "data": {
      "image/png": "[encoded data removed]",
      "text/plain": [
       "<Figure size 324x216 with 1 Axes>"
      ]
     },
     "metadata": {
      "needs_background": "light"
     },
     "output_type": "display_data"
    }
   ],
   "source": [
    "# hand-picked figures\n",
    "plot_scatter(\n",
    "    col_x_key='cen_house',\n",
    "    col_x_label='Census: House Count',\n",
    "    transform_x=lambda x: np.log10(x + 1),\n",
    "    xlim=(np.log10(0 + 1.5), np.log10(1000 + 500)),\n",
    "    xticks=[np.log10(1 + 1), np.log10(10 + 1), np.log10(100 + 1), np.log10(1000 + 1)],\n",
    "    xticklabels=[1, 10, 100, 1000],\n",
    "    col_y_key='sat_house',\n",
    "    col_y_label='Satellite: House Count',\n",
    "    transform_y=lambda x: np.log10(x + 1),\n",
    "    ylim=(np.log10(0 + 1.5), np.log10(1000 + 500)),\n",
    "    yticks=[np.log10(1 + 1), np.log10(10 + 1), np.log10(100 + 1), np.log10(1000 + 1)],\n",
    "    yticklabels=[1, 10, 100, 1000],\n",
    "    square=True, df=df_group, out_dir=OUT_DIR, show=True)"
   ]
  },
  {
   "cell_type": "code",
   "execution_count": 32,
   "metadata": {},
   "outputs": [
    {
     "data": {
      "image/png": "[encoded data removed]",
      "text/plain": [
       "<Figure size 324x216 with 1 Axes>"
      ]
     },
     "metadata": {
      "needs_background": "light"
     },
     "output_type": "display_data"
    }
   ],
   "source": [
    "plot_scatter(\n",
    "    col_x_key='cen_pop',\n",
    "    col_x_label='Census: Population Count',\n",
    "    transform_x=lambda x: np.log10(x + 1),\n",
    "    xlim=(np.log10(3), np.log10(3000)),\n",
    "    xticks=[np.log10(10 + 1), np.log10(100 + 1), np.log10(1000 + 1)],\n",
    "    xticklabels=[10, 100, 1000],\n",
    "    col_y_key='sat_house',\n",
    "    col_y_label='Satellite: House Count',\n",
    "    transform_y=lambda x: np.log10(x + 1),\n",
    "    ylim=(np.log10(0 + 1.5), np.log10(1000 + 500)),\n",
    "    yticks=[np.log10(1 + 1), np.log10(10 + 1), np.log10(100 + 1), np.log10(1000 + 1)],\n",
    "    yticklabels=[1, 10, 100, 1000],\n",
    "    line=True, df=df_group, out_dir=OUT_DIR, show=True)"
   ]
  },
  {
   "cell_type": "code",
   "execution_count": 33,
   "metadata": {},
   "outputs": [
    {
     "data": {
      "image/png": "[encoded data removed]",
      "text/plain": [
       "<Figure size 324x216 with 1 Axes>"
      ]
     },
     "metadata": {
      "needs_background": "light"
     },
     "output_type": "display_data"
    }
   ],
   "source": [
    "plot_scatter(\n",
    "    col_x_key='cen_3plusroom',\n",
    "    col_x_label='Census: Households Living in Houses with 3+ Rooms',\n",
    "    xticks=[0, .25, .5, .75, 1],\n",
    "    xticklabels=['0%', '25%', '50%', '75%', '100%'],\n",
    "    col_y_key='sat_size_mean',\n",
    "    col_y_label='Satellite: Mean House Size (sq meters)',\n",
    "    line=True, df=df_group, out_dir=OUT_DIR, show=True)"
   ]
  },
  {
   "cell_type": "code",
   "execution_count": 34,
   "metadata": {},
   "outputs": [
    {
     "data": {
      "image/png": "[encoded data removed]",
      "text/plain": [
       "<Figure size 324x216 with 1 Axes>"
      ]
     },
     "metadata": {
      "needs_background": "light"
     },
     "output_type": "display_data"
    }
   ],
   "source": [
    "plot_scatter(\n",
    "    col_x_key='cen_asset_score1',\n",
    "    col_x_label='Census: Asset Score (PCA 1st Dimension)',\n",
    "    col_y_key='sat_size_mean',\n",
    "    col_y_label='Satellite: Mean House Size (sq meters)',\n",
    "    line=True, df=df_group, out_dir=OUT_DIR, show=True)"
   ]
  },
  {
   "cell_type": "code",
   "execution_count": 35,
   "metadata": {},
   "outputs": [
    {
     "data": {
      "image/png": "[encoded data removed]",
      "text/plain": [
       "<Figure size 324x216 with 1 Axes>"
      ]
     },
     "metadata": {
      "needs_background": "light"
     },
     "output_type": "display_data"
    }
   ],
   "source": [
    "plot_scatter(\n",
    "    col_x_key='cen_asset_score1',\n",
    "    col_x_label='Census: Asset Score (PCA 1st Dimension)',\n",
    "    col_y_key='sat_size_gini',\n",
    "    col_y_label='Satellite: Gini Coefficient in House Size',\n",
    "    line=True, df=df_group, out_dir=OUT_DIR, show=True)"
   ]
  },
  {
   "cell_type": "code",
   "execution_count": 36,
   "metadata": {
    "scrolled": true
   },
   "outputs": [],
   "source": [
    "model = smf.ols('cen_asset_score1 ~ sat_house + sat_size_mean + sat_dist_h05', data=df_group)\n",
    "res = model.fit()\n",
    "df_group['sat_asset_score1_pred'] = res.fittedvalues"
   ]
  },
  {
   "cell_type": "code",
   "execution_count": 37,
   "metadata": {},
   "outputs": [
    {
     "data": {
      "image/png": "[encoded data removed]",
      "text/plain": [
       "<Figure size 324x216 with 1 Axes>"
      ]
     },
     "metadata": {
      "needs_background": "light"
     },
     "output_type": "display_data"
    }
   ],
   "source": [
    "plot_scatter(\n",
    "    col_x_key='cen_asset_score1',\n",
    "    col_x_label='Census: Asset Score (PCA 1st Dimension)',\n",
    "    col_y_key='sat_asset_score1_pred',\n",
    "    col_y_label='Satellite: Predicted Asset Score',\n",
    "    xlim=(-2.5, 2.5),\n",
    "    ylim=(-2.5, 2.5),\n",
    "    line=True, df=df_group, out_dir=OUT_DIR, show=True)"
   ]
  },
  {
   "cell_type": "code",
   "execution_count": null,
   "metadata": {},
   "outputs": [],
   "source": []
  }
 ],
 "metadata": {
  "kernelspec": {
   "display_name": "py37",
   "language": "python",
   "name": "py37"
  },
  "language_info": {
   "codemirror_mode": {
    "name": "ipython",
    "version": 3
   },
   "file_extension": ".py",
   "mimetype": "text/x-python",
   "name": "python",
   "nbconvert_exporter": "python",
   "pygments_lexer": "ipython3",
   "version": "3.7.4"
  }
 },
 "nbformat": 4,
 "nbformat_minor": 2
}
