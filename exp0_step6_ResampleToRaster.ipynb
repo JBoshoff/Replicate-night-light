{
 "cells": [
  {
   "cell_type": "code",
   "execution_count": 1,
   "metadata": {},
   "outputs": [],
   "source": [
    "import pandas as pd"
   ]
  },
  {
   "cell_type": "code",
   "execution_count": 2,
   "metadata": {},
   "outputs": [],
   "source": [
    "from maskrcnn.postprocess.resample import Resampler"
   ]
  },
  {
   "cell_type": "code",
   "execution_count": 3,
   "metadata": {},
   "outputs": [],
   "source": [
    "# AOI index data w/ georeferencing info\n",
    "AOI_IN_DIR = 'data/Experiment0/aoi.csv'\n",
    "# download log data\n",
    "LOG_IN_DIR = 'data/Experiment0/aoi_download_log.csv'\n",
    "# satellite derived annotations\n",
    "ANN_IN_DIR = 'data/GoogleStaticMapLarge/Pred/infer/'"
   ]
  },
  {
   "cell_type": "code",
   "execution_count": null,
   "metadata": {},
   "outputs": [],
   "source": [
    "# set up visualization cfg\n",
    "cfg = Namespace()\n",
    "cfg.visual_score_cutoff = 0.8\n",
    "cfg.xmax = 480\n",
    "cfg.ymax = 770"
   ]
  },
  {
   "cell_type": "code",
   "execution_count": 4,
   "metadata": {},
   "outputs": [],
   "source": [
    "# read image index data frame\n",
    "df = pd.merge(pd.read_csv(AOI_IN_DIR),\n",
    "              pd.read_csv(LOG_IN_DIR).loc[:, 'index'],\n",
    "              how='right', on='index')"
   ]
  },
  {
   "cell_type": "code",
   "execution_count": 5,
   "metadata": {},
   "outputs": [],
   "source": [
    "# link all inference data\n",
    "r = Resampler.from_bounds(\n",
    "    ann_dir=ANN_IN_DIR,\n",
    "    indices=df['index'].values.tolist(),\n",
    "    bounds=df[['lon_min', 'lat_min', 'lon_max', 'lat_max']].values.tolist())"
   ]
  }
 ],
 "metadata": {
  "kernelspec": {
   "display_name": "py37",
   "language": "python",
   "name": "py37"
  },
  "language_info": {
   "codemirror_mode": {
    "name": "ipython",
    "version": 3
   },
   "file_extension": ".py",
   "mimetype": "text/x-python",
   "name": "python",
   "nbconvert_exporter": "python",
   "pygments_lexer": "ipython3",
   "version": "3.7.4"
  }
 },
 "nbformat": 4,
 "nbformat_minor": 2
}
